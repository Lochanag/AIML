{
  "nbformat": 4,
  "nbformat_minor": 0,
  "metadata": {
    "colab": {
      "provenance": [],
      "mount_file_id": "16LgrTooto-AaS2VzlH3_OGfqbd6LGv32",
      "authorship_tag": "ABX9TyMnNubRArEL1CORAo7cYXpE",
      "include_colab_link": true
    },
    "kernelspec": {
      "name": "python3",
      "display_name": "Python 3"
    },
    "language_info": {
      "name": "python"
    }
  },
  "cells": [
    {
      "cell_type": "markdown",
      "metadata": {
        "id": "view-in-github",
        "colab_type": "text"
      },
      "source": [
        "<a href=\"https://colab.research.google.com/github/Lochanag/AIML/blob/main/Untitled6.ipynb\" target=\"_parent\"><img src=\"https://colab.research.google.com/assets/colab-badge.svg\" alt=\"Open In Colab\"/></a>"
      ]
    },
    {
      "cell_type": "code",
      "execution_count": null,
      "metadata": {
        "colab": {
          "base_uri": "https://localhost:8080/"
        },
        "id": "1pApev-OOrHq",
        "outputId": "01e547c2-fc4c-4e3e-c12a-307a2f2884de"
      },
      "outputs": [
        {
          "output_type": "stream",
          "name": "stdout",
          "text": [
            "      Invoice ID Branch       City Customer type  Gender  \\\n",
            "0    750-67-8428      A     Yangon        Member  Female   \n",
            "1    226-31-3081      C  Naypyitaw        Normal  Female   \n",
            "2    631-41-3108      A     Yangon        Normal    Male   \n",
            "3    123-19-1176      A     Yangon        Member    Male   \n",
            "4    373-73-7910      A     Yangon        Normal    Male   \n",
            "..           ...    ...        ...           ...     ...   \n",
            "995  233-67-5758      C  Naypyitaw        Normal    Male   \n",
            "996  303-96-2227      B   Mandalay        Normal  Female   \n",
            "997  727-02-1313      A     Yangon        Member    Male   \n",
            "998  347-56-2442      A     Yangon        Normal    Male   \n",
            "999  849-09-3807      A     Yangon        Member  Female   \n",
            "\n",
            "               Product line  Unit price  Quantity   Tax 5%      Total  \\\n",
            "0         Health and beauty       74.69         7  26.1415   548.9715   \n",
            "1    Electronic accessories       15.28         5   3.8200    80.2200   \n",
            "2        Home and lifestyle       46.33         7  16.2155   340.5255   \n",
            "3         Health and beauty       58.22         8  23.2880   489.0480   \n",
            "4         Sports and travel       86.31         7  30.2085   634.3785   \n",
            "..                      ...         ...       ...      ...        ...   \n",
            "995       Health and beauty       40.35         1   2.0175    42.3675   \n",
            "996      Home and lifestyle       97.38        10  48.6900  1022.4900   \n",
            "997      Food and beverages       31.84         1   1.5920    33.4320   \n",
            "998      Home and lifestyle       65.82         1   3.2910    69.1110   \n",
            "999     Fashion accessories       88.34         7  30.9190   649.2990   \n",
            "\n",
            "           Date   Time      Payment    cogs  gross margin percentage  \\\n",
            "0    01-05-2019  13:08      Ewallet  522.83                 4.761905   \n",
            "1    03-08-2019  10:29         Cash   76.40                 4.761905   \n",
            "2    03-03-2019  13:23  Credit card  324.31                 4.761905   \n",
            "3     1/27/2019  20:33      Ewallet  465.76                 4.761905   \n",
            "4    02-08-2019  10:37      Ewallet  604.17                 4.761905   \n",
            "..          ...    ...          ...     ...                      ...   \n",
            "995   1/29/2019  13:46      Ewallet   40.35                 4.761905   \n",
            "996  03-02-2019  17:16      Ewallet  973.80                 4.761905   \n",
            "997  02-09-2019  13:22         Cash   31.84                 4.761905   \n",
            "998   2/22/2019  15:33         Cash   65.82                 4.761905   \n",
            "999   2/18/2019  13:28         Cash  618.38                 4.761905   \n",
            "\n",
            "     gross income  Rating  \n",
            "0         26.1415     9.1  \n",
            "1          3.8200     9.6  \n",
            "2         16.2155     7.4  \n",
            "3         23.2880     8.4  \n",
            "4         30.2085     5.3  \n",
            "..            ...     ...  \n",
            "995        2.0175     6.2  \n",
            "996       48.6900     4.4  \n",
            "997        1.5920     7.7  \n",
            "998        3.2910     4.1  \n",
            "999       30.9190     6.6  \n",
            "\n",
            "[1000 rows x 17 columns]\n"
          ]
        }
      ],
      "source": [
        "import pandas as pd\n",
        "data=pd.read_csv(\"/content/158cs22025.csv\")\n",
        "print(data)"
      ]
    },
    {
      "cell_type": "code",
      "source": [
        "import pandas as pd\n",
        "data=pd.read_csv(\"/content/158cs22025.csv\")\n",
        "clined_data=data.dropna()\n",
        "print(clined_data)"
      ],
      "metadata": {
        "colab": {
          "base_uri": "https://localhost:8080/"
        },
        "id": "zUoiTQjEQN_A",
        "outputId": "31011ff5-761a-4270-f3ee-1c4a947fb29d"
      },
      "execution_count": null,
      "outputs": [
        {
          "output_type": "stream",
          "name": "stdout",
          "text": [
            "      Invoice ID Branch       City Customer type  Gender  \\\n",
            "0    750-67-8428      A     Yangon        Member  Female   \n",
            "1    226-31-3081      C  Naypyitaw        Normal  Female   \n",
            "2    631-41-3108      A     Yangon        Normal    Male   \n",
            "3    123-19-1176      A     Yangon        Member    Male   \n",
            "4    373-73-7910      A     Yangon        Normal    Male   \n",
            "..           ...    ...        ...           ...     ...   \n",
            "995  233-67-5758      C  Naypyitaw        Normal    Male   \n",
            "996  303-96-2227      B   Mandalay        Normal  Female   \n",
            "997  727-02-1313      A     Yangon        Member    Male   \n",
            "998  347-56-2442      A     Yangon        Normal    Male   \n",
            "999  849-09-3807      A     Yangon        Member  Female   \n",
            "\n",
            "               Product line  Unit price  Quantity   Tax 5%      Total  \\\n",
            "0         Health and beauty       74.69         7  26.1415   548.9715   \n",
            "1    Electronic accessories       15.28         5   3.8200    80.2200   \n",
            "2        Home and lifestyle       46.33         7  16.2155   340.5255   \n",
            "3         Health and beauty       58.22         8  23.2880   489.0480   \n",
            "4         Sports and travel       86.31         7  30.2085   634.3785   \n",
            "..                      ...         ...       ...      ...        ...   \n",
            "995       Health and beauty       40.35         1   2.0175    42.3675   \n",
            "996      Home and lifestyle       97.38        10  48.6900  1022.4900   \n",
            "997      Food and beverages       31.84         1   1.5920    33.4320   \n",
            "998      Home and lifestyle       65.82         1   3.2910    69.1110   \n",
            "999     Fashion accessories       88.34         7  30.9190   649.2990   \n",
            "\n",
            "           Date   Time      Payment    cogs  gross margin percentage  \\\n",
            "0    01-05-2019  13:08      Ewallet  522.83                 4.761905   \n",
            "1    03-08-2019  10:29         Cash   76.40                 4.761905   \n",
            "2    03-03-2019  13:23  Credit card  324.31                 4.761905   \n",
            "3     1/27/2019  20:33      Ewallet  465.76                 4.761905   \n",
            "4    02-08-2019  10:37      Ewallet  604.17                 4.761905   \n",
            "..          ...    ...          ...     ...                      ...   \n",
            "995   1/29/2019  13:46      Ewallet   40.35                 4.761905   \n",
            "996  03-02-2019  17:16      Ewallet  973.80                 4.761905   \n",
            "997  02-09-2019  13:22         Cash   31.84                 4.761905   \n",
            "998   2/22/2019  15:33         Cash   65.82                 4.761905   \n",
            "999   2/18/2019  13:28         Cash  618.38                 4.761905   \n",
            "\n",
            "     gross income  Rating  \n",
            "0         26.1415     9.1  \n",
            "1          3.8200     9.6  \n",
            "2         16.2155     7.4  \n",
            "3         23.2880     8.4  \n",
            "4         30.2085     5.3  \n",
            "..            ...     ...  \n",
            "995        2.0175     6.2  \n",
            "996       48.6900     4.4  \n",
            "997        1.5920     7.7  \n",
            "998        3.2910     4.1  \n",
            "999       30.9190     6.6  \n",
            "\n",
            "[1000 rows x 17 columns]\n"
          ]
        }
      ]
    },
    {
      "cell_type": "code",
      "source": [
        "import pandas as pd\n",
        "data=pd.read_csv(\"/content/158cs22025.csv\")\n",
        "clined_data=data.dropna(axis=1)\n",
        "print(clined_data)"
      ],
      "metadata": {
        "colab": {
          "base_uri": "https://localhost:8080/"
        },
        "id": "1hKmw8SfQdt_",
        "outputId": "861dd127-dcc7-44c9-f439-656c4041fb9b"
      },
      "execution_count": null,
      "outputs": [
        {
          "output_type": "stream",
          "name": "stdout",
          "text": [
            "      Invoice ID Branch       City Customer type  Gender  \\\n",
            "0    750-67-8428      A     Yangon        Member  Female   \n",
            "1    226-31-3081      C  Naypyitaw        Normal  Female   \n",
            "2    631-41-3108      A     Yangon        Normal    Male   \n",
            "3    123-19-1176      A     Yangon        Member    Male   \n",
            "4    373-73-7910      A     Yangon        Normal    Male   \n",
            "..           ...    ...        ...           ...     ...   \n",
            "995  233-67-5758      C  Naypyitaw        Normal    Male   \n",
            "996  303-96-2227      B   Mandalay        Normal  Female   \n",
            "997  727-02-1313      A     Yangon        Member    Male   \n",
            "998  347-56-2442      A     Yangon        Normal    Male   \n",
            "999  849-09-3807      A     Yangon        Member  Female   \n",
            "\n",
            "               Product line  Unit price  Quantity   Tax 5%      Total  \\\n",
            "0         Health and beauty       74.69         7  26.1415   548.9715   \n",
            "1    Electronic accessories       15.28         5   3.8200    80.2200   \n",
            "2        Home and lifestyle       46.33         7  16.2155   340.5255   \n",
            "3         Health and beauty       58.22         8  23.2880   489.0480   \n",
            "4         Sports and travel       86.31         7  30.2085   634.3785   \n",
            "..                      ...         ...       ...      ...        ...   \n",
            "995       Health and beauty       40.35         1   2.0175    42.3675   \n",
            "996      Home and lifestyle       97.38        10  48.6900  1022.4900   \n",
            "997      Food and beverages       31.84         1   1.5920    33.4320   \n",
            "998      Home and lifestyle       65.82         1   3.2910    69.1110   \n",
            "999     Fashion accessories       88.34         7  30.9190   649.2990   \n",
            "\n",
            "           Date   Time      Payment    cogs  gross margin percentage  \\\n",
            "0    01-05-2019  13:08      Ewallet  522.83                 4.761905   \n",
            "1    03-08-2019  10:29         Cash   76.40                 4.761905   \n",
            "2    03-03-2019  13:23  Credit card  324.31                 4.761905   \n",
            "3     1/27/2019  20:33      Ewallet  465.76                 4.761905   \n",
            "4    02-08-2019  10:37      Ewallet  604.17                 4.761905   \n",
            "..          ...    ...          ...     ...                      ...   \n",
            "995   1/29/2019  13:46      Ewallet   40.35                 4.761905   \n",
            "996  03-02-2019  17:16      Ewallet  973.80                 4.761905   \n",
            "997  02-09-2019  13:22         Cash   31.84                 4.761905   \n",
            "998   2/22/2019  15:33         Cash   65.82                 4.761905   \n",
            "999   2/18/2019  13:28         Cash  618.38                 4.761905   \n",
            "\n",
            "     gross income  Rating  \n",
            "0         26.1415     9.1  \n",
            "1          3.8200     9.6  \n",
            "2         16.2155     7.4  \n",
            "3         23.2880     8.4  \n",
            "4         30.2085     5.3  \n",
            "..            ...     ...  \n",
            "995        2.0175     6.2  \n",
            "996       48.6900     4.4  \n",
            "997        1.5920     7.7  \n",
            "998        3.2910     4.1  \n",
            "999       30.9190     6.6  \n",
            "\n",
            "[1000 rows x 17 columns]\n"
          ]
        }
      ]
    },
    {
      "cell_type": "code",
      "source": [
        "import pandas as pd\n",
        "import numpy as np\n",
        "data=pd.read_csv(\"/content/158cs22025.csv\")\n",
        "numeric_columns=data.select_dtypes(include=np.number).columns\n",
        "data_numeric=data[numeric_columns]\n",
        "data_imputed_mean=data_numeric.fillna(data_numeric.mean())\n",
        "print(data_imputed_mean)"
      ],
      "metadata": {
        "colab": {
          "base_uri": "https://localhost:8080/"
        },
        "id": "HQkAbPAwQiTe",
        "outputId": "1efade2a-a08d-4902-b70c-1de5b47acc29"
      },
      "execution_count": null,
      "outputs": [
        {
          "output_type": "stream",
          "name": "stdout",
          "text": [
            "     Unit price  Quantity   Tax 5%      Total    cogs  \\\n",
            "0         74.69         7  26.1415   548.9715  522.83   \n",
            "1         15.28         5   3.8200    80.2200   76.40   \n",
            "2         46.33         7  16.2155   340.5255  324.31   \n",
            "3         58.22         8  23.2880   489.0480  465.76   \n",
            "4         86.31         7  30.2085   634.3785  604.17   \n",
            "..          ...       ...      ...        ...     ...   \n",
            "995       40.35         1   2.0175    42.3675   40.35   \n",
            "996       97.38        10  48.6900  1022.4900  973.80   \n",
            "997       31.84         1   1.5920    33.4320   31.84   \n",
            "998       65.82         1   3.2910    69.1110   65.82   \n",
            "999       88.34         7  30.9190   649.2990  618.38   \n",
            "\n",
            "     gross margin percentage  gross income  Rating  \n",
            "0                   4.761905       26.1415     9.1  \n",
            "1                   4.761905        3.8200     9.6  \n",
            "2                   4.761905       16.2155     7.4  \n",
            "3                   4.761905       23.2880     8.4  \n",
            "4                   4.761905       30.2085     5.3  \n",
            "..                       ...           ...     ...  \n",
            "995                 4.761905        2.0175     6.2  \n",
            "996                 4.761905       48.6900     4.4  \n",
            "997                 4.761905        1.5920     7.7  \n",
            "998                 4.761905        3.2910     4.1  \n",
            "999                 4.761905       30.9190     6.6  \n",
            "\n",
            "[1000 rows x 8 columns]\n"
          ]
        }
      ]
    },
    {
      "cell_type": "markdown",
      "source": [
        "outliers"
      ],
      "metadata": {
        "id": "53OmMCjLRYt7"
      }
    },
    {
      "cell_type": "code",
      "source": [
        "import pandas as pd\n",
        "df=pd.read_csv('/content/158cs22025.csv')\n",
        "z_score=(df-df.mean(numeric_only=True)/df.std(numeric_only=True))\n",
        "outliers=z_score[z_score>3]\n",
        "print(outliers)\n"
      ],
      "metadata": {
        "colab": {
          "base_uri": "https://localhost:8080/"
        },
        "id": "xmiRT69pRWKA",
        "outputId": "38f93fe0-61d6-4eff-ab56-635ee699419c"
      },
      "execution_count": null,
      "outputs": [
        {
          "output_type": "stream",
          "name": "stdout",
          "text": [
            "    Branch City Customer type Date Gender Invoice ID Payment Product line  \\\n",
            "0      NaN  NaN           NaN  NaN    NaN        NaN     NaN          NaN   \n",
            "1      NaN  NaN           NaN  NaN    NaN        NaN     NaN          NaN   \n",
            "2      NaN  NaN           NaN  NaN    NaN        NaN     NaN          NaN   \n",
            "3      NaN  NaN           NaN  NaN    NaN        NaN     NaN          NaN   \n",
            "4      NaN  NaN           NaN  NaN    NaN        NaN     NaN          NaN   \n",
            "..     ...  ...           ...  ...    ...        ...     ...          ...   \n",
            "995    NaN  NaN           NaN  NaN    NaN        NaN     NaN          NaN   \n",
            "996    NaN  NaN           NaN  NaN    NaN        NaN     NaN          NaN   \n",
            "997    NaN  NaN           NaN  NaN    NaN        NaN     NaN          NaN   \n",
            "998    NaN  NaN           NaN  NaN    NaN        NaN     NaN          NaN   \n",
            "999    NaN  NaN           NaN  NaN    NaN        NaN     NaN          NaN   \n",
            "\n",
            "     Quantity    Rating     Tax 5% Time        Total  Unit price        cogs  \\\n",
            "0    5.115228  5.042756  24.828015  NaN   547.658015   72.588739  521.516515   \n",
            "1    3.115228  5.542756        NaN  NaN    78.906515   13.178739   75.086515   \n",
            "2    5.115228  3.342756  14.902015  NaN   339.212015   44.228739  322.996515   \n",
            "3    6.115228  4.342756  21.974515  NaN   487.734515   56.118739  464.446515   \n",
            "4    5.115228       NaN  28.895015  NaN   633.065015   84.208739  602.856515   \n",
            "..        ...       ...        ...  ...          ...         ...         ...   \n",
            "995       NaN       NaN        NaN  NaN    41.054015   38.248739   39.036515   \n",
            "996  8.115228       NaN  47.376515  NaN  1021.176515   95.278739  972.486515   \n",
            "997       NaN  3.642756        NaN  NaN    32.118515   29.738739   30.526515   \n",
            "998       NaN       NaN        NaN  NaN    67.797515   63.718739   64.506515   \n",
            "999  5.115228       NaN  29.605515  NaN   647.985515   86.238739  617.066515   \n",
            "\n",
            "     gross income  gross margin percentage  \n",
            "0       24.828015                      NaN  \n",
            "1             NaN                      NaN  \n",
            "2       14.902015                      NaN  \n",
            "3       21.974515                      NaN  \n",
            "4       28.895015                      NaN  \n",
            "..            ...                      ...  \n",
            "995           NaN                      NaN  \n",
            "996     47.376515                      NaN  \n",
            "997           NaN                      NaN  \n",
            "998           NaN                      NaN  \n",
            "999     29.605515                      NaN  \n",
            "\n",
            "[1000 rows x 17 columns]\n"
          ]
        }
      ]
    },
    {
      "cell_type": "code",
      "source": [
        "import pandas as pd\n",
        "import numpy as np\n",
        "import mahalonobis\n",
        "data=pd.read_csv(\"/content/158cs22025.csv\")\n",
        "mean=np.mean(data.select_dtypes(include='number'),axis=0)\n",
        "cov_matrix=np.cov(data.select_dtypes(include='number'),rowvar=False)\n",
        "\n",
        "outliers=[]\n",
        "for index in data:\n",
        " point=(data.select_dtypes(include='number').values)\n",
        "mahalonobis_dist=mahalonobis(point,mean,cov_matrix)\n",
        "if mahalonobis_dist>-1:\n",
        "  outliers.append(row)\n",
        "print(outliers)"
      ],
      "metadata": {
        "colab": {
          "base_uri": "https://localhost:8080/",
          "height": 383
        },
        "id": "xfFQ-8h_Ssgj",
        "outputId": "fcabf9ff-2b62-4ae5-cec2-6edfd6cffb2d"
      },
      "execution_count": null,
      "outputs": [
        {
          "output_type": "error",
          "ename": "ModuleNotFoundError",
          "evalue": "No module named 'mahalonobis'",
          "traceback": [
            "\u001b[0;31m---------------------------------------------------------------------------\u001b[0m",
            "\u001b[0;31mModuleNotFoundError\u001b[0m                       Traceback (most recent call last)",
            "\u001b[0;32m<ipython-input-102-5f87bfa7a8c8>\u001b[0m in \u001b[0;36m<cell line: 3>\u001b[0;34m()\u001b[0m\n\u001b[1;32m      1\u001b[0m \u001b[0;32mimport\u001b[0m \u001b[0mpandas\u001b[0m \u001b[0;32mas\u001b[0m \u001b[0mpd\u001b[0m\u001b[0;34m\u001b[0m\u001b[0;34m\u001b[0m\u001b[0m\n\u001b[1;32m      2\u001b[0m \u001b[0;32mimport\u001b[0m \u001b[0mnumpy\u001b[0m \u001b[0;32mas\u001b[0m \u001b[0mnp\u001b[0m\u001b[0;34m\u001b[0m\u001b[0;34m\u001b[0m\u001b[0m\n\u001b[0;32m----> 3\u001b[0;31m \u001b[0;32mimport\u001b[0m \u001b[0mmahalonobis\u001b[0m\u001b[0;34m\u001b[0m\u001b[0;34m\u001b[0m\u001b[0m\n\u001b[0m\u001b[1;32m      4\u001b[0m \u001b[0mdata\u001b[0m\u001b[0;34m=\u001b[0m\u001b[0mpd\u001b[0m\u001b[0;34m.\u001b[0m\u001b[0mread_csv\u001b[0m\u001b[0;34m(\u001b[0m\u001b[0;34m\"/content/158cs22025.csv\"\u001b[0m\u001b[0;34m)\u001b[0m\u001b[0;34m\u001b[0m\u001b[0;34m\u001b[0m\u001b[0m\n\u001b[1;32m      5\u001b[0m \u001b[0mmean\u001b[0m\u001b[0;34m=\u001b[0m\u001b[0mnp\u001b[0m\u001b[0;34m.\u001b[0m\u001b[0mmean\u001b[0m\u001b[0;34m(\u001b[0m\u001b[0mdata\u001b[0m\u001b[0;34m.\u001b[0m\u001b[0mselect_dtypes\u001b[0m\u001b[0;34m(\u001b[0m\u001b[0minclude\u001b[0m\u001b[0;34m=\u001b[0m\u001b[0;34m'number'\u001b[0m\u001b[0;34m)\u001b[0m\u001b[0;34m,\u001b[0m\u001b[0maxis\u001b[0m\u001b[0;34m=\u001b[0m\u001b[0;36m0\u001b[0m\u001b[0;34m)\u001b[0m\u001b[0;34m\u001b[0m\u001b[0;34m\u001b[0m\u001b[0m\n",
            "\u001b[0;31mModuleNotFoundError\u001b[0m: No module named 'mahalonobis'",
            "",
            "\u001b[0;31m---------------------------------------------------------------------------\u001b[0;32m\nNOTE: If your import is failing due to a missing package, you can\nmanually install dependencies using either !pip or !apt.\n\nTo view examples of installing some common dependencies, click the\n\"Open Examples\" button below.\n\u001b[0;31m---------------------------------------------------------------------------\u001b[0m\n"
          ],
          "errorDetails": {
            "actions": [
              {
                "action": "open_url",
                "actionText": "Open Examples",
                "url": "/notebooks/snippets/importing_libraries.ipynb"
              }
            ]
          }
        }
      ]
    },
    {
      "cell_type": "code",
      "source": [
        "import pandas as pd\n",
        "data=pd.read_csv('/content/158cs22025.csv')\n",
        "numeric_data=data.select_dtypes(include='number')\n",
        "rolled_mean=numeric_data.rolling(window=3).mean(numeric_only=True)\n",
        "rolled_std=numeric_data.rolling(window=3).std(numeric_only=True)\n",
        "print(rolled_mean)\n",
        "print(rolled_std)\n",
        "outliers=numeric_data[(numeric_data-rolled_mean).abs()>-1*rolled_std]\n",
        "print(outliers)"
      ],
      "metadata": {
        "colab": {
          "base_uri": "https://localhost:8080/"
        },
        "id": "YUaJU9ifVgld",
        "outputId": "2a8422e5-8199-4e7d-9448-e74ff1dade98"
      },
      "execution_count": null,
      "outputs": [
        {
          "output_type": "stream",
          "name": "stdout",
          "text": [
            "     Unit price  Quantity     Tax 5%     Total        cogs  \\\n",
            "0           NaN       NaN        NaN       NaN         NaN   \n",
            "1           NaN       NaN        NaN       NaN         NaN   \n",
            "2     45.433333  6.333333  15.392333  323.2390  307.846667   \n",
            "3     39.943333  6.666667  14.441167  303.2645  288.823333   \n",
            "4     63.620000  7.333333  23.237333  487.9840  464.746667   \n",
            "..          ...       ...        ...       ...         ...   \n",
            "995   39.596667  4.000000   4.603333   96.6700   92.066667   \n",
            "996   66.226667  4.000000  17.918333  376.2850  358.366667   \n",
            "997   56.523333  4.000000  17.433167  366.0965  348.663333   \n",
            "998   65.013333  4.000000  17.857667  375.0110  357.153333   \n",
            "999   62.000000  3.000000  11.934000  250.6140  238.680000   \n",
            "\n",
            "     gross margin percentage  gross income    Rating  \n",
            "0                        NaN           NaN       NaN  \n",
            "1                        NaN           NaN       NaN  \n",
            "2                   4.761905     15.392333  8.700000  \n",
            "3                   4.761905     14.441167  8.466667  \n",
            "4                   4.761905     23.237333  7.033333  \n",
            "..                       ...           ...       ...  \n",
            "995                 4.761905      4.603333  6.233333  \n",
            "996                 4.761905     17.918333  5.500000  \n",
            "997                 4.761905     17.433167  6.100000  \n",
            "998                 4.761905     17.857667  5.400000  \n",
            "999                 4.761905     11.934000  6.133333  \n",
            "\n",
            "[1000 rows x 8 columns]\n",
            "     Unit price  Quantity     Tax 5%       Total        cogs  \\\n",
            "0           NaN       NaN        NaN         NaN         NaN   \n",
            "1           NaN       NaN        NaN         NaN         NaN   \n",
            "2     29.715148  1.154701  11.183494  234.853379  223.669885   \n",
            "3     22.170995  1.527525   9.854540  206.945331  197.090791   \n",
            "4     20.529737  0.577350   6.996638  146.929389  139.932752   \n",
            "..          ...       ...        ...         ...         ...   \n",
            "995   21.739791  5.196152   3.623572   76.095021   72.471448   \n",
            "996   28.878844  5.196152  26.654021  559.734438  533.080417   \n",
            "997   35.637837  5.196152  27.070048  568.471003  541.400955   \n",
            "998   32.777445  5.196152  26.715094  561.016969  534.301875   \n",
            "999   28.443045  3.464102  16.463424  345.731897  329.268473   \n",
            "\n",
            "     gross margin percentage  gross income    Rating  \n",
            "0                        NaN           NaN       NaN  \n",
            "1                        NaN           NaN       NaN  \n",
            "2                        0.0     11.183494  1.153256  \n",
            "3                        0.0      9.854540  1.101514  \n",
            "4                        0.0      6.996638  1.582193  \n",
            "..                       ...           ...       ...  \n",
            "995                      0.0      3.623572  0.351188  \n",
            "996                      0.0     26.654021  0.964365  \n",
            "997                      0.0     27.070048  1.652271  \n",
            "998                      0.0     26.715094  1.997498  \n",
            "999                      0.0     16.463424  1.844813  \n",
            "\n",
            "[1000 rows x 8 columns]\n",
            "     Unit price  Quantity   Tax 5%      Total    cogs  \\\n",
            "0           NaN       NaN      NaN        NaN     NaN   \n",
            "1           NaN       NaN      NaN        NaN     NaN   \n",
            "2         46.33       7.0  16.2155   340.5255  324.31   \n",
            "3         58.22       8.0  23.2880   489.0480  465.76   \n",
            "4         86.31       7.0  30.2085   634.3785  604.17   \n",
            "..          ...       ...      ...        ...     ...   \n",
            "995       40.35       1.0   2.0175    42.3675   40.35   \n",
            "996       97.38      10.0  48.6900  1022.4900  973.80   \n",
            "997       31.84       1.0   1.5920    33.4320   31.84   \n",
            "998       65.82       1.0   3.2910    69.1110   65.82   \n",
            "999       88.34       7.0  30.9190   649.2990  618.38   \n",
            "\n",
            "     gross margin percentage  gross income  Rating  \n",
            "0                        NaN           NaN     NaN  \n",
            "1                        NaN           NaN     NaN  \n",
            "2                        NaN       16.2155     7.4  \n",
            "3                        NaN       23.2880     8.4  \n",
            "4                        NaN       30.2085     5.3  \n",
            "..                       ...           ...     ...  \n",
            "995                      NaN        2.0175     6.2  \n",
            "996                      NaN       48.6900     4.4  \n",
            "997                      NaN        1.5920     7.7  \n",
            "998                      NaN        3.2910     4.1  \n",
            "999                      NaN       30.9190     6.6  \n",
            "\n",
            "[1000 rows x 8 columns]\n"
          ]
        }
      ]
    },
    {
      "cell_type": "code",
      "source": [
        "data=pd.read_csv('/content/158cs22025.csv')\n",
        "print(data)"
      ],
      "metadata": {
        "colab": {
          "base_uri": "https://localhost:8080/"
        },
        "id": "IR_TUDrZYBPc",
        "outputId": "391e920b-1efc-400f-db18-357f6e391997"
      },
      "execution_count": null,
      "outputs": [
        {
          "output_type": "stream",
          "name": "stdout",
          "text": [
            "      Invoice ID Branch       City Customer type  Gender  \\\n",
            "0    750-67-8428      A     Yangon        Member  Female   \n",
            "1    226-31-3081      C  Naypyitaw        Normal  Female   \n",
            "2    631-41-3108      A     Yangon        Normal    Male   \n",
            "3    123-19-1176      A     Yangon        Member    Male   \n",
            "4    373-73-7910      A     Yangon        Normal    Male   \n",
            "..           ...    ...        ...           ...     ...   \n",
            "995  233-67-5758      C  Naypyitaw        Normal    Male   \n",
            "996  303-96-2227      B   Mandalay        Normal  Female   \n",
            "997  727-02-1313      A     Yangon        Member    Male   \n",
            "998  347-56-2442      A     Yangon        Normal    Male   \n",
            "999  849-09-3807      A     Yangon        Member  Female   \n",
            "\n",
            "               Product line  Unit price  Quantity   Tax 5%      Total  \\\n",
            "0         Health and beauty       74.69         7  26.1415   548.9715   \n",
            "1    Electronic accessories       15.28         5   3.8200    80.2200   \n",
            "2        Home and lifestyle       46.33         7  16.2155   340.5255   \n",
            "3         Health and beauty       58.22         8  23.2880   489.0480   \n",
            "4         Sports and travel       86.31         7  30.2085   634.3785   \n",
            "..                      ...         ...       ...      ...        ...   \n",
            "995       Health and beauty       40.35         1   2.0175    42.3675   \n",
            "996      Home and lifestyle       97.38        10  48.6900  1022.4900   \n",
            "997      Food and beverages       31.84         1   1.5920    33.4320   \n",
            "998      Home and lifestyle       65.82         1   3.2910    69.1110   \n",
            "999     Fashion accessories       88.34         7  30.9190   649.2990   \n",
            "\n",
            "           Date   Time      Payment    cogs  gross margin percentage  \\\n",
            "0    01-05-2019  13:08      Ewallet  522.83                 4.761905   \n",
            "1    03-08-2019  10:29         Cash   76.40                 4.761905   \n",
            "2    03-03-2019  13:23  Credit card  324.31                 4.761905   \n",
            "3     1/27/2019  20:33      Ewallet  465.76                 4.761905   \n",
            "4    02-08-2019  10:37      Ewallet  604.17                 4.761905   \n",
            "..          ...    ...          ...     ...                      ...   \n",
            "995   1/29/2019  13:46      Ewallet   40.35                 4.761905   \n",
            "996  03-02-2019  17:16      Ewallet  973.80                 4.761905   \n",
            "997  02-09-2019  13:22         Cash   31.84                 4.761905   \n",
            "998   2/22/2019  15:33         Cash   65.82                 4.761905   \n",
            "999   2/18/2019  13:28         Cash  618.38                 4.761905   \n",
            "\n",
            "     gross income  Rating  \n",
            "0         26.1415     9.1  \n",
            "1          3.8200     9.6  \n",
            "2         16.2155     7.4  \n",
            "3         23.2880     8.4  \n",
            "4         30.2085     5.3  \n",
            "..            ...     ...  \n",
            "995        2.0175     6.2  \n",
            "996       48.6900     4.4  \n",
            "997        1.5920     7.7  \n",
            "998        3.2910     4.1  \n",
            "999       30.9190     6.6  \n",
            "\n",
            "[1000 rows x 17 columns]\n"
          ]
        }
      ]
    },
    {
      "cell_type": "code",
      "source": [
        "data=pd.read_csv('/content/158cs22025.csv')\n",
        "upper_cap=50\n",
        "lower_cap=10\n",
        "data=data.select_dtypes(include='number')\n",
        "data_clipped=data.clip(lower=lower_cap,upper=upper_cap)\n",
        "data[data_clipped.columns]=data_clipped\n",
        "print(data[data_clipped.columns])"
      ],
      "metadata": {
        "colab": {
          "base_uri": "https://localhost:8080/"
        },
        "id": "5OHi1RdHYLO9",
        "outputId": "17bef082-4e4b-4aff-dc70-7257f2129504"
      },
      "execution_count": null,
      "outputs": [
        {
          "output_type": "stream",
          "name": "stdout",
          "text": [
            "     Unit price  Quantity   Tax 5%    Total   cogs  gross margin percentage  \\\n",
            "0         50.00        10  26.1415  50.0000  50.00                     10.0   \n",
            "1         15.28        10  10.0000  50.0000  50.00                     10.0   \n",
            "2         46.33        10  16.2155  50.0000  50.00                     10.0   \n",
            "3         50.00        10  23.2880  50.0000  50.00                     10.0   \n",
            "4         50.00        10  30.2085  50.0000  50.00                     10.0   \n",
            "..          ...       ...      ...      ...    ...                      ...   \n",
            "995       40.35        10  10.0000  42.3675  40.35                     10.0   \n",
            "996       50.00        10  48.6900  50.0000  50.00                     10.0   \n",
            "997       31.84        10  10.0000  33.4320  31.84                     10.0   \n",
            "998       50.00        10  10.0000  50.0000  50.00                     10.0   \n",
            "999       50.00        10  30.9190  50.0000  50.00                     10.0   \n",
            "\n",
            "     gross income  Rating  \n",
            "0         26.1415    10.0  \n",
            "1         10.0000    10.0  \n",
            "2         16.2155    10.0  \n",
            "3         23.2880    10.0  \n",
            "4         30.2085    10.0  \n",
            "..            ...     ...  \n",
            "995       10.0000    10.0  \n",
            "996       48.6900    10.0  \n",
            "997       10.0000    10.0  \n",
            "998       10.0000    10.0  \n",
            "999       30.9190    10.0  \n",
            "\n",
            "[1000 rows x 8 columns]\n"
          ]
        }
      ]
    },
    {
      "cell_type": "code",
      "source": [
        "import numpy as np\n",
        "data=pd.read_csv('/content/158cs22025.csv')\n",
        "data=data.select_dtypes(include='number')\n",
        "data_log_transformation=np.log(data)\n",
        "print(data_log_transformation)"
      ],
      "metadata": {
        "colab": {
          "base_uri": "https://localhost:8080/"
        },
        "id": "muYJvfdtYvSE",
        "outputId": "d22b23c3-14fc-476d-e360-ccd9bb8391a8"
      },
      "execution_count": null,
      "outputs": [
        {
          "output_type": "stream",
          "name": "stdout",
          "text": [
            "     Unit price  Quantity    Tax 5%     Total      cogs  \\\n",
            "0      4.313346  1.945910  3.263524  6.308047  6.259256   \n",
            "1      2.726545  1.609438  1.340250  4.384773  4.335983   \n",
            "2      3.835790  1.945910  2.785968  5.830490  5.781700   \n",
            "3      4.064229  2.079442  3.147938  6.192461  6.143670   \n",
            "4      4.457945  1.945910  3.408123  6.452646  6.403856   \n",
            "..          ...       ...       ...       ...       ...   \n",
            "995    3.697591  0.000000  0.701859  3.746382  3.697591   \n",
            "996    4.578621  2.302585  3.885474  6.929996  6.881206   \n",
            "997    3.460723  0.000000  0.464991  3.509514  3.460723   \n",
            "998    4.186924  0.000000  1.191191  4.235714  4.186924   \n",
            "999    4.481193  1.945910  3.431371  6.475893  6.427103   \n",
            "\n",
            "     gross margin percentage  gross income    Rating  \n",
            "0                   1.560648      3.263524  2.208274  \n",
            "1                   1.560648      1.340250  2.261763  \n",
            "2                   1.560648      2.785968  2.001480  \n",
            "3                   1.560648      3.147938  2.128232  \n",
            "4                   1.560648      3.408123  1.667707  \n",
            "..                       ...           ...       ...  \n",
            "995                 1.560648      0.701859  1.824549  \n",
            "996                 1.560648      3.885474  1.481605  \n",
            "997                 1.560648      0.464991  2.041220  \n",
            "998                 1.560648      1.191191  1.410987  \n",
            "999                 1.560648      3.431371  1.887070  \n",
            "\n",
            "[1000 rows x 8 columns]\n"
          ]
        }
      ]
    },
    {
      "cell_type": "code",
      "source": [
        "import numpy as np\n",
        "data=pd.read_csv('/content/158cs22025.csv')\n",
        "outliers=[500]\n",
        "data=data[data.isin(outliers)]\n",
        "print(data)"
      ],
      "metadata": {
        "colab": {
          "base_uri": "https://localhost:8080/"
        },
        "id": "MIszT6npZO7T",
        "outputId": "750801eb-731f-45d0-faf6-b2c3d5943c2a"
      },
      "execution_count": null,
      "outputs": [
        {
          "output_type": "stream",
          "name": "stdout",
          "text": [
            "      Invoice ID Branch       City Customer type  Gender  \\\n",
            "0    750-67-8428      A     Yangon        Member  Female   \n",
            "1    226-31-3081      C  Naypyitaw        Normal  Female   \n",
            "2    631-41-3108      A     Yangon        Normal    Male   \n",
            "3    123-19-1176      A     Yangon        Member    Male   \n",
            "4    373-73-7910      A     Yangon        Normal    Male   \n",
            "..           ...    ...        ...           ...     ...   \n",
            "995  233-67-5758      C  Naypyitaw        Normal    Male   \n",
            "996  303-96-2227      B   Mandalay        Normal  Female   \n",
            "997  727-02-1313      A     Yangon        Member    Male   \n",
            "998  347-56-2442      A     Yangon        Normal    Male   \n",
            "999  849-09-3807      A     Yangon        Member  Female   \n",
            "\n",
            "               Product line  Unit price  Quantity   Tax 5%      Total  \\\n",
            "0         Health and beauty       74.69         7  26.1415   548.9715   \n",
            "1    Electronic accessories       15.28         5   3.8200    80.2200   \n",
            "2        Home and lifestyle       46.33         7  16.2155   340.5255   \n",
            "3         Health and beauty       58.22         8  23.2880   489.0480   \n",
            "4         Sports and travel       86.31         7  30.2085   634.3785   \n",
            "..                      ...         ...       ...      ...        ...   \n",
            "995       Health and beauty       40.35         1   2.0175    42.3675   \n",
            "996      Home and lifestyle       97.38        10  48.6900  1022.4900   \n",
            "997      Food and beverages       31.84         1   1.5920    33.4320   \n",
            "998      Home and lifestyle       65.82         1   3.2910    69.1110   \n",
            "999     Fashion accessories       88.34         7  30.9190   649.2990   \n",
            "\n",
            "           Date   Time      Payment    cogs  gross margin percentage  \\\n",
            "0    01-05-2019  13:08      Ewallet  522.83                 4.761905   \n",
            "1    03-08-2019  10:29         Cash   76.40                 4.761905   \n",
            "2    03-03-2019  13:23  Credit card  324.31                 4.761905   \n",
            "3     1/27/2019  20:33      Ewallet  465.76                 4.761905   \n",
            "4    02-08-2019  10:37      Ewallet  604.17                 4.761905   \n",
            "..          ...    ...          ...     ...                      ...   \n",
            "995   1/29/2019  13:46      Ewallet   40.35                 4.761905   \n",
            "996  03-02-2019  17:16      Ewallet  973.80                 4.761905   \n",
            "997  02-09-2019  13:22         Cash   31.84                 4.761905   \n",
            "998   2/22/2019  15:33         Cash   65.82                 4.761905   \n",
            "999   2/18/2019  13:28         Cash  618.38                 4.761905   \n",
            "\n",
            "     gross income  Rating  \n",
            "0         26.1415     9.1  \n",
            "1          3.8200     9.6  \n",
            "2         16.2155     7.4  \n",
            "3         23.2880     8.4  \n",
            "4         30.2085     5.3  \n",
            "..            ...     ...  \n",
            "995        2.0175     6.2  \n",
            "996       48.6900     4.4  \n",
            "997        1.5920     7.7  \n",
            "998        3.2910     4.1  \n",
            "999       30.9190     6.6  \n",
            "\n",
            "[1000 rows x 17 columns]\n"
          ]
        }
      ]
    },
    {
      "cell_type": "code",
      "source": [
        "import pandas as pd\n",
        "data=pd.read_csv('/content/158cs22025.csv')\n",
        "data=df.drop_duplicates()\n",
        "print(data)"
      ],
      "metadata": {
        "colab": {
          "base_uri": "https://localhost:8080/"
        },
        "id": "uAbIU8zqZ8jy",
        "outputId": "9b33c727-2ff2-4f62-b9c7-9d7f0216809d"
      },
      "execution_count": null,
      "outputs": [
        {
          "output_type": "stream",
          "name": "stdout",
          "text": [
            "      Invoice ID Branch       City Customer type  Gender  \\\n",
            "0    750-67-8428      A     Yangon        Member  Female   \n",
            "1    226-31-3081      C  Naypyitaw        Normal  Female   \n",
            "2    631-41-3108      A     Yangon        Normal    Male   \n",
            "3    123-19-1176      A     Yangon        Member    Male   \n",
            "4    373-73-7910      A     Yangon        Normal    Male   \n",
            "..           ...    ...        ...           ...     ...   \n",
            "995  233-67-5758      C  Naypyitaw        Normal    Male   \n",
            "996  303-96-2227      B   Mandalay        Normal  Female   \n",
            "997  727-02-1313      A     Yangon        Member    Male   \n",
            "998  347-56-2442      A     Yangon        Normal    Male   \n",
            "999  849-09-3807      A     Yangon        Member  Female   \n",
            "\n",
            "               Product line  Unit price  Quantity   Tax 5%      Total  \\\n",
            "0         Health and beauty       74.69         7  26.1415   548.9715   \n",
            "1    Electronic accessories       15.28         5   3.8200    80.2200   \n",
            "2        Home and lifestyle       46.33         7  16.2155   340.5255   \n",
            "3         Health and beauty       58.22         8  23.2880   489.0480   \n",
            "4         Sports and travel       86.31         7  30.2085   634.3785   \n",
            "..                      ...         ...       ...      ...        ...   \n",
            "995       Health and beauty       40.35         1   2.0175    42.3675   \n",
            "996      Home and lifestyle       97.38        10  48.6900  1022.4900   \n",
            "997      Food and beverages       31.84         1   1.5920    33.4320   \n",
            "998      Home and lifestyle       65.82         1   3.2910    69.1110   \n",
            "999     Fashion accessories       88.34         7  30.9190   649.2990   \n",
            "\n",
            "           Date   Time      Payment    cogs  gross margin percentage  \\\n",
            "0    01-05-2019  13:08      Ewallet  522.83                 4.761905   \n",
            "1    03-08-2019  10:29         Cash   76.40                 4.761905   \n",
            "2    03-03-2019  13:23  Credit card  324.31                 4.761905   \n",
            "3     1/27/2019  20:33      Ewallet  465.76                 4.761905   \n",
            "4    02-08-2019  10:37      Ewallet  604.17                 4.761905   \n",
            "..          ...    ...          ...     ...                      ...   \n",
            "995   1/29/2019  13:46      Ewallet   40.35                 4.761905   \n",
            "996  03-02-2019  17:16      Ewallet  973.80                 4.761905   \n",
            "997  02-09-2019  13:22         Cash   31.84                 4.761905   \n",
            "998   2/22/2019  15:33         Cash   65.82                 4.761905   \n",
            "999   2/18/2019  13:28         Cash  618.38                 4.761905   \n",
            "\n",
            "     gross income  Rating  \n",
            "0         26.1415     9.1  \n",
            "1          3.8200     9.6  \n",
            "2         16.2155     7.4  \n",
            "3         23.2880     8.4  \n",
            "4         30.2085     5.3  \n",
            "..            ...     ...  \n",
            "995        2.0175     6.2  \n",
            "996       48.6900     4.4  \n",
            "997        1.5920     7.7  \n",
            "998        3.2910     4.1  \n",
            "999       30.9190     6.6  \n",
            "\n",
            "[1000 rows x 17 columns]\n"
          ]
        }
      ]
    },
    {
      "cell_type": "code",
      "source": [
        "import pandas as pd\n",
        "data=pd.read_csv('/content/158cs22025.csv')\n",
        "data=df.drop_duplicates(subset=['City'])\n",
        "print(data)"
      ],
      "metadata": {
        "colab": {
          "base_uri": "https://localhost:8080/"
        },
        "id": "l8aECh7yaMFz",
        "outputId": "6a06971b-656c-423d-e473-d3c7c1deeb77"
      },
      "execution_count": null,
      "outputs": [
        {
          "output_type": "stream",
          "name": "stdout",
          "text": [
            "    Invoice ID Branch       City Customer type  Gender  \\\n",
            "0  750-67-8428      A     Yangon        Member  Female   \n",
            "1  226-31-3081      C  Naypyitaw        Normal  Female   \n",
            "9  692-92-5582      B   Mandalay        Member  Female   \n",
            "\n",
            "             Product line  Unit price  Quantity   Tax 5%     Total  \\\n",
            "0       Health and beauty       74.69         7  26.1415  548.9715   \n",
            "1  Electronic accessories       15.28         5   3.8200   80.2200   \n",
            "9      Food and beverages       54.84         3   8.2260  172.7460   \n",
            "\n",
            "         Date   Time      Payment    cogs  gross margin percentage  \\\n",
            "0  01-05-2019  13:08      Ewallet  522.83                 4.761905   \n",
            "1  03-08-2019  10:29         Cash   76.40                 4.761905   \n",
            "9   2/20/2019  13:27  Credit card  164.52                 4.761905   \n",
            "\n",
            "   gross income  Rating  \n",
            "0       26.1415     9.1  \n",
            "1        3.8200     9.6  \n",
            "9        8.2260     5.9  \n"
          ]
        }
      ]
    },
    {
      "cell_type": "code",
      "source": [
        "import pandas as pd\n",
        "from sklearn.preprocessing import MinMaxScaler\n",
        "data=pd.read_csv(\"/content/158cs22025.csv\")\n",
        "data=data.select_dtypes(include='number')\n",
        "scaler=MinMaxScaler()\n",
        "normalization=scaler.fit_transform(data)\n",
        "print(normalization)"
      ],
      "metadata": {
        "colab": {
          "base_uri": "https://localhost:8080/"
        },
        "id": "syqmxal0aWeO",
        "outputId": "eb07557b-6d68-4836-d3b8-5ee1877068e3"
      },
      "execution_count": null,
      "outputs": [
        {
          "output_type": "stream",
          "name": "stdout",
          "text": [
            "[[0.71884735 0.66666667 0.52161615 ... 0.         0.52161615 0.85      ]\n",
            " [0.05785492 0.44444444 0.06738704 ... 0.         0.06738704 0.93333333]\n",
            " [0.40331553 0.66666667 0.31962801 ... 0.         0.31962801 0.56666667]\n",
            " ...\n",
            " [0.24210058 0.         0.02204857 ... 0.         0.02204857 0.61666667]\n",
            " [0.62016021 0.         0.0566222  ... 0.         0.0566222  0.01666667]\n",
            " [0.87071651 0.66666667 0.6188354  ... 0.         0.6188354  0.43333333]]\n"
          ]
        }
      ]
    },
    {
      "cell_type": "code",
      "source": [
        "import pandas as pd\n",
        "from sklearn.preprocessing import StandardScaler\n",
        "data=pd.read_csv(\"/content/158cs22025.csv\")\n",
        "data=data.select_dtypes(include='number')\n",
        "scaler=StandardScaler()\n",
        "standardazion=scaler.fit_transform(data)\n",
        "print(standardazion)"
      ],
      "metadata": {
        "colab": {
          "base_uri": "https://localhost:8080/"
        },
        "id": "1udP5u5za9mh",
        "outputId": "a9d3a8c5-4cdf-4b7f-fedb-dcbc6e81a146"
      },
      "execution_count": null,
      "outputs": [
        {
          "output_type": "stream",
          "name": "stdout",
          "text": [
            "[[ 0.71816014  0.5099302   0.91960685 ...  0.          0.91960685\n",
            "   1.23844341]\n",
            " [-1.52530319 -0.17453987 -0.98772956 ...  0.         -0.98772956\n",
            "   1.52952681]\n",
            " [-0.35278112  0.5099302   0.07144605 ...  0.          0.07144605\n",
            "   0.24875987]\n",
            " ...\n",
            " [-0.89995809 -1.54348001 -1.17810859 ...  0.         -1.17810859\n",
            "   0.42340991]\n",
            " [ 0.38320778 -1.54348001 -1.03293176 ...  0.         -1.03293176\n",
            "  -1.67239054]\n",
            " [ 1.23361671  0.5099302   1.32783657 ...  0.          1.32783657\n",
            "  -0.21697356]]\n"
          ]
        }
      ]
    },
    {
      "cell_type": "code",
      "source": [
        "import pandas as pd\n",
        "data=pd.read_csv('/content/158cs22025.csv')\n",
        "binary=pd.get_dummies(data,columns=['City'])\n",
        "print(binary)"
      ],
      "metadata": {
        "colab": {
          "base_uri": "https://localhost:8080/",
          "height": 676
        },
        "id": "WX_fzEsKbRzg",
        "outputId": "0edcc5d8-fe1b-4fde-b918-703c4c7606bf"
      },
      "execution_count": null,
      "outputs": [
        {
          "output_type": "error",
          "ename": "FileNotFoundError",
          "evalue": "[Errno 2] No such file or directory: '/content/158cs22025.csv'",
          "traceback": [
            "\u001b[0;31m---------------------------------------------------------------------------\u001b[0m",
            "\u001b[0;31mFileNotFoundError\u001b[0m                         Traceback (most recent call last)",
            "\u001b[0;32m<ipython-input-3-77865908afab>\u001b[0m in \u001b[0;36m<cell line: 2>\u001b[0;34m()\u001b[0m\n\u001b[1;32m      1\u001b[0m \u001b[0;32mimport\u001b[0m \u001b[0mpandas\u001b[0m \u001b[0;32mas\u001b[0m \u001b[0mpd\u001b[0m\u001b[0;34m\u001b[0m\u001b[0;34m\u001b[0m\u001b[0m\n\u001b[0;32m----> 2\u001b[0;31m \u001b[0mdata\u001b[0m\u001b[0;34m=\u001b[0m\u001b[0mpd\u001b[0m\u001b[0;34m.\u001b[0m\u001b[0mread_csv\u001b[0m\u001b[0;34m(\u001b[0m\u001b[0;34m'/content/158cs22025.csv'\u001b[0m\u001b[0;34m)\u001b[0m\u001b[0;34m\u001b[0m\u001b[0;34m\u001b[0m\u001b[0m\n\u001b[0m\u001b[1;32m      3\u001b[0m \u001b[0mbinary\u001b[0m\u001b[0;34m=\u001b[0m\u001b[0mpd\u001b[0m\u001b[0;34m.\u001b[0m\u001b[0mget_dummies\u001b[0m\u001b[0;34m(\u001b[0m\u001b[0mdata\u001b[0m\u001b[0;34m,\u001b[0m\u001b[0mcolumns\u001b[0m\u001b[0;34m=\u001b[0m\u001b[0;34m[\u001b[0m\u001b[0;34m'City'\u001b[0m\u001b[0;34m]\u001b[0m\u001b[0;34m)\u001b[0m\u001b[0;34m\u001b[0m\u001b[0;34m\u001b[0m\u001b[0m\n\u001b[1;32m      4\u001b[0m \u001b[0mprint\u001b[0m\u001b[0;34m(\u001b[0m\u001b[0mbinary\u001b[0m\u001b[0;34m)\u001b[0m\u001b[0;34m\u001b[0m\u001b[0;34m\u001b[0m\u001b[0m\n",
            "\u001b[0;32m/usr/local/lib/python3.10/dist-packages/pandas/io/parsers/readers.py\u001b[0m in \u001b[0;36mread_csv\u001b[0;34m(filepath_or_buffer, sep, delimiter, header, names, index_col, usecols, dtype, engine, converters, true_values, false_values, skipinitialspace, skiprows, skipfooter, nrows, na_values, keep_default_na, na_filter, verbose, skip_blank_lines, parse_dates, infer_datetime_format, keep_date_col, date_parser, date_format, dayfirst, cache_dates, iterator, chunksize, compression, thousands, decimal, lineterminator, quotechar, quoting, doublequote, escapechar, comment, encoding, encoding_errors, dialect, on_bad_lines, delim_whitespace, low_memory, memory_map, float_precision, storage_options, dtype_backend)\u001b[0m\n\u001b[1;32m    946\u001b[0m     \u001b[0mkwds\u001b[0m\u001b[0;34m.\u001b[0m\u001b[0mupdate\u001b[0m\u001b[0;34m(\u001b[0m\u001b[0mkwds_defaults\u001b[0m\u001b[0;34m)\u001b[0m\u001b[0;34m\u001b[0m\u001b[0;34m\u001b[0m\u001b[0m\n\u001b[1;32m    947\u001b[0m \u001b[0;34m\u001b[0m\u001b[0m\n\u001b[0;32m--> 948\u001b[0;31m     \u001b[0;32mreturn\u001b[0m \u001b[0m_read\u001b[0m\u001b[0;34m(\u001b[0m\u001b[0mfilepath_or_buffer\u001b[0m\u001b[0;34m,\u001b[0m \u001b[0mkwds\u001b[0m\u001b[0;34m)\u001b[0m\u001b[0;34m\u001b[0m\u001b[0;34m\u001b[0m\u001b[0m\n\u001b[0m\u001b[1;32m    949\u001b[0m \u001b[0;34m\u001b[0m\u001b[0m\n\u001b[1;32m    950\u001b[0m \u001b[0;34m\u001b[0m\u001b[0m\n",
            "\u001b[0;32m/usr/local/lib/python3.10/dist-packages/pandas/io/parsers/readers.py\u001b[0m in \u001b[0;36m_read\u001b[0;34m(filepath_or_buffer, kwds)\u001b[0m\n\u001b[1;32m    609\u001b[0m \u001b[0;34m\u001b[0m\u001b[0m\n\u001b[1;32m    610\u001b[0m     \u001b[0;31m# Create the parser.\u001b[0m\u001b[0;34m\u001b[0m\u001b[0;34m\u001b[0m\u001b[0m\n\u001b[0;32m--> 611\u001b[0;31m     \u001b[0mparser\u001b[0m \u001b[0;34m=\u001b[0m \u001b[0mTextFileReader\u001b[0m\u001b[0;34m(\u001b[0m\u001b[0mfilepath_or_buffer\u001b[0m\u001b[0;34m,\u001b[0m \u001b[0;34m**\u001b[0m\u001b[0mkwds\u001b[0m\u001b[0;34m)\u001b[0m\u001b[0;34m\u001b[0m\u001b[0;34m\u001b[0m\u001b[0m\n\u001b[0m\u001b[1;32m    612\u001b[0m \u001b[0;34m\u001b[0m\u001b[0m\n\u001b[1;32m    613\u001b[0m     \u001b[0;32mif\u001b[0m \u001b[0mchunksize\u001b[0m \u001b[0;32mor\u001b[0m \u001b[0miterator\u001b[0m\u001b[0;34m:\u001b[0m\u001b[0;34m\u001b[0m\u001b[0;34m\u001b[0m\u001b[0m\n",
            "\u001b[0;32m/usr/local/lib/python3.10/dist-packages/pandas/io/parsers/readers.py\u001b[0m in \u001b[0;36m__init__\u001b[0;34m(self, f, engine, **kwds)\u001b[0m\n\u001b[1;32m   1446\u001b[0m \u001b[0;34m\u001b[0m\u001b[0m\n\u001b[1;32m   1447\u001b[0m         \u001b[0mself\u001b[0m\u001b[0;34m.\u001b[0m\u001b[0mhandles\u001b[0m\u001b[0;34m:\u001b[0m \u001b[0mIOHandles\u001b[0m \u001b[0;34m|\u001b[0m \u001b[0;32mNone\u001b[0m \u001b[0;34m=\u001b[0m \u001b[0;32mNone\u001b[0m\u001b[0;34m\u001b[0m\u001b[0;34m\u001b[0m\u001b[0m\n\u001b[0;32m-> 1448\u001b[0;31m         \u001b[0mself\u001b[0m\u001b[0;34m.\u001b[0m\u001b[0m_engine\u001b[0m \u001b[0;34m=\u001b[0m \u001b[0mself\u001b[0m\u001b[0;34m.\u001b[0m\u001b[0m_make_engine\u001b[0m\u001b[0;34m(\u001b[0m\u001b[0mf\u001b[0m\u001b[0;34m,\u001b[0m \u001b[0mself\u001b[0m\u001b[0;34m.\u001b[0m\u001b[0mengine\u001b[0m\u001b[0;34m)\u001b[0m\u001b[0;34m\u001b[0m\u001b[0;34m\u001b[0m\u001b[0m\n\u001b[0m\u001b[1;32m   1449\u001b[0m \u001b[0;34m\u001b[0m\u001b[0m\n\u001b[1;32m   1450\u001b[0m     \u001b[0;32mdef\u001b[0m \u001b[0mclose\u001b[0m\u001b[0;34m(\u001b[0m\u001b[0mself\u001b[0m\u001b[0;34m)\u001b[0m \u001b[0;34m->\u001b[0m \u001b[0;32mNone\u001b[0m\u001b[0;34m:\u001b[0m\u001b[0;34m\u001b[0m\u001b[0;34m\u001b[0m\u001b[0m\n",
            "\u001b[0;32m/usr/local/lib/python3.10/dist-packages/pandas/io/parsers/readers.py\u001b[0m in \u001b[0;36m_make_engine\u001b[0;34m(self, f, engine)\u001b[0m\n\u001b[1;32m   1703\u001b[0m                 \u001b[0;32mif\u001b[0m \u001b[0;34m\"b\"\u001b[0m \u001b[0;32mnot\u001b[0m \u001b[0;32min\u001b[0m \u001b[0mmode\u001b[0m\u001b[0;34m:\u001b[0m\u001b[0;34m\u001b[0m\u001b[0;34m\u001b[0m\u001b[0m\n\u001b[1;32m   1704\u001b[0m                     \u001b[0mmode\u001b[0m \u001b[0;34m+=\u001b[0m \u001b[0;34m\"b\"\u001b[0m\u001b[0;34m\u001b[0m\u001b[0;34m\u001b[0m\u001b[0m\n\u001b[0;32m-> 1705\u001b[0;31m             self.handles = get_handle(\n\u001b[0m\u001b[1;32m   1706\u001b[0m                 \u001b[0mf\u001b[0m\u001b[0;34m,\u001b[0m\u001b[0;34m\u001b[0m\u001b[0;34m\u001b[0m\u001b[0m\n\u001b[1;32m   1707\u001b[0m                 \u001b[0mmode\u001b[0m\u001b[0;34m,\u001b[0m\u001b[0;34m\u001b[0m\u001b[0;34m\u001b[0m\u001b[0m\n",
            "\u001b[0;32m/usr/local/lib/python3.10/dist-packages/pandas/io/common.py\u001b[0m in \u001b[0;36mget_handle\u001b[0;34m(path_or_buf, mode, encoding, compression, memory_map, is_text, errors, storage_options)\u001b[0m\n\u001b[1;32m    861\u001b[0m         \u001b[0;32mif\u001b[0m \u001b[0mioargs\u001b[0m\u001b[0;34m.\u001b[0m\u001b[0mencoding\u001b[0m \u001b[0;32mand\u001b[0m \u001b[0;34m\"b\"\u001b[0m \u001b[0;32mnot\u001b[0m \u001b[0;32min\u001b[0m \u001b[0mioargs\u001b[0m\u001b[0;34m.\u001b[0m\u001b[0mmode\u001b[0m\u001b[0;34m:\u001b[0m\u001b[0;34m\u001b[0m\u001b[0;34m\u001b[0m\u001b[0m\n\u001b[1;32m    862\u001b[0m             \u001b[0;31m# Encoding\u001b[0m\u001b[0;34m\u001b[0m\u001b[0;34m\u001b[0m\u001b[0m\n\u001b[0;32m--> 863\u001b[0;31m             handle = open(\n\u001b[0m\u001b[1;32m    864\u001b[0m                 \u001b[0mhandle\u001b[0m\u001b[0;34m,\u001b[0m\u001b[0;34m\u001b[0m\u001b[0;34m\u001b[0m\u001b[0m\n\u001b[1;32m    865\u001b[0m                 \u001b[0mioargs\u001b[0m\u001b[0;34m.\u001b[0m\u001b[0mmode\u001b[0m\u001b[0;34m,\u001b[0m\u001b[0;34m\u001b[0m\u001b[0;34m\u001b[0m\u001b[0m\n",
            "\u001b[0;31mFileNotFoundError\u001b[0m: [Errno 2] No such file or directory: '/content/158cs22025.csv'"
          ]
        }
      ]
    },
    {
      "cell_type": "code",
      "source": [
        "data=pd.read_csv('/content/158cs22025.csv')\n",
        "rank=data['City'].rank()\n",
        "print(rank)"
      ],
      "metadata": {
        "colab": {
          "base_uri": "https://localhost:8080/"
        },
        "id": "Gy--rUqAbfYH",
        "outputId": "165d08b3-845e-4f70-9add-98c9ada07b2e"
      },
      "execution_count": null,
      "outputs": [
        {
          "output_type": "stream",
          "name": "stdout",
          "text": [
            "0      830.5\n",
            "1      496.5\n",
            "2      830.5\n",
            "3      830.5\n",
            "4      830.5\n",
            "       ...  \n",
            "995    496.5\n",
            "996    166.5\n",
            "997    830.5\n",
            "998    830.5\n",
            "999    830.5\n",
            "Name: City, Length: 1000, dtype: float64\n"
          ]
        }
      ]
    },
    {
      "cell_type": "code",
      "source": [
        "import pandas as pd\n",
        "from sklearn.decomposition import PCA\n",
        "data=pd.read_csv('/content/158cs22025.csv')\n",
        "numeric_data=data.select_dtypes(include='number')\n",
        "data_array=numeric_data.values\n",
        "pca=PCA(n_components=2)\n",
        "reduced_data=pca.fit_transform(data_array)\n",
        "print(\"original data:\",data_array.shape)\n",
        "print(\"reduced data:\",reduced_data.shape)"
      ],
      "metadata": {
        "colab": {
          "base_uri": "https://localhost:8080/"
        },
        "id": "s1LABJjRbpOW",
        "outputId": "649e9062-aff9-4191-a707-dd976b93998e"
      },
      "execution_count": null,
      "outputs": [
        {
          "output_type": "stream",
          "name": "stdout",
          "text": [
            "original data: (1000, 8)\n",
            "reduced data: (1000, 2)\n"
          ]
        }
      ]
    },
    {
      "cell_type": "code",
      "source": [
        "import pandas as pd\n",
        "from sklearn.manifold import TSNE\n",
        "data=pd.read_csv('/content/158cs22025.csv')\n",
        "numeric_data=data.select_dtypes(include='number')\n",
        "x=numeric_data.values\n",
        "tsne=TSNE(n_components=2,random_state=42)\n",
        "x_tsne=pca.fit_transform(x)\n",
        "print(x_tsne.shape)"
      ],
      "metadata": {
        "colab": {
          "base_uri": "https://localhost:8080/"
        },
        "id": "ypx9Vm5Ecjq_",
        "outputId": "271b9619-a3e9-42b3-d1a3-fd98c5639cfe"
      },
      "execution_count": null,
      "outputs": [
        {
          "output_type": "stream",
          "name": "stdout",
          "text": [
            "(1000, 2)\n"
          ]
        }
      ]
    },
    {
      "cell_type": "code",
      "source": [],
      "metadata": {
        "id": "gHnLcEcQf9Hk"
      },
      "execution_count": null,
      "outputs": []
    }
  ]
}