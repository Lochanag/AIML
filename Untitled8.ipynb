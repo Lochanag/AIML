{
  "nbformat": 4,
  "nbformat_minor": 0,
  "metadata": {
    "colab": {
      "provenance": [],
      "authorship_tag": "ABX9TyOJlPepizjhwSF/gXm7DTo8",
      "include_colab_link": true
    },
    "kernelspec": {
      "name": "python3",
      "display_name": "Python 3"
    },
    "language_info": {
      "name": "python"
    }
  },
  "cells": [
    {
      "cell_type": "markdown",
      "metadata": {
        "id": "view-in-github",
        "colab_type": "text"
      },
      "source": [
        "<a href=\"https://colab.research.google.com/github/Lochanag/AIML/blob/main/Untitled8.ipynb\" target=\"_parent\"><img src=\"https://colab.research.google.com/assets/colab-badge.svg\" alt=\"Open In Colab\"/></a>"
      ]
    },
    {
      "cell_type": "code",
      "source": [
        "import pandas as pd\n",
        "data=pd.read_csv(\"/content/dataset12.csv\")\n",
        "data.isna().sum()"
      ],
      "metadata": {
        "colab": {
          "base_uri": "https://localhost:8080/",
          "height": 304
        },
        "id": "LTsUVl1N35bJ",
        "outputId": "1d6f0571-832d-4e35-a949-d993e97da802"
      },
      "execution_count": 5,
      "outputs": [
        {
          "output_type": "execute_result",
          "data": {
            "text/plain": [
              "Vegetable                          0\n",
              "Season                             0\n",
              "Month                              1\n",
              "Temp                               0\n",
              "Deasaster Happen in last 3month    1\n",
              "Vegetable condition                0\n",
              "Price per kg                       4\n",
              "dtype: int64"
            ],
            "text/html": [
              "<div>\n",
              "<style scoped>\n",
              "    .dataframe tbody tr th:only-of-type {\n",
              "        vertical-align: middle;\n",
              "    }\n",
              "\n",
              "    .dataframe tbody tr th {\n",
              "        vertical-align: top;\n",
              "    }\n",
              "\n",
              "    .dataframe thead th {\n",
              "        text-align: right;\n",
              "    }\n",
              "</style>\n",
              "<table border=\"1\" class=\"dataframe\">\n",
              "  <thead>\n",
              "    <tr style=\"text-align: right;\">\n",
              "      <th></th>\n",
              "      <th>0</th>\n",
              "    </tr>\n",
              "  </thead>\n",
              "  <tbody>\n",
              "    <tr>\n",
              "      <th>Vegetable</th>\n",
              "      <td>0</td>\n",
              "    </tr>\n",
              "    <tr>\n",
              "      <th>Season</th>\n",
              "      <td>0</td>\n",
              "    </tr>\n",
              "    <tr>\n",
              "      <th>Month</th>\n",
              "      <td>1</td>\n",
              "    </tr>\n",
              "    <tr>\n",
              "      <th>Temp</th>\n",
              "      <td>0</td>\n",
              "    </tr>\n",
              "    <tr>\n",
              "      <th>Deasaster Happen in last 3month</th>\n",
              "      <td>1</td>\n",
              "    </tr>\n",
              "    <tr>\n",
              "      <th>Vegetable condition</th>\n",
              "      <td>0</td>\n",
              "    </tr>\n",
              "    <tr>\n",
              "      <th>Price per kg</th>\n",
              "      <td>4</td>\n",
              "    </tr>\n",
              "  </tbody>\n",
              "</table>\n",
              "</div><br><label><b>dtype:</b> int64</label>"
            ]
          },
          "metadata": {},
          "execution_count": 5
        }
      ]
    },
    {
      "cell_type": "code",
      "execution_count": 1,
      "metadata": {
        "colab": {
          "base_uri": "https://localhost:8080/"
        },
        "id": "g8XZe2d_3Tal",
        "outputId": "3813cecf-47a9-47df-8b0f-016a60feaf20"
      },
      "outputs": [
        {
          "output_type": "stream",
          "name": "stdout",
          "text": [
            "    Vegetable  Season Month  Temp Deasaster Happen in last 3month  \\\n",
            "0      potato  winter   jan    15                              no   \n",
            "1     tomato   winter   NaN    15                              no   \n",
            "2        peas  winter   jan    15                              no   \n",
            "3      pumkin  winter   jan    15                             NaN   \n",
            "4    cucumber  winter   jan    15                              no   \n",
            "..        ...     ...   ...   ...                             ...   \n",
            "116   brinjal  winter   jan    15                             yes   \n",
            "117    ginger  winter   jan    15                              no   \n",
            "118    potato  summer   apr    32                              no   \n",
            "119      peas  summer   apr    33                              no   \n",
            "120    radish  summer   apr    32                              no   \n",
            "\n",
            "    Vegetable condition  Price per kg  \n",
            "0                 fresh          20.0  \n",
            "1                 fresh           NaN  \n",
            "2                 fresh          70.0  \n",
            "3                 fresh          25.0  \n",
            "4                 fresh          20.0  \n",
            "..                  ...           ...  \n",
            "116               fresh          33.0  \n",
            "117               fresh          88.0  \n",
            "118               fresh          24.0  \n",
            "119               fresh          33.0  \n",
            "120               fresh           9.0  \n",
            "\n",
            "[121 rows x 7 columns]\n"
          ]
        }
      ],
      "source": [
        "import pandas as pd\n",
        "data=pd.read_csv(\"/content/dataset12.csv\")\n",
        "print(data)"
      ]
    },
    {
      "cell_type": "code",
      "source": [
        "import pandas as pd\n",
        "data=pd.read_csv(\"/content/dataset12.csv\")\n",
        "cleaned_data=data.dropna()\n",
        "print(cleaned_data)"
      ],
      "metadata": {
        "colab": {
          "base_uri": "https://localhost:8080/"
        },
        "id": "Gj7Y6_E83nYO",
        "outputId": "5010927c-9fb3-4219-acfa-f934a46a9c11"
      },
      "execution_count": 2,
      "outputs": [
        {
          "output_type": "stream",
          "name": "stdout",
          "text": [
            "           Vegetable  Season Month  Temp Deasaster Happen in last 3month  \\\n",
            "0             potato  winter   jan    15                              no   \n",
            "2               peas  winter   jan    15                              no   \n",
            "4           cucumber  winter   jan    15                              no   \n",
            "5    pointed grourd   winter   jan    15                             yes   \n",
            "7       Bitter gourd  winter   jan    15                              no   \n",
            "..               ...     ...   ...   ...                             ...   \n",
            "116          brinjal  winter   jan    15                             yes   \n",
            "117           ginger  winter   jan    15                              no   \n",
            "118           potato  summer   apr    32                              no   \n",
            "119             peas  summer   apr    33                              no   \n",
            "120           radish  summer   apr    32                              no   \n",
            "\n",
            "    Vegetable condition  Price per kg  \n",
            "0                 fresh          20.0  \n",
            "2                 fresh          70.0  \n",
            "4                 fresh          20.0  \n",
            "5                 fresh         130.0  \n",
            "7                 fresh          35.0  \n",
            "..                  ...           ...  \n",
            "116               fresh          33.0  \n",
            "117               fresh          88.0  \n",
            "118               fresh          24.0  \n",
            "119               fresh          33.0  \n",
            "120               fresh           9.0  \n",
            "\n",
            "[116 rows x 7 columns]\n"
          ]
        }
      ]
    },
    {
      "cell_type": "code",
      "source": [
        "import pandas as pd\n",
        "data=pd.read_csv(\"/content/dataset12.csv\")\n",
        "data=data.dropna(axis=1)\n",
        "print(data)"
      ],
      "metadata": {
        "colab": {
          "base_uri": "https://localhost:8080/"
        },
        "id": "elxhMftq3vvw",
        "outputId": "9d9bf2a2-d824-4e94-c9f7-60442cbb1262"
      },
      "execution_count": 3,
      "outputs": [
        {
          "output_type": "stream",
          "name": "stdout",
          "text": [
            "    Vegetable  Season  Temp Vegetable condition\n",
            "0      potato  winter    15               fresh\n",
            "1     tomato   winter    15               fresh\n",
            "2        peas  winter    15               fresh\n",
            "3      pumkin  winter    15               fresh\n",
            "4    cucumber  winter    15               fresh\n",
            "..        ...     ...   ...                 ...\n",
            "116   brinjal  winter    15               fresh\n",
            "117    ginger  winter    15               fresh\n",
            "118    potato  summer    32               fresh\n",
            "119      peas  summer    33               fresh\n",
            "120    radish  summer    32               fresh\n",
            "\n",
            "[121 rows x 4 columns]\n"
          ]
        }
      ]
    },
    {
      "cell_type": "code",
      "source": [
        "import pandas as pd\n",
        "import numpy as np\n",
        "data=pd.read_csv(\"/content/dataset12.csv\")\n",
        "numeric_columns=data.select_dtypes(include='number').columns\n",
        "data_numeric=data[numeric_columns]\n",
        "data_imputed_mean=data_numeric.fillna(data_numeric.mean())\n",
        "print(data_imputed_mean)"
      ],
      "metadata": {
        "colab": {
          "base_uri": "https://localhost:8080/"
        },
        "id": "7RtHmBdE33Q-",
        "outputId": "e934072a-67bb-440a-cebb-6e9d5fe91cb6"
      },
      "execution_count": 9,
      "outputs": [
        {
          "output_type": "stream",
          "name": "stdout",
          "text": [
            "     Temp  Price per kg\n",
            "0      15     20.000000\n",
            "1      15    140.683761\n",
            "2      15     70.000000\n",
            "3      15     25.000000\n",
            "4      15     20.000000\n",
            "..    ...           ...\n",
            "116    15     33.000000\n",
            "117    15     88.000000\n",
            "118    32     24.000000\n",
            "119    33     33.000000\n",
            "120    32      9.000000\n",
            "\n",
            "[121 rows x 2 columns]\n"
          ]
        }
      ]
    },
    {
      "cell_type": "code",
      "source": [
        "import pandas as pd\n",
        "data=pd.read_csv('/content/dataset12.csv')\n",
        "z_score=(data-data.mean(numeric_only=True)/data.std(numeric_only=True))\n",
        "print(z_score)"
      ],
      "metadata": {
        "colab": {
          "base_uri": "https://localhost:8080/"
        },
        "id": "2jdGEwim5AUf",
        "outputId": "3c377a23-60d4-4042-9867-eb4a2ca1b04b"
      },
      "execution_count": 10,
      "outputs": [
        {
          "output_type": "stream",
          "name": "stdout",
          "text": [
            "    Deasaster Happen in last 3month Month  Price per kg Season       Temp  \\\n",
            "0                               NaN   NaN     19.847195    NaN  12.328883   \n",
            "1                               NaN   NaN           NaN    NaN  12.328883   \n",
            "2                               NaN   NaN     69.847195    NaN  12.328883   \n",
            "3                               NaN   NaN     24.847195    NaN  12.328883   \n",
            "4                               NaN   NaN     19.847195    NaN  12.328883   \n",
            "..                              ...   ...           ...    ...        ...   \n",
            "116                             NaN   NaN     32.847195    NaN  12.328883   \n",
            "117                             NaN   NaN     87.847195    NaN  12.328883   \n",
            "118                             NaN   NaN     23.847195    NaN  29.328883   \n",
            "119                             NaN   NaN     32.847195    NaN  30.328883   \n",
            "120                             NaN   NaN      8.847195    NaN  29.328883   \n",
            "\n",
            "    Vegetable Vegetable condition  \n",
            "0         NaN                 NaN  \n",
            "1         NaN                 NaN  \n",
            "2         NaN                 NaN  \n",
            "3         NaN                 NaN  \n",
            "4         NaN                 NaN  \n",
            "..        ...                 ...  \n",
            "116       NaN                 NaN  \n",
            "117       NaN                 NaN  \n",
            "118       NaN                 NaN  \n",
            "119       NaN                 NaN  \n",
            "120       NaN                 NaN  \n",
            "\n",
            "[121 rows x 7 columns]\n"
          ]
        }
      ]
    },
    {
      "cell_type": "code",
      "source": [
        "import pandas as pd\n",
        "import numpy as np\n",
        "\n",
        "data=pd.read_csv(\"/content/dataset12.csv\")\n",
        "mean=np.mean(data.select_dtypes(include='number'),axis=0)\n",
        "cov_matrix=np.cov(data.select_dtypes(include='number'),rowvar=False)\n",
        "inv_cov_matrix=np.linalg.inv(cov_matrix)\n",
        "outliers=[]\n",
        "for index ,row in data.iterrows():\n",
        "  diff=row-mean\n",
        "  point=row(data.select_dtypes(include='number').values)\n",
        "  mahalanobis_dist=mahalanobis(point,mean,inv_cov_matrix)\n",
        "  if mahalanobis_distance>-1:\n",
        "     outliers.append(index)\n",
        "print(outliers)"
      ],
      "metadata": {
        "colab": {
          "base_uri": "https://localhost:8080/",
          "height": 211
        },
        "id": "51XMnurv61yG",
        "outputId": "91885a20-c3f5-4f8f-ea08-8b31315be0d8"
      },
      "execution_count": 19,
      "outputs": [
        {
          "output_type": "error",
          "ename": "TypeError",
          "evalue": "'Series' object is not callable",
          "traceback": [
            "\u001b[0;31m---------------------------------------------------------------------------\u001b[0m",
            "\u001b[0;31mTypeError\u001b[0m                                 Traceback (most recent call last)",
            "\u001b[0;32m<ipython-input-19-2a0f6c27cf99>\u001b[0m in \u001b[0;36m<cell line: 9>\u001b[0;34m()\u001b[0m\n\u001b[1;32m      9\u001b[0m \u001b[0;32mfor\u001b[0m \u001b[0mindex\u001b[0m \u001b[0;34m,\u001b[0m\u001b[0mrow\u001b[0m \u001b[0;32min\u001b[0m \u001b[0mdata\u001b[0m\u001b[0;34m.\u001b[0m\u001b[0miterrows\u001b[0m\u001b[0;34m(\u001b[0m\u001b[0;34m)\u001b[0m\u001b[0;34m:\u001b[0m\u001b[0;34m\u001b[0m\u001b[0;34m\u001b[0m\u001b[0m\n\u001b[1;32m     10\u001b[0m   \u001b[0mdiff\u001b[0m\u001b[0;34m=\u001b[0m\u001b[0mrow\u001b[0m\u001b[0;34m-\u001b[0m\u001b[0mmean\u001b[0m\u001b[0;34m\u001b[0m\u001b[0;34m\u001b[0m\u001b[0m\n\u001b[0;32m---> 11\u001b[0;31m   \u001b[0mpoint\u001b[0m\u001b[0;34m=\u001b[0m\u001b[0mrow\u001b[0m\u001b[0;34m(\u001b[0m\u001b[0mdata\u001b[0m\u001b[0;34m.\u001b[0m\u001b[0mselect_dtypes\u001b[0m\u001b[0;34m(\u001b[0m\u001b[0minclude\u001b[0m\u001b[0;34m=\u001b[0m\u001b[0;34m'number'\u001b[0m\u001b[0;34m)\u001b[0m\u001b[0;34m.\u001b[0m\u001b[0mvalues\u001b[0m\u001b[0;34m)\u001b[0m\u001b[0;34m\u001b[0m\u001b[0;34m\u001b[0m\u001b[0m\n\u001b[0m\u001b[1;32m     12\u001b[0m   \u001b[0mmahalanobis_dist\u001b[0m\u001b[0;34m=\u001b[0m\u001b[0mmahalanobis\u001b[0m\u001b[0;34m(\u001b[0m\u001b[0mpoint\u001b[0m\u001b[0;34m,\u001b[0m\u001b[0mmean\u001b[0m\u001b[0;34m,\u001b[0m\u001b[0minv_cov_matrix\u001b[0m\u001b[0;34m)\u001b[0m\u001b[0;34m\u001b[0m\u001b[0;34m\u001b[0m\u001b[0m\n\u001b[1;32m     13\u001b[0m   \u001b[0;32mif\u001b[0m \u001b[0mmahalanobis_distance\u001b[0m\u001b[0;34m>\u001b[0m\u001b[0;34m-\u001b[0m\u001b[0;36m1\u001b[0m\u001b[0;34m:\u001b[0m\u001b[0;34m\u001b[0m\u001b[0;34m\u001b[0m\u001b[0m\n",
            "\u001b[0;31mTypeError\u001b[0m: 'Series' object is not callable"
          ]
        }
      ]
    },
    {
      "cell_type": "code",
      "source": [
        "import pandas as pd\n",
        "data=pd.read_csv(\"/content/dataset12.csv\")\n",
        "numeric_data=data.select_dtypes(include='number')\n",
        "rolled_mean=numeric_data.rolling(window=2).mean()\n",
        "rolled_std=numeric_data.rolling(window=2).std()\n",
        "outliers=numeric_data[(numeric_data-rolled_mean).abs()>-1*rolled_std]\n",
        "print(outliers)\n",
        "\n"
      ],
      "metadata": {
        "colab": {
          "base_uri": "https://localhost:8080/"
        },
        "id": "qBHap2i77ghH",
        "outputId": "d535f092-ff83-411b-9b90-bb8da2902387"
      },
      "execution_count": 21,
      "outputs": [
        {
          "output_type": "stream",
          "name": "stdout",
          "text": [
            "     Temp  Price per kg\n",
            "0     NaN           NaN\n",
            "1     NaN           NaN\n",
            "2     NaN           NaN\n",
            "3     NaN          25.0\n",
            "4     NaN          20.0\n",
            "..    ...           ...\n",
            "116   NaN          33.0\n",
            "117   NaN          88.0\n",
            "118  32.0          24.0\n",
            "119  33.0          33.0\n",
            "120  32.0           9.0\n",
            "\n",
            "[121 rows x 2 columns]\n"
          ]
        }
      ]
    },
    {
      "cell_type": "code",
      "source": [
        "import pandas as pd\n",
        "data=pd.read_csv(\"/content/dataset12.csv\")\n",
        "print(data)"
      ],
      "metadata": {
        "colab": {
          "base_uri": "https://localhost:8080/"
        },
        "id": "cR7ZNGIK8cNt",
        "outputId": "f651b9a3-991b-43d7-e846-bd17a0127e3a"
      },
      "execution_count": 22,
      "outputs": [
        {
          "output_type": "stream",
          "name": "stdout",
          "text": [
            "    Vegetable  Season Month  Temp Deasaster Happen in last 3month  \\\n",
            "0      potato  winter   jan    15                              no   \n",
            "1     tomato   winter   NaN    15                              no   \n",
            "2        peas  winter   jan    15                              no   \n",
            "3      pumkin  winter   jan    15                             NaN   \n",
            "4    cucumber  winter   jan    15                              no   \n",
            "..        ...     ...   ...   ...                             ...   \n",
            "116   brinjal  winter   jan    15                             yes   \n",
            "117    ginger  winter   jan    15                              no   \n",
            "118    potato  summer   apr    32                              no   \n",
            "119      peas  summer   apr    33                              no   \n",
            "120    radish  summer   apr    32                              no   \n",
            "\n",
            "    Vegetable condition  Price per kg  \n",
            "0                 fresh          20.0  \n",
            "1                 fresh           NaN  \n",
            "2                 fresh          70.0  \n",
            "3                 fresh          25.0  \n",
            "4                 fresh          20.0  \n",
            "..                  ...           ...  \n",
            "116               fresh          33.0  \n",
            "117               fresh          88.0  \n",
            "118               fresh          24.0  \n",
            "119               fresh          33.0  \n",
            "120               fresh           9.0  \n",
            "\n",
            "[121 rows x 7 columns]\n"
          ]
        }
      ]
    },
    {
      "cell_type": "code",
      "source": [
        "import pandas as pd\n",
        "data=pd.read_csv(\"/content/dataset12.csv\")\n",
        "upper_cap=50\n",
        "lower_cap=10\n",
        "numeric_data=data.select_dtypes(include='number')\n",
        "data_clipped=numeric_data.clip(lower=lower_cap,upper=upper_cap)\n",
        "data[data_clipped.columns]=data_clipped\n",
        "print(data[data_clipped.columns])"
      ],
      "metadata": {
        "colab": {
          "base_uri": "https://localhost:8080/"
        },
        "id": "mfJjgfDk8nQb",
        "outputId": "d76e6933-398d-4cae-ad7d-a4f2fc667f2a"
      },
      "execution_count": 26,
      "outputs": [
        {
          "output_type": "stream",
          "name": "stdout",
          "text": [
            "     Temp  Price per kg\n",
            "0      15          20.0\n",
            "1      15           NaN\n",
            "2      15          50.0\n",
            "3      15          25.0\n",
            "4      15          20.0\n",
            "..    ...           ...\n",
            "116    15          33.0\n",
            "117    15          50.0\n",
            "118    32          24.0\n",
            "119    33          33.0\n",
            "120    32          10.0\n",
            "\n",
            "[121 rows x 2 columns]\n"
          ]
        }
      ]
    },
    {
      "cell_type": "code",
      "source": [
        "import pandas as pd\n",
        "data=pd.read_csv(\"/content/dataset12.csv\")\n",
        "data=data.select_dtypes(include='number')\n",
        "data_log_transformation=np.log(data)\n",
        "print(data_log_transformation)\n"
      ],
      "metadata": {
        "colab": {
          "base_uri": "https://localhost:8080/"
        },
        "id": "jlD4jS5b9RYL",
        "outputId": "8a5b3062-1ca9-4d21-d00a-a00ff3cf4973"
      },
      "execution_count": 27,
      "outputs": [
        {
          "output_type": "stream",
          "name": "stdout",
          "text": [
            "         Temp  Price per kg\n",
            "0    2.708050      2.995732\n",
            "1    2.708050           NaN\n",
            "2    2.708050      4.248495\n",
            "3    2.708050      3.218876\n",
            "4    2.708050      2.995732\n",
            "..        ...           ...\n",
            "116  2.708050      3.496508\n",
            "117  2.708050      4.477337\n",
            "118  3.465736      3.178054\n",
            "119  3.496508      3.496508\n",
            "120  3.465736      2.197225\n",
            "\n",
            "[121 rows x 2 columns]\n"
          ]
        }
      ]
    },
    {
      "cell_type": "code",
      "source": [
        "import pandas as pd\n",
        "data=pd.read_csv(\"/content/dataset12.csv\")\n",
        "outliers=[500]\n",
        "data=data[~data.isin(outliers)]\n",
        "print(data)"
      ],
      "metadata": {
        "colab": {
          "base_uri": "https://localhost:8080/"
        },
        "id": "3oCQr_kl9nl6",
        "outputId": "b2c2762d-47b7-46b3-87d9-45ad60ebf865"
      },
      "execution_count": 28,
      "outputs": [
        {
          "output_type": "stream",
          "name": "stdout",
          "text": [
            "    Vegetable  Season Month  Temp Deasaster Happen in last 3month  \\\n",
            "0      potato  winter   jan    15                              no   \n",
            "1     tomato   winter   NaN    15                              no   \n",
            "2        peas  winter   jan    15                              no   \n",
            "3      pumkin  winter   jan    15                             NaN   \n",
            "4    cucumber  winter   jan    15                              no   \n",
            "..        ...     ...   ...   ...                             ...   \n",
            "116   brinjal  winter   jan    15                             yes   \n",
            "117    ginger  winter   jan    15                              no   \n",
            "118    potato  summer   apr    32                              no   \n",
            "119      peas  summer   apr    33                              no   \n",
            "120    radish  summer   apr    32                              no   \n",
            "\n",
            "    Vegetable condition  Price per kg  \n",
            "0                 fresh          20.0  \n",
            "1                 fresh           NaN  \n",
            "2                 fresh          70.0  \n",
            "3                 fresh          25.0  \n",
            "4                 fresh          20.0  \n",
            "..                  ...           ...  \n",
            "116               fresh          33.0  \n",
            "117               fresh          88.0  \n",
            "118               fresh          24.0  \n",
            "119               fresh          33.0  \n",
            "120               fresh           9.0  \n",
            "\n",
            "[121 rows x 7 columns]\n"
          ]
        }
      ]
    }
  ]
}