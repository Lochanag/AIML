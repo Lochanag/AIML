{
  "cells": [
    {
      "cell_type": "markdown",
      "metadata": {
        "id": "view-in-github",
        "colab_type": "text"
      },
      "source": [
        "<a href=\"https://colab.research.google.com/github/Lochanag/AIML/blob/main/Assignment_2.ipynb\" target=\"_parent\"><img src=\"https://colab.research.google.com/assets/colab-badge.svg\" alt=\"Open In Colab\"/></a>"
      ]
    },
    {
      "cell_type": "code",
      "execution_count": null,
      "metadata": {
        "colab": {
          "base_uri": "https://localhost:8080/"
        },
        "id": "y3I4S3vO6c1-",
        "outputId": "afbe115e-a818-4d23-abf2-009029700650"
      },
      "outputs": [
        {
          "data": {
            "text/plain": [
              "YEAR                   1974.800\n",
              "TEAMS                    21.250\n",
              "MATCHES                  41.800\n",
              "GOALS                   118.950\n",
              "AVERAGE_GOALS             3.115\n",
              "AVERAGE_ATTENDANCE    41851.850\n",
              "dtype: float64"
            ]
          },
          "execution_count": 2,
          "metadata": {},
          "output_type": "execute_result"
        }
      ],
      "source": [
        "import pandas as pd\n",
        "path='/content/drive/MyDrive/drive/fifa-world-cup (1).csv'\n",
        "df=pd.read_csv(path)\n",
        "df.mean(numeric_only=True)"
      ]
    },
    {
      "cell_type": "code",
      "execution_count": null,
      "metadata": {
        "colab": {
          "base_uri": "https://localhost:8080/",
          "height": 676
        },
        "id": "r_lor34B7W4t",
        "outputId": "bef6650f-3254-4f3e-ca83-e2c9b918199f"
      },
      "outputs": [
        {
          "data": {
            "application/vnd.google.colaboratory.intrinsic+json": {
              "summary": "{\n  \"name\": \"df\",\n  \"rows\": 20,\n  \"fields\": [\n    {\n      \"column\": \"YEAR\",\n      \"properties\": {\n        \"dtype\": \"number\",\n        \"std\": 25,\n        \"min\": 1930,\n        \"max\": 2014,\n        \"num_unique_values\": 20,\n        \"samples\": [\n          1930,\n          2006,\n          1998\n        ],\n        \"semantic_type\": \"\",\n        \"description\": \"\"\n      }\n    },\n    {\n      \"column\": \"TEAMS\",\n      \"properties\": {\n        \"dtype\": \"number\",\n        \"std\": null,\n        \"min\": 16.0,\n        \"max\": 16.0,\n        \"num_unique_values\": 1,\n        \"samples\": [\n          16.0\n        ],\n        \"semantic_type\": \"\",\n        \"description\": \"\"\n      }\n    },\n    {\n      \"column\": \"MATCHES\",\n      \"properties\": {\n        \"dtype\": \"number\",\n        \"std\": null,\n        \"min\": 64.0,\n        \"max\": 64.0,\n        \"num_unique_values\": 1,\n        \"samples\": [\n          64.0\n        ],\n        \"semantic_type\": \"\",\n        \"description\": \"\"\n      }\n    },\n    {\n      \"column\": \"GOALS\",\n      \"properties\": {\n        \"dtype\": \"number\",\n        \"std\": 53.67494760127857,\n        \"min\": 70.0,\n        \"max\": 171.0,\n        \"num_unique_values\": 3,\n        \"samples\": [\n          70.0\n        ],\n        \"semantic_type\": \"\",\n        \"description\": \"\"\n      }\n    },\n    {\n      \"column\": \"AVERAGE_GOALS\",\n      \"properties\": {\n        \"dtype\": \"number\",\n        \"std\": null,\n        \"min\": 2.7,\n        \"max\": 2.7,\n        \"num_unique_values\": 1,\n        \"samples\": [\n          2.7\n        ],\n        \"semantic_type\": \"\",\n        \"description\": \"\"\n      }\n    },\n    {\n      \"column\": \"AVERAGE_ATTENDANCE\",\n      \"properties\": {\n        \"dtype\": \"number\",\n        \"std\": 12415,\n        \"min\": 20872,\n        \"max\": 68991,\n        \"num_unique_values\": 20,\n        \"samples\": [\n          20872\n        ],\n        \"semantic_type\": \"\",\n        \"description\": \"\"\n      }\n    }\n  ]\n}",
              "type": "dataframe"
            },
            "text/html": [
              "\n",
              "  <div id=\"df-ead76c62-4b60-4150-8853-6c715ba54e45\" class=\"colab-df-container\">\n",
              "    <div>\n",
              "<style scoped>\n",
              "    .dataframe tbody tr th:only-of-type {\n",
              "        vertical-align: middle;\n",
              "    }\n",
              "\n",
              "    .dataframe tbody tr th {\n",
              "        vertical-align: top;\n",
              "    }\n",
              "\n",
              "    .dataframe thead th {\n",
              "        text-align: right;\n",
              "    }\n",
              "</style>\n",
              "<table border=\"1\" class=\"dataframe\">\n",
              "  <thead>\n",
              "    <tr style=\"text-align: right;\">\n",
              "      <th></th>\n",
              "      <th>YEAR</th>\n",
              "      <th>TEAMS</th>\n",
              "      <th>MATCHES</th>\n",
              "      <th>GOALS</th>\n",
              "      <th>AVERAGE_GOALS</th>\n",
              "      <th>AVERAGE_ATTENDANCE</th>\n",
              "    </tr>\n",
              "  </thead>\n",
              "  <tbody>\n",
              "    <tr>\n",
              "      <th>0</th>\n",
              "      <td>1930</td>\n",
              "      <td>16.0</td>\n",
              "      <td>64.0</td>\n",
              "      <td>70.0</td>\n",
              "      <td>2.7</td>\n",
              "      <td>20872</td>\n",
              "    </tr>\n",
              "    <tr>\n",
              "      <th>1</th>\n",
              "      <td>1934</td>\n",
              "      <td>NaN</td>\n",
              "      <td>NaN</td>\n",
              "      <td>89.0</td>\n",
              "      <td>NaN</td>\n",
              "      <td>21352</td>\n",
              "    </tr>\n",
              "    <tr>\n",
              "      <th>2</th>\n",
              "      <td>1938</td>\n",
              "      <td>NaN</td>\n",
              "      <td>NaN</td>\n",
              "      <td>171.0</td>\n",
              "      <td>NaN</td>\n",
              "      <td>23423</td>\n",
              "    </tr>\n",
              "    <tr>\n",
              "      <th>3</th>\n",
              "      <td>1950</td>\n",
              "      <td>NaN</td>\n",
              "      <td>NaN</td>\n",
              "      <td>NaN</td>\n",
              "      <td>NaN</td>\n",
              "      <td>27911</td>\n",
              "    </tr>\n",
              "    <tr>\n",
              "      <th>4</th>\n",
              "      <td>1954</td>\n",
              "      <td>NaN</td>\n",
              "      <td>NaN</td>\n",
              "      <td>NaN</td>\n",
              "      <td>NaN</td>\n",
              "      <td>29561</td>\n",
              "    </tr>\n",
              "    <tr>\n",
              "      <th>5</th>\n",
              "      <td>1958</td>\n",
              "      <td>NaN</td>\n",
              "      <td>NaN</td>\n",
              "      <td>NaN</td>\n",
              "      <td>NaN</td>\n",
              "      <td>32808</td>\n",
              "    </tr>\n",
              "    <tr>\n",
              "      <th>6</th>\n",
              "      <td>1962</td>\n",
              "      <td>NaN</td>\n",
              "      <td>NaN</td>\n",
              "      <td>NaN</td>\n",
              "      <td>NaN</td>\n",
              "      <td>40571</td>\n",
              "    </tr>\n",
              "    <tr>\n",
              "      <th>7</th>\n",
              "      <td>1966</td>\n",
              "      <td>NaN</td>\n",
              "      <td>NaN</td>\n",
              "      <td>NaN</td>\n",
              "      <td>NaN</td>\n",
              "      <td>40678</td>\n",
              "    </tr>\n",
              "    <tr>\n",
              "      <th>8</th>\n",
              "      <td>1970</td>\n",
              "      <td>NaN</td>\n",
              "      <td>NaN</td>\n",
              "      <td>NaN</td>\n",
              "      <td>NaN</td>\n",
              "      <td>42268</td>\n",
              "    </tr>\n",
              "    <tr>\n",
              "      <th>9</th>\n",
              "      <td>1974</td>\n",
              "      <td>NaN</td>\n",
              "      <td>NaN</td>\n",
              "      <td>NaN</td>\n",
              "      <td>NaN</td>\n",
              "      <td>43517</td>\n",
              "    </tr>\n",
              "    <tr>\n",
              "      <th>10</th>\n",
              "      <td>1978</td>\n",
              "      <td>NaN</td>\n",
              "      <td>NaN</td>\n",
              "      <td>NaN</td>\n",
              "      <td>NaN</td>\n",
              "      <td>46039</td>\n",
              "    </tr>\n",
              "    <tr>\n",
              "      <th>11</th>\n",
              "      <td>1982</td>\n",
              "      <td>NaN</td>\n",
              "      <td>NaN</td>\n",
              "      <td>NaN</td>\n",
              "      <td>NaN</td>\n",
              "      <td>47511</td>\n",
              "    </tr>\n",
              "    <tr>\n",
              "      <th>12</th>\n",
              "      <td>1986</td>\n",
              "      <td>NaN</td>\n",
              "      <td>NaN</td>\n",
              "      <td>NaN</td>\n",
              "      <td>NaN</td>\n",
              "      <td>48388</td>\n",
              "    </tr>\n",
              "    <tr>\n",
              "      <th>13</th>\n",
              "      <td>1990</td>\n",
              "      <td>NaN</td>\n",
              "      <td>NaN</td>\n",
              "      <td>NaN</td>\n",
              "      <td>NaN</td>\n",
              "      <td>48847</td>\n",
              "    </tr>\n",
              "    <tr>\n",
              "      <th>14</th>\n",
              "      <td>1994</td>\n",
              "      <td>NaN</td>\n",
              "      <td>NaN</td>\n",
              "      <td>NaN</td>\n",
              "      <td>NaN</td>\n",
              "      <td>49098</td>\n",
              "    </tr>\n",
              "    <tr>\n",
              "      <th>15</th>\n",
              "      <td>1998</td>\n",
              "      <td>NaN</td>\n",
              "      <td>NaN</td>\n",
              "      <td>NaN</td>\n",
              "      <td>NaN</td>\n",
              "      <td>49669</td>\n",
              "    </tr>\n",
              "    <tr>\n",
              "      <th>16</th>\n",
              "      <td>2002</td>\n",
              "      <td>NaN</td>\n",
              "      <td>NaN</td>\n",
              "      <td>NaN</td>\n",
              "      <td>NaN</td>\n",
              "      <td>50124</td>\n",
              "    </tr>\n",
              "    <tr>\n",
              "      <th>17</th>\n",
              "      <td>2006</td>\n",
              "      <td>NaN</td>\n",
              "      <td>NaN</td>\n",
              "      <td>NaN</td>\n",
              "      <td>NaN</td>\n",
              "      <td>52491</td>\n",
              "    </tr>\n",
              "    <tr>\n",
              "      <th>18</th>\n",
              "      <td>2010</td>\n",
              "      <td>NaN</td>\n",
              "      <td>NaN</td>\n",
              "      <td>NaN</td>\n",
              "      <td>NaN</td>\n",
              "      <td>52918</td>\n",
              "    </tr>\n",
              "    <tr>\n",
              "      <th>19</th>\n",
              "      <td>2014</td>\n",
              "      <td>NaN</td>\n",
              "      <td>NaN</td>\n",
              "      <td>NaN</td>\n",
              "      <td>NaN</td>\n",
              "      <td>68991</td>\n",
              "    </tr>\n",
              "  </tbody>\n",
              "</table>\n",
              "</div>\n",
              "    <div class=\"colab-df-buttons\">\n",
              "\n",
              "  <div class=\"colab-df-container\">\n",
              "    <button class=\"colab-df-convert\" onclick=\"convertToInteractive('df-ead76c62-4b60-4150-8853-6c715ba54e45')\"\n",
              "            title=\"Convert this dataframe to an interactive table.\"\n",
              "            style=\"display:none;\">\n",
              "\n",
              "  <svg xmlns=\"http://www.w3.org/2000/svg\" height=\"24px\" viewBox=\"0 -960 960 960\">\n",
              "    <path d=\"M120-120v-720h720v720H120Zm60-500h600v-160H180v160Zm220 220h160v-160H400v160Zm0 220h160v-160H400v160ZM180-400h160v-160H180v160Zm440 0h160v-160H620v160ZM180-180h160v-160H180v160Zm440 0h160v-160H620v160Z\"/>\n",
              "  </svg>\n",
              "    </button>\n",
              "\n",
              "  <style>\n",
              "    .colab-df-container {\n",
              "      display:flex;\n",
              "      gap: 12px;\n",
              "    }\n",
              "\n",
              "    .colab-df-convert {\n",
              "      background-color: #E8F0FE;\n",
              "      border: none;\n",
              "      border-radius: 50%;\n",
              "      cursor: pointer;\n",
              "      display: none;\n",
              "      fill: #1967D2;\n",
              "      height: 32px;\n",
              "      padding: 0 0 0 0;\n",
              "      width: 32px;\n",
              "    }\n",
              "\n",
              "    .colab-df-convert:hover {\n",
              "      background-color: #E2EBFA;\n",
              "      box-shadow: 0px 1px 2px rgba(60, 64, 67, 0.3), 0px 1px 3px 1px rgba(60, 64, 67, 0.15);\n",
              "      fill: #174EA6;\n",
              "    }\n",
              "\n",
              "    .colab-df-buttons div {\n",
              "      margin-bottom: 4px;\n",
              "    }\n",
              "\n",
              "    [theme=dark] .colab-df-convert {\n",
              "      background-color: #3B4455;\n",
              "      fill: #D2E3FC;\n",
              "    }\n",
              "\n",
              "    [theme=dark] .colab-df-convert:hover {\n",
              "      background-color: #434B5C;\n",
              "      box-shadow: 0px 1px 3px 1px rgba(0, 0, 0, 0.15);\n",
              "      filter: drop-shadow(0px 1px 2px rgba(0, 0, 0, 0.3));\n",
              "      fill: #FFFFFF;\n",
              "    }\n",
              "  </style>\n",
              "\n",
              "    <script>\n",
              "      const buttonEl =\n",
              "        document.querySelector('#df-ead76c62-4b60-4150-8853-6c715ba54e45 button.colab-df-convert');\n",
              "      buttonEl.style.display =\n",
              "        google.colab.kernel.accessAllowed ? 'block' : 'none';\n",
              "\n",
              "      async function convertToInteractive(key) {\n",
              "        const element = document.querySelector('#df-ead76c62-4b60-4150-8853-6c715ba54e45');\n",
              "        const dataTable =\n",
              "          await google.colab.kernel.invokeFunction('convertToInteractive',\n",
              "                                                    [key], {});\n",
              "        if (!dataTable) return;\n",
              "\n",
              "        const docLinkHtml = 'Like what you see? Visit the ' +\n",
              "          '<a target=\"_blank\" href=https://colab.research.google.com/notebooks/data_table.ipynb>data table notebook</a>'\n",
              "          + ' to learn more about interactive tables.';\n",
              "        element.innerHTML = '';\n",
              "        dataTable['output_type'] = 'display_data';\n",
              "        await google.colab.output.renderOutput(dataTable, element);\n",
              "        const docLink = document.createElement('div');\n",
              "        docLink.innerHTML = docLinkHtml;\n",
              "        element.appendChild(docLink);\n",
              "      }\n",
              "    </script>\n",
              "  </div>\n",
              "\n",
              "\n",
              "<div id=\"df-166d90c4-a0f8-4582-9acb-90f20ca0628a\">\n",
              "  <button class=\"colab-df-quickchart\" onclick=\"quickchart('df-166d90c4-a0f8-4582-9acb-90f20ca0628a')\"\n",
              "            title=\"Suggest charts\"\n",
              "            style=\"display:none;\">\n",
              "\n",
              "<svg xmlns=\"http://www.w3.org/2000/svg\" height=\"24px\"viewBox=\"0 0 24 24\"\n",
              "     width=\"24px\">\n",
              "    <g>\n",
              "        <path d=\"M19 3H5c-1.1 0-2 .9-2 2v14c0 1.1.9 2 2 2h14c1.1 0 2-.9 2-2V5c0-1.1-.9-2-2-2zM9 17H7v-7h2v7zm4 0h-2V7h2v10zm4 0h-2v-4h2v4z\"/>\n",
              "    </g>\n",
              "</svg>\n",
              "  </button>\n",
              "\n",
              "<style>\n",
              "  .colab-df-quickchart {\n",
              "      --bg-color: #E8F0FE;\n",
              "      --fill-color: #1967D2;\n",
              "      --hover-bg-color: #E2EBFA;\n",
              "      --hover-fill-color: #174EA6;\n",
              "      --disabled-fill-color: #AAA;\n",
              "      --disabled-bg-color: #DDD;\n",
              "  }\n",
              "\n",
              "  [theme=dark] .colab-df-quickchart {\n",
              "      --bg-color: #3B4455;\n",
              "      --fill-color: #D2E3FC;\n",
              "      --hover-bg-color: #434B5C;\n",
              "      --hover-fill-color: #FFFFFF;\n",
              "      --disabled-bg-color: #3B4455;\n",
              "      --disabled-fill-color: #666;\n",
              "  }\n",
              "\n",
              "  .colab-df-quickchart {\n",
              "    background-color: var(--bg-color);\n",
              "    border: none;\n",
              "    border-radius: 50%;\n",
              "    cursor: pointer;\n",
              "    display: none;\n",
              "    fill: var(--fill-color);\n",
              "    height: 32px;\n",
              "    padding: 0;\n",
              "    width: 32px;\n",
              "  }\n",
              "\n",
              "  .colab-df-quickchart:hover {\n",
              "    background-color: var(--hover-bg-color);\n",
              "    box-shadow: 0 1px 2px rgba(60, 64, 67, 0.3), 0 1px 3px 1px rgba(60, 64, 67, 0.15);\n",
              "    fill: var(--button-hover-fill-color);\n",
              "  }\n",
              "\n",
              "  .colab-df-quickchart-complete:disabled,\n",
              "  .colab-df-quickchart-complete:disabled:hover {\n",
              "    background-color: var(--disabled-bg-color);\n",
              "    fill: var(--disabled-fill-color);\n",
              "    box-shadow: none;\n",
              "  }\n",
              "\n",
              "  .colab-df-spinner {\n",
              "    border: 2px solid var(--fill-color);\n",
              "    border-color: transparent;\n",
              "    border-bottom-color: var(--fill-color);\n",
              "    animation:\n",
              "      spin 1s steps(1) infinite;\n",
              "  }\n",
              "\n",
              "  @keyframes spin {\n",
              "    0% {\n",
              "      border-color: transparent;\n",
              "      border-bottom-color: var(--fill-color);\n",
              "      border-left-color: var(--fill-color);\n",
              "    }\n",
              "    20% {\n",
              "      border-color: transparent;\n",
              "      border-left-color: var(--fill-color);\n",
              "      border-top-color: var(--fill-color);\n",
              "    }\n",
              "    30% {\n",
              "      border-color: transparent;\n",
              "      border-left-color: var(--fill-color);\n",
              "      border-top-color: var(--fill-color);\n",
              "      border-right-color: var(--fill-color);\n",
              "    }\n",
              "    40% {\n",
              "      border-color: transparent;\n",
              "      border-right-color: var(--fill-color);\n",
              "      border-top-color: var(--fill-color);\n",
              "    }\n",
              "    60% {\n",
              "      border-color: transparent;\n",
              "      border-right-color: var(--fill-color);\n",
              "    }\n",
              "    80% {\n",
              "      border-color: transparent;\n",
              "      border-right-color: var(--fill-color);\n",
              "      border-bottom-color: var(--fill-color);\n",
              "    }\n",
              "    90% {\n",
              "      border-color: transparent;\n",
              "      border-bottom-color: var(--fill-color);\n",
              "    }\n",
              "  }\n",
              "</style>\n",
              "\n",
              "  <script>\n",
              "    async function quickchart(key) {\n",
              "      const quickchartButtonEl =\n",
              "        document.querySelector('#' + key + ' button');\n",
              "      quickchartButtonEl.disabled = true;  // To prevent multiple clicks.\n",
              "      quickchartButtonEl.classList.add('colab-df-spinner');\n",
              "      try {\n",
              "        const charts = await google.colab.kernel.invokeFunction(\n",
              "            'suggestCharts', [key], {});\n",
              "      } catch (error) {\n",
              "        console.error('Error during call to suggestCharts:', error);\n",
              "      }\n",
              "      quickchartButtonEl.classList.remove('colab-df-spinner');\n",
              "      quickchartButtonEl.classList.add('colab-df-quickchart-complete');\n",
              "    }\n",
              "    (() => {\n",
              "      let quickchartButtonEl =\n",
              "        document.querySelector('#df-166d90c4-a0f8-4582-9acb-90f20ca0628a button');\n",
              "      quickchartButtonEl.style.display =\n",
              "        google.colab.kernel.accessAllowed ? 'block' : 'none';\n",
              "    })();\n",
              "  </script>\n",
              "</div>\n",
              "\n",
              "    </div>\n",
              "  </div>\n"
            ],
            "text/plain": [
              "    YEAR  TEAMS  MATCHES  GOALS  AVERAGE_GOALS  AVERAGE_ATTENDANCE\n",
              "0   1930   16.0     64.0   70.0            2.7               20872\n",
              "1   1934    NaN      NaN   89.0            NaN               21352\n",
              "2   1938    NaN      NaN  171.0            NaN               23423\n",
              "3   1950    NaN      NaN    NaN            NaN               27911\n",
              "4   1954    NaN      NaN    NaN            NaN               29561\n",
              "5   1958    NaN      NaN    NaN            NaN               32808\n",
              "6   1962    NaN      NaN    NaN            NaN               40571\n",
              "7   1966    NaN      NaN    NaN            NaN               40678\n",
              "8   1970    NaN      NaN    NaN            NaN               42268\n",
              "9   1974    NaN      NaN    NaN            NaN               43517\n",
              "10  1978    NaN      NaN    NaN            NaN               46039\n",
              "11  1982    NaN      NaN    NaN            NaN               47511\n",
              "12  1986    NaN      NaN    NaN            NaN               48388\n",
              "13  1990    NaN      NaN    NaN            NaN               48847\n",
              "14  1994    NaN      NaN    NaN            NaN               49098\n",
              "15  1998    NaN      NaN    NaN            NaN               49669\n",
              "16  2002    NaN      NaN    NaN            NaN               50124\n",
              "17  2006    NaN      NaN    NaN            NaN               52491\n",
              "18  2010    NaN      NaN    NaN            NaN               52918\n",
              "19  2014    NaN      NaN    NaN            NaN               68991"
            ]
          },
          "execution_count": 6,
          "metadata": {},
          "output_type": "execute_result"
        }
      ],
      "source": [
        "import pandas as pd\n",
        "path='/content/drive/MyDrive/drive/fifa-world-cup (1).csv'\n",
        "df=pd.read_csv(path)\n",
        "df.mode(numeric_only=True)"
      ]
    },
    {
      "cell_type": "code",
      "execution_count": null,
      "metadata": {
        "colab": {
          "base_uri": "https://localhost:8080/"
        },
        "id": "2ni_ngBO7clB",
        "outputId": "f91432d6-8055-4978-ae52-a17957a18b0e"
      },
      "outputs": [
        {
          "data": {
            "text/plain": [
              "YEAR                   1976.00\n",
              "TEAMS                    16.00\n",
              "MATCHES                  38.00\n",
              "GOALS                   120.50\n",
              "AVERAGE_GOALS             2.75\n",
              "AVERAGE_ATTENDANCE    44778.00\n",
              "dtype: float64"
            ]
          },
          "execution_count": 4,
          "metadata": {},
          "output_type": "execute_result"
        }
      ],
      "source": [
        "import pandas as pd\n",
        "path='/content/drive/MyDrive/drive/fifa-world-cup (1).csv'\n",
        "df=pd.read_csv(path)\n",
        "df.median(numeric_only=True)"
      ]
    },
    {
      "cell_type": "code",
      "execution_count": null,
      "metadata": {
        "colab": {
          "base_uri": "https://localhost:8080/"
        },
        "id": "H85zDKeo8FQ9",
        "outputId": "04cc1f65-9bcf-4cdb-c481-33b413404fa2"
      },
      "outputs": [
        {
          "data": {
            "text/plain": [
              "YEAR                     84.0\n",
              "TEAMS                    19.0\n",
              "MATCHES                  47.0\n",
              "GOALS                   101.0\n",
              "AVERAGE_GOALS             3.2\n",
              "AVERAGE_ATTENDANCE    48119.0\n",
              "dtype: float64"
            ]
          },
          "execution_count": 26,
          "metadata": {},
          "output_type": "execute_result"
        }
      ],
      "source": [
        "import pandas as pd\n",
        "path='/content/drive/MyDrive/drive/fifa-world-cup (1).csv'\n",
        "df=pd.read_csv(path)\n",
        "df.max(numeric_only=True)-df.min(numeric_only=True)\n"
      ]
    },
    {
      "cell_type": "code",
      "execution_count": null,
      "metadata": {
        "colab": {
          "base_uri": "https://localhost:8080/"
        },
        "id": "cMVqW37Y_r-y",
        "outputId": "140523ad-401a-4da7-c38c-6e19a0912807"
      },
      "outputs": [
        {
          "data": {
            "text/plain": [
              "YEAR                  6.544842e+02\n",
              "TEAMS                 5.282895e+01\n",
              "MATCHES               2.964842e+02\n",
              "GOALS                 1.087208e+03\n",
              "AVERAGE_GOALS         7.645000e-01\n",
              "AVERAGE_ATTENDANCE    1.541383e+08\n",
              "dtype: float64"
            ]
          },
          "execution_count": 27,
          "metadata": {},
          "output_type": "execute_result"
        }
      ],
      "source": [
        "import pandas as pd\n",
        "path='/content/drive/MyDrive/drive/fifa-world-cup (1).csv'\n",
        "df=pd.read_csv(path)\n",
        "df.var(numeric_only=True)"
      ]
    },
    {
      "cell_type": "code",
      "execution_count": null,
      "metadata": {
        "colab": {
          "base_uri": "https://localhost:8080/"
        },
        "id": "QgQ4-F9q__MQ",
        "outputId": "3c853e9a-695c-44d4-9a9e-32743391c5a2"
      },
      "outputs": [
        {
          "data": {
            "text/plain": [
              "YEAR                     25.582889\n",
              "TEAMS                     7.268352\n",
              "MATCHES                  17.218717\n",
              "GOALS                    32.972836\n",
              "AVERAGE_GOALS             0.874357\n",
              "AVERAGE_ATTENDANCE    12415.244480\n",
              "dtype: float64"
            ]
          },
          "execution_count": 28,
          "metadata": {},
          "output_type": "execute_result"
        }
      ],
      "source": [
        "import pandas as pd\n",
        "path='/content/drive/MyDrive/drive/fifa-world-cup (1).csv'\n",
        "df=pd.read_csv(path)\n",
        "df.std(numeric_only=True)"
      ]
    },
    {
      "cell_type": "code",
      "execution_count": null,
      "metadata": {
        "colab": {
          "base_uri": "https://localhost:8080/",
          "height": 237
        },
        "id": "0veRd6SDAEAQ",
        "outputId": "67cce435-7a2c-4fbc-edd9-9bb001c97ccf"
      },
      "outputs": [
        {
          "data": {
            "application/vnd.google.colaboratory.intrinsic+json": {
              "summary": "{\n  \"name\": \"df\",\n  \"rows\": 6,\n  \"fields\": [\n    {\n      \"column\": \"YEAR\",\n      \"properties\": {\n        \"dtype\": \"number\",\n        \"std\": 91270.83787614333,\n        \"min\": -17.50736842105263,\n        \"max\": 223952.33684210526,\n        \"num_unique_values\": 6,\n        \"samples\": [\n          654.484210526316,\n          166.52631578947367,\n          223952.33684210526\n        ],\n        \"semantic_type\": \"\",\n        \"description\": \"\"\n      }\n    },\n    {\n      \"column\": \"TEAMS\",\n      \"properties\": {\n        \"dtype\": \"number\",\n        \"std\": 17778.03821185845,\n        \"min\": -3.888157894736842,\n        \"max\": 43655.09210526314,\n        \"num_unique_values\": 6,\n        \"samples\": [\n          166.52631578947367,\n          52.82894736842105,\n          43655.09210526314\n        ],\n        \"semantic_type\": \"\",\n        \"description\": \"\"\n      }\n    },\n    {\n      \"column\": \"MATCHES\",\n      \"properties\": {\n        \"dtype\": \"number\",\n        \"std\": 52944.33683841764,\n        \"min\": -11.486315789473686,\n        \"max\": 129951.70526315788,\n        \"num_unique_values\": 6,\n        \"samples\": [\n          428.37894736842105,\n          118.78947368421052,\n          129951.70526315788\n        ],\n        \"semantic_type\": \"\",\n        \"description\": \"\"\n      }\n    },\n    {\n      \"column\": \"GOALS\",\n      \"properties\": {\n        \"dtype\": \"number\",\n        \"std\": 69870.78085529064,\n        \"min\": -11.220263157894736,\n        \"max\": 171641.41315789477,\n        \"num_unique_values\": 6,\n        \"samples\": [\n          700.0421052631579,\n          207.59210526315792,\n          171641.41315789477\n        ],\n        \"semantic_type\": \"\",\n        \"description\": \"\"\n      }\n    },\n    {\n      \"column\": \"AVERAGE_GOALS\",\n      \"properties\": {\n        \"dtype\": \"number\",\n        \"std\": 2887.798032394171,\n        \"min\": -7082.281842105262,\n        \"max\": 0.7645000000000001,\n        \"num_unique_values\": 6,\n        \"samples\": [\n          -17.50736842105263,\n          -3.888157894736842,\n          -7082.281842105262\n        ],\n        \"semantic_type\": \"\",\n        \"description\": \"\"\n      }\n    },\n    {\n      \"column\": \"AVERAGE_ATTENDANCE\",\n      \"properties\": {\n        \"dtype\": \"number\",\n        \"std\": 62880854.94951871,\n        \"min\": -7082.281842105262,\n        \"max\": 154138295.50263155,\n        \"num_unique_values\": 6,\n        \"samples\": [\n          223952.33684210526,\n          43655.09210526314,\n          154138295.50263155\n        ],\n        \"semantic_type\": \"\",\n        \"description\": \"\"\n      }\n    }\n  ]\n}",
              "type": "dataframe"
            },
            "text/html": [
              "\n",
              "  <div id=\"df-dc40e7e7-bd64-494a-b297-ba1fe3e0b201\" class=\"colab-df-container\">\n",
              "    <div>\n",
              "<style scoped>\n",
              "    .dataframe tbody tr th:only-of-type {\n",
              "        vertical-align: middle;\n",
              "    }\n",
              "\n",
              "    .dataframe tbody tr th {\n",
              "        vertical-align: top;\n",
              "    }\n",
              "\n",
              "    .dataframe thead th {\n",
              "        text-align: right;\n",
              "    }\n",
              "</style>\n",
              "<table border=\"1\" class=\"dataframe\">\n",
              "  <thead>\n",
              "    <tr style=\"text-align: right;\">\n",
              "      <th></th>\n",
              "      <th>YEAR</th>\n",
              "      <th>TEAMS</th>\n",
              "      <th>MATCHES</th>\n",
              "      <th>GOALS</th>\n",
              "      <th>AVERAGE_GOALS</th>\n",
              "      <th>AVERAGE_ATTENDANCE</th>\n",
              "    </tr>\n",
              "  </thead>\n",
              "  <tbody>\n",
              "    <tr>\n",
              "      <th>YEAR</th>\n",
              "      <td>654.484211</td>\n",
              "      <td>166.526316</td>\n",
              "      <td>428.378947</td>\n",
              "      <td>700.042105</td>\n",
              "      <td>-17.507368</td>\n",
              "      <td>2.239523e+05</td>\n",
              "    </tr>\n",
              "    <tr>\n",
              "      <th>TEAMS</th>\n",
              "      <td>166.526316</td>\n",
              "      <td>52.828947</td>\n",
              "      <td>118.789474</td>\n",
              "      <td>207.592105</td>\n",
              "      <td>-3.888158</td>\n",
              "      <td>4.365509e+04</td>\n",
              "    </tr>\n",
              "    <tr>\n",
              "      <th>MATCHES</th>\n",
              "      <td>428.378947</td>\n",
              "      <td>118.789474</td>\n",
              "      <td>296.484211</td>\n",
              "      <td>497.463158</td>\n",
              "      <td>-11.486316</td>\n",
              "      <td>1.299517e+05</td>\n",
              "    </tr>\n",
              "    <tr>\n",
              "      <th>GOALS</th>\n",
              "      <td>700.042105</td>\n",
              "      <td>207.592105</td>\n",
              "      <td>497.463158</td>\n",
              "      <td>1087.207895</td>\n",
              "      <td>-11.220263</td>\n",
              "      <td>1.716414e+05</td>\n",
              "    </tr>\n",
              "    <tr>\n",
              "      <th>AVERAGE_GOALS</th>\n",
              "      <td>-17.507368</td>\n",
              "      <td>-3.888158</td>\n",
              "      <td>-11.486316</td>\n",
              "      <td>-11.220263</td>\n",
              "      <td>0.764500</td>\n",
              "      <td>-7.082282e+03</td>\n",
              "    </tr>\n",
              "    <tr>\n",
              "      <th>AVERAGE_ATTENDANCE</th>\n",
              "      <td>223952.336842</td>\n",
              "      <td>43655.092105</td>\n",
              "      <td>129951.705263</td>\n",
              "      <td>171641.413158</td>\n",
              "      <td>-7082.281842</td>\n",
              "      <td>1.541383e+08</td>\n",
              "    </tr>\n",
              "  </tbody>\n",
              "</table>\n",
              "</div>\n",
              "    <div class=\"colab-df-buttons\">\n",
              "\n",
              "  <div class=\"colab-df-container\">\n",
              "    <button class=\"colab-df-convert\" onclick=\"convertToInteractive('df-dc40e7e7-bd64-494a-b297-ba1fe3e0b201')\"\n",
              "            title=\"Convert this dataframe to an interactive table.\"\n",
              "            style=\"display:none;\">\n",
              "\n",
              "  <svg xmlns=\"http://www.w3.org/2000/svg\" height=\"24px\" viewBox=\"0 -960 960 960\">\n",
              "    <path d=\"M120-120v-720h720v720H120Zm60-500h600v-160H180v160Zm220 220h160v-160H400v160Zm0 220h160v-160H400v160ZM180-400h160v-160H180v160Zm440 0h160v-160H620v160ZM180-180h160v-160H180v160Zm440 0h160v-160H620v160Z\"/>\n",
              "  </svg>\n",
              "    </button>\n",
              "\n",
              "  <style>\n",
              "    .colab-df-container {\n",
              "      display:flex;\n",
              "      gap: 12px;\n",
              "    }\n",
              "\n",
              "    .colab-df-convert {\n",
              "      background-color: #E8F0FE;\n",
              "      border: none;\n",
              "      border-radius: 50%;\n",
              "      cursor: pointer;\n",
              "      display: none;\n",
              "      fill: #1967D2;\n",
              "      height: 32px;\n",
              "      padding: 0 0 0 0;\n",
              "      width: 32px;\n",
              "    }\n",
              "\n",
              "    .colab-df-convert:hover {\n",
              "      background-color: #E2EBFA;\n",
              "      box-shadow: 0px 1px 2px rgba(60, 64, 67, 0.3), 0px 1px 3px 1px rgba(60, 64, 67, 0.15);\n",
              "      fill: #174EA6;\n",
              "    }\n",
              "\n",
              "    .colab-df-buttons div {\n",
              "      margin-bottom: 4px;\n",
              "    }\n",
              "\n",
              "    [theme=dark] .colab-df-convert {\n",
              "      background-color: #3B4455;\n",
              "      fill: #D2E3FC;\n",
              "    }\n",
              "\n",
              "    [theme=dark] .colab-df-convert:hover {\n",
              "      background-color: #434B5C;\n",
              "      box-shadow: 0px 1px 3px 1px rgba(0, 0, 0, 0.15);\n",
              "      filter: drop-shadow(0px 1px 2px rgba(0, 0, 0, 0.3));\n",
              "      fill: #FFFFFF;\n",
              "    }\n",
              "  </style>\n",
              "\n",
              "    <script>\n",
              "      const buttonEl =\n",
              "        document.querySelector('#df-dc40e7e7-bd64-494a-b297-ba1fe3e0b201 button.colab-df-convert');\n",
              "      buttonEl.style.display =\n",
              "        google.colab.kernel.accessAllowed ? 'block' : 'none';\n",
              "\n",
              "      async function convertToInteractive(key) {\n",
              "        const element = document.querySelector('#df-dc40e7e7-bd64-494a-b297-ba1fe3e0b201');\n",
              "        const dataTable =\n",
              "          await google.colab.kernel.invokeFunction('convertToInteractive',\n",
              "                                                    [key], {});\n",
              "        if (!dataTable) return;\n",
              "\n",
              "        const docLinkHtml = 'Like what you see? Visit the ' +\n",
              "          '<a target=\"_blank\" href=https://colab.research.google.com/notebooks/data_table.ipynb>data table notebook</a>'\n",
              "          + ' to learn more about interactive tables.';\n",
              "        element.innerHTML = '';\n",
              "        dataTable['output_type'] = 'display_data';\n",
              "        await google.colab.output.renderOutput(dataTable, element);\n",
              "        const docLink = document.createElement('div');\n",
              "        docLink.innerHTML = docLinkHtml;\n",
              "        element.appendChild(docLink);\n",
              "      }\n",
              "    </script>\n",
              "  </div>\n",
              "\n",
              "\n",
              "<div id=\"df-c788c65e-3215-4e25-ad2e-bfb8ba3966a5\">\n",
              "  <button class=\"colab-df-quickchart\" onclick=\"quickchart('df-c788c65e-3215-4e25-ad2e-bfb8ba3966a5')\"\n",
              "            title=\"Suggest charts\"\n",
              "            style=\"display:none;\">\n",
              "\n",
              "<svg xmlns=\"http://www.w3.org/2000/svg\" height=\"24px\"viewBox=\"0 0 24 24\"\n",
              "     width=\"24px\">\n",
              "    <g>\n",
              "        <path d=\"M19 3H5c-1.1 0-2 .9-2 2v14c0 1.1.9 2 2 2h14c1.1 0 2-.9 2-2V5c0-1.1-.9-2-2-2zM9 17H7v-7h2v7zm4 0h-2V7h2v10zm4 0h-2v-4h2v4z\"/>\n",
              "    </g>\n",
              "</svg>\n",
              "  </button>\n",
              "\n",
              "<style>\n",
              "  .colab-df-quickchart {\n",
              "      --bg-color: #E8F0FE;\n",
              "      --fill-color: #1967D2;\n",
              "      --hover-bg-color: #E2EBFA;\n",
              "      --hover-fill-color: #174EA6;\n",
              "      --disabled-fill-color: #AAA;\n",
              "      --disabled-bg-color: #DDD;\n",
              "  }\n",
              "\n",
              "  [theme=dark] .colab-df-quickchart {\n",
              "      --bg-color: #3B4455;\n",
              "      --fill-color: #D2E3FC;\n",
              "      --hover-bg-color: #434B5C;\n",
              "      --hover-fill-color: #FFFFFF;\n",
              "      --disabled-bg-color: #3B4455;\n",
              "      --disabled-fill-color: #666;\n",
              "  }\n",
              "\n",
              "  .colab-df-quickchart {\n",
              "    background-color: var(--bg-color);\n",
              "    border: none;\n",
              "    border-radius: 50%;\n",
              "    cursor: pointer;\n",
              "    display: none;\n",
              "    fill: var(--fill-color);\n",
              "    height: 32px;\n",
              "    padding: 0;\n",
              "    width: 32px;\n",
              "  }\n",
              "\n",
              "  .colab-df-quickchart:hover {\n",
              "    background-color: var(--hover-bg-color);\n",
              "    box-shadow: 0 1px 2px rgba(60, 64, 67, 0.3), 0 1px 3px 1px rgba(60, 64, 67, 0.15);\n",
              "    fill: var(--button-hover-fill-color);\n",
              "  }\n",
              "\n",
              "  .colab-df-quickchart-complete:disabled,\n",
              "  .colab-df-quickchart-complete:disabled:hover {\n",
              "    background-color: var(--disabled-bg-color);\n",
              "    fill: var(--disabled-fill-color);\n",
              "    box-shadow: none;\n",
              "  }\n",
              "\n",
              "  .colab-df-spinner {\n",
              "    border: 2px solid var(--fill-color);\n",
              "    border-color: transparent;\n",
              "    border-bottom-color: var(--fill-color);\n",
              "    animation:\n",
              "      spin 1s steps(1) infinite;\n",
              "  }\n",
              "\n",
              "  @keyframes spin {\n",
              "    0% {\n",
              "      border-color: transparent;\n",
              "      border-bottom-color: var(--fill-color);\n",
              "      border-left-color: var(--fill-color);\n",
              "    }\n",
              "    20% {\n",
              "      border-color: transparent;\n",
              "      border-left-color: var(--fill-color);\n",
              "      border-top-color: var(--fill-color);\n",
              "    }\n",
              "    30% {\n",
              "      border-color: transparent;\n",
              "      border-left-color: var(--fill-color);\n",
              "      border-top-color: var(--fill-color);\n",
              "      border-right-color: var(--fill-color);\n",
              "    }\n",
              "    40% {\n",
              "      border-color: transparent;\n",
              "      border-right-color: var(--fill-color);\n",
              "      border-top-color: var(--fill-color);\n",
              "    }\n",
              "    60% {\n",
              "      border-color: transparent;\n",
              "      border-right-color: var(--fill-color);\n",
              "    }\n",
              "    80% {\n",
              "      border-color: transparent;\n",
              "      border-right-color: var(--fill-color);\n",
              "      border-bottom-color: var(--fill-color);\n",
              "    }\n",
              "    90% {\n",
              "      border-color: transparent;\n",
              "      border-bottom-color: var(--fill-color);\n",
              "    }\n",
              "  }\n",
              "</style>\n",
              "\n",
              "  <script>\n",
              "    async function quickchart(key) {\n",
              "      const quickchartButtonEl =\n",
              "        document.querySelector('#' + key + ' button');\n",
              "      quickchartButtonEl.disabled = true;  // To prevent multiple clicks.\n",
              "      quickchartButtonEl.classList.add('colab-df-spinner');\n",
              "      try {\n",
              "        const charts = await google.colab.kernel.invokeFunction(\n",
              "            'suggestCharts', [key], {});\n",
              "      } catch (error) {\n",
              "        console.error('Error during call to suggestCharts:', error);\n",
              "      }\n",
              "      quickchartButtonEl.classList.remove('colab-df-spinner');\n",
              "      quickchartButtonEl.classList.add('colab-df-quickchart-complete');\n",
              "    }\n",
              "    (() => {\n",
              "      let quickchartButtonEl =\n",
              "        document.querySelector('#df-c788c65e-3215-4e25-ad2e-bfb8ba3966a5 button');\n",
              "      quickchartButtonEl.style.display =\n",
              "        google.colab.kernel.accessAllowed ? 'block' : 'none';\n",
              "    })();\n",
              "  </script>\n",
              "</div>\n",
              "\n",
              "    </div>\n",
              "  </div>\n"
            ],
            "text/plain": [
              "                             YEAR         TEAMS        MATCHES          GOALS  \\\n",
              "YEAR                   654.484211    166.526316     428.378947     700.042105   \n",
              "TEAMS                  166.526316     52.828947     118.789474     207.592105   \n",
              "MATCHES                428.378947    118.789474     296.484211     497.463158   \n",
              "GOALS                  700.042105    207.592105     497.463158    1087.207895   \n",
              "AVERAGE_GOALS          -17.507368     -3.888158     -11.486316     -11.220263   \n",
              "AVERAGE_ATTENDANCE  223952.336842  43655.092105  129951.705263  171641.413158   \n",
              "\n",
              "                    AVERAGE_GOALS  AVERAGE_ATTENDANCE  \n",
              "YEAR                   -17.507368        2.239523e+05  \n",
              "TEAMS                   -3.888158        4.365509e+04  \n",
              "MATCHES                -11.486316        1.299517e+05  \n",
              "GOALS                  -11.220263        1.716414e+05  \n",
              "AVERAGE_GOALS            0.764500       -7.082282e+03  \n",
              "AVERAGE_ATTENDANCE   -7082.281842        1.541383e+08  "
            ]
          },
          "execution_count": 29,
          "metadata": {},
          "output_type": "execute_result"
        }
      ],
      "source": [
        "import pandas as pd\n",
        "path='/content/drive/MyDrive/drive/fifa-world-cup (1).csv'\n",
        "df=pd.read_csv(path)\n",
        "df.cov(numeric_only=True)"
      ]
    },
    {
      "cell_type": "code",
      "execution_count": null,
      "metadata": {
        "colab": {
          "base_uri": "https://localhost:8080/",
          "height": 237
        },
        "id": "_hiZdwkeAHXQ",
        "outputId": "cad7943d-d4f0-44f4-fc9c-e3c73c1da51c"
      },
      "outputs": [
        {
          "data": {
            "application/vnd.google.colaboratory.intrinsic+json": {
              "summary": "{\n  \"name\": \"df\",\n  \"rows\": 6,\n  \"fields\": [\n    {\n      \"column\": \"YEAR\",\n      \"properties\": {\n        \"dtype\": \"number\",\n        \"std\": 0.6872721933722341,\n        \"min\": -0.7826769417102497,\n        \"max\": 1.0,\n        \"num_unique_values\": 6,\n        \"samples\": [\n          1.0,\n          0.8955654042161374,\n          0.7051000339430119\n        ],\n        \"semantic_type\": \"\",\n        \"description\": \"\"\n      }\n    },\n    {\n      \"column\": \"TEAMS\",\n      \"properties\": {\n        \"dtype\": \"number\",\n        \"std\": 0.6200143393372989,\n        \"min\": -0.6118136601686348,\n        \"max\": 1.0,\n        \"num_unique_values\": 6,\n        \"samples\": [\n          0.8955654042161374,\n          1.0,\n          0.48377525899208135\n        ],\n        \"semantic_type\": \"\",\n        \"description\": \"\"\n      }\n    },\n    {\n      \"column\": \"MATCHES\",\n      \"properties\": {\n        \"dtype\": \"number\",\n        \"std\": 0.6861932012746791,\n        \"min\": -0.7629414709234454,\n        \"max\": 1.0,\n        \"num_unique_values\": 6,\n        \"samples\": [\n          0.972473437521645,\n          0.9491638617447441,\n          0.607891291601708\n        ],\n        \"semantic_type\": \"\",\n        \"description\": \"\"\n      }\n    },\n    {\n      \"column\": \"GOALS\",\n      \"properties\": {\n        \"dtype\": \"number\",\n        \"std\": 0.5236686474148988,\n        \"min\": -0.38918670806743033,\n        \"max\": 1.0,\n        \"num_unique_values\": 6,\n        \"samples\": [\n          0.8298856914264553,\n          0.8662007509563373,\n          0.41928614022656097\n        ],\n        \"semantic_type\": \"\",\n        \"description\": \"\"\n      }\n    },\n    {\n      \"column\": \"AVERAGE_GOALS\",\n      \"properties\": {\n        \"dtype\": \"number\",\n        \"std\": 0.6841252384978936,\n        \"min\": -0.7826769417102497,\n        \"max\": 1.0,\n        \"num_unique_values\": 6,\n        \"samples\": [\n          -0.7826769417102497,\n          -0.6118136601686348,\n          -0.6524228825589088\n        ],\n        \"semantic_type\": \"\",\n        \"description\": \"\"\n      }\n    },\n    {\n      \"column\": \"AVERAGE_ATTENDANCE\",\n      \"properties\": {\n        \"dtype\": \"number\",\n        \"std\": 0.5668909134187122,\n        \"min\": -0.6524228825589088,\n        \"max\": 1.0,\n        \"num_unique_values\": 6,\n        \"samples\": [\n          0.7051000339430119,\n          0.48377525899208135,\n          1.0\n        ],\n        \"semantic_type\": \"\",\n        \"description\": \"\"\n      }\n    }\n  ]\n}",
              "type": "dataframe"
            },
            "text/html": [
              "\n",
              "  <div id=\"df-c1a5d578-285b-495e-8a7b-01369127703c\" class=\"colab-df-container\">\n",
              "    <div>\n",
              "<style scoped>\n",
              "    .dataframe tbody tr th:only-of-type {\n",
              "        vertical-align: middle;\n",
              "    }\n",
              "\n",
              "    .dataframe tbody tr th {\n",
              "        vertical-align: top;\n",
              "    }\n",
              "\n",
              "    .dataframe thead th {\n",
              "        text-align: right;\n",
              "    }\n",
              "</style>\n",
              "<table border=\"1\" class=\"dataframe\">\n",
              "  <thead>\n",
              "    <tr style=\"text-align: right;\">\n",
              "      <th></th>\n",
              "      <th>YEAR</th>\n",
              "      <th>TEAMS</th>\n",
              "      <th>MATCHES</th>\n",
              "      <th>GOALS</th>\n",
              "      <th>AVERAGE_GOALS</th>\n",
              "      <th>AVERAGE_ATTENDANCE</th>\n",
              "    </tr>\n",
              "  </thead>\n",
              "  <tbody>\n",
              "    <tr>\n",
              "      <th>YEAR</th>\n",
              "      <td>1.000000</td>\n",
              "      <td>0.895565</td>\n",
              "      <td>0.972473</td>\n",
              "      <td>0.829886</td>\n",
              "      <td>-0.782677</td>\n",
              "      <td>0.705100</td>\n",
              "    </tr>\n",
              "    <tr>\n",
              "      <th>TEAMS</th>\n",
              "      <td>0.895565</td>\n",
              "      <td>1.000000</td>\n",
              "      <td>0.949164</td>\n",
              "      <td>0.866201</td>\n",
              "      <td>-0.611814</td>\n",
              "      <td>0.483775</td>\n",
              "    </tr>\n",
              "    <tr>\n",
              "      <th>MATCHES</th>\n",
              "      <td>0.972473</td>\n",
              "      <td>0.949164</td>\n",
              "      <td>1.000000</td>\n",
              "      <td>0.876201</td>\n",
              "      <td>-0.762941</td>\n",
              "      <td>0.607891</td>\n",
              "    </tr>\n",
              "    <tr>\n",
              "      <th>GOALS</th>\n",
              "      <td>0.829886</td>\n",
              "      <td>0.866201</td>\n",
              "      <td>0.876201</td>\n",
              "      <td>1.000000</td>\n",
              "      <td>-0.389187</td>\n",
              "      <td>0.419286</td>\n",
              "    </tr>\n",
              "    <tr>\n",
              "      <th>AVERAGE_GOALS</th>\n",
              "      <td>-0.782677</td>\n",
              "      <td>-0.611814</td>\n",
              "      <td>-0.762941</td>\n",
              "      <td>-0.389187</td>\n",
              "      <td>1.000000</td>\n",
              "      <td>-0.652423</td>\n",
              "    </tr>\n",
              "    <tr>\n",
              "      <th>AVERAGE_ATTENDANCE</th>\n",
              "      <td>0.705100</td>\n",
              "      <td>0.483775</td>\n",
              "      <td>0.607891</td>\n",
              "      <td>0.419286</td>\n",
              "      <td>-0.652423</td>\n",
              "      <td>1.000000</td>\n",
              "    </tr>\n",
              "  </tbody>\n",
              "</table>\n",
              "</div>\n",
              "    <div class=\"colab-df-buttons\">\n",
              "\n",
              "  <div class=\"colab-df-container\">\n",
              "    <button class=\"colab-df-convert\" onclick=\"convertToInteractive('df-c1a5d578-285b-495e-8a7b-01369127703c')\"\n",
              "            title=\"Convert this dataframe to an interactive table.\"\n",
              "            style=\"display:none;\">\n",
              "\n",
              "  <svg xmlns=\"http://www.w3.org/2000/svg\" height=\"24px\" viewBox=\"0 -960 960 960\">\n",
              "    <path d=\"M120-120v-720h720v720H120Zm60-500h600v-160H180v160Zm220 220h160v-160H400v160Zm0 220h160v-160H400v160ZM180-400h160v-160H180v160Zm440 0h160v-160H620v160ZM180-180h160v-160H180v160Zm440 0h160v-160H620v160Z\"/>\n",
              "  </svg>\n",
              "    </button>\n",
              "\n",
              "  <style>\n",
              "    .colab-df-container {\n",
              "      display:flex;\n",
              "      gap: 12px;\n",
              "    }\n",
              "\n",
              "    .colab-df-convert {\n",
              "      background-color: #E8F0FE;\n",
              "      border: none;\n",
              "      border-radius: 50%;\n",
              "      cursor: pointer;\n",
              "      display: none;\n",
              "      fill: #1967D2;\n",
              "      height: 32px;\n",
              "      padding: 0 0 0 0;\n",
              "      width: 32px;\n",
              "    }\n",
              "\n",
              "    .colab-df-convert:hover {\n",
              "      background-color: #E2EBFA;\n",
              "      box-shadow: 0px 1px 2px rgba(60, 64, 67, 0.3), 0px 1px 3px 1px rgba(60, 64, 67, 0.15);\n",
              "      fill: #174EA6;\n",
              "    }\n",
              "\n",
              "    .colab-df-buttons div {\n",
              "      margin-bottom: 4px;\n",
              "    }\n",
              "\n",
              "    [theme=dark] .colab-df-convert {\n",
              "      background-color: #3B4455;\n",
              "      fill: #D2E3FC;\n",
              "    }\n",
              "\n",
              "    [theme=dark] .colab-df-convert:hover {\n",
              "      background-color: #434B5C;\n",
              "      box-shadow: 0px 1px 3px 1px rgba(0, 0, 0, 0.15);\n",
              "      filter: drop-shadow(0px 1px 2px rgba(0, 0, 0, 0.3));\n",
              "      fill: #FFFFFF;\n",
              "    }\n",
              "  </style>\n",
              "\n",
              "    <script>\n",
              "      const buttonEl =\n",
              "        document.querySelector('#df-c1a5d578-285b-495e-8a7b-01369127703c button.colab-df-convert');\n",
              "      buttonEl.style.display =\n",
              "        google.colab.kernel.accessAllowed ? 'block' : 'none';\n",
              "\n",
              "      async function convertToInteractive(key) {\n",
              "        const element = document.querySelector('#df-c1a5d578-285b-495e-8a7b-01369127703c');\n",
              "        const dataTable =\n",
              "          await google.colab.kernel.invokeFunction('convertToInteractive',\n",
              "                                                    [key], {});\n",
              "        if (!dataTable) return;\n",
              "\n",
              "        const docLinkHtml = 'Like what you see? Visit the ' +\n",
              "          '<a target=\"_blank\" href=https://colab.research.google.com/notebooks/data_table.ipynb>data table notebook</a>'\n",
              "          + ' to learn more about interactive tables.';\n",
              "        element.innerHTML = '';\n",
              "        dataTable['output_type'] = 'display_data';\n",
              "        await google.colab.output.renderOutput(dataTable, element);\n",
              "        const docLink = document.createElement('div');\n",
              "        docLink.innerHTML = docLinkHtml;\n",
              "        element.appendChild(docLink);\n",
              "      }\n",
              "    </script>\n",
              "  </div>\n",
              "\n",
              "\n",
              "<div id=\"df-4bd1419e-28f4-4d4a-b41e-5f1c1d3f291d\">\n",
              "  <button class=\"colab-df-quickchart\" onclick=\"quickchart('df-4bd1419e-28f4-4d4a-b41e-5f1c1d3f291d')\"\n",
              "            title=\"Suggest charts\"\n",
              "            style=\"display:none;\">\n",
              "\n",
              "<svg xmlns=\"http://www.w3.org/2000/svg\" height=\"24px\"viewBox=\"0 0 24 24\"\n",
              "     width=\"24px\">\n",
              "    <g>\n",
              "        <path d=\"M19 3H5c-1.1 0-2 .9-2 2v14c0 1.1.9 2 2 2h14c1.1 0 2-.9 2-2V5c0-1.1-.9-2-2-2zM9 17H7v-7h2v7zm4 0h-2V7h2v10zm4 0h-2v-4h2v4z\"/>\n",
              "    </g>\n",
              "</svg>\n",
              "  </button>\n",
              "\n",
              "<style>\n",
              "  .colab-df-quickchart {\n",
              "      --bg-color: #E8F0FE;\n",
              "      --fill-color: #1967D2;\n",
              "      --hover-bg-color: #E2EBFA;\n",
              "      --hover-fill-color: #174EA6;\n",
              "      --disabled-fill-color: #AAA;\n",
              "      --disabled-bg-color: #DDD;\n",
              "  }\n",
              "\n",
              "  [theme=dark] .colab-df-quickchart {\n",
              "      --bg-color: #3B4455;\n",
              "      --fill-color: #D2E3FC;\n",
              "      --hover-bg-color: #434B5C;\n",
              "      --hover-fill-color: #FFFFFF;\n",
              "      --disabled-bg-color: #3B4455;\n",
              "      --disabled-fill-color: #666;\n",
              "  }\n",
              "\n",
              "  .colab-df-quickchart {\n",
              "    background-color: var(--bg-color);\n",
              "    border: none;\n",
              "    border-radius: 50%;\n",
              "    cursor: pointer;\n",
              "    display: none;\n",
              "    fill: var(--fill-color);\n",
              "    height: 32px;\n",
              "    padding: 0;\n",
              "    width: 32px;\n",
              "  }\n",
              "\n",
              "  .colab-df-quickchart:hover {\n",
              "    background-color: var(--hover-bg-color);\n",
              "    box-shadow: 0 1px 2px rgba(60, 64, 67, 0.3), 0 1px 3px 1px rgba(60, 64, 67, 0.15);\n",
              "    fill: var(--button-hover-fill-color);\n",
              "  }\n",
              "\n",
              "  .colab-df-quickchart-complete:disabled,\n",
              "  .colab-df-quickchart-complete:disabled:hover {\n",
              "    background-color: var(--disabled-bg-color);\n",
              "    fill: var(--disabled-fill-color);\n",
              "    box-shadow: none;\n",
              "  }\n",
              "\n",
              "  .colab-df-spinner {\n",
              "    border: 2px solid var(--fill-color);\n",
              "    border-color: transparent;\n",
              "    border-bottom-color: var(--fill-color);\n",
              "    animation:\n",
              "      spin 1s steps(1) infinite;\n",
              "  }\n",
              "\n",
              "  @keyframes spin {\n",
              "    0% {\n",
              "      border-color: transparent;\n",
              "      border-bottom-color: var(--fill-color);\n",
              "      border-left-color: var(--fill-color);\n",
              "    }\n",
              "    20% {\n",
              "      border-color: transparent;\n",
              "      border-left-color: var(--fill-color);\n",
              "      border-top-color: var(--fill-color);\n",
              "    }\n",
              "    30% {\n",
              "      border-color: transparent;\n",
              "      border-left-color: var(--fill-color);\n",
              "      border-top-color: var(--fill-color);\n",
              "      border-right-color: var(--fill-color);\n",
              "    }\n",
              "    40% {\n",
              "      border-color: transparent;\n",
              "      border-right-color: var(--fill-color);\n",
              "      border-top-color: var(--fill-color);\n",
              "    }\n",
              "    60% {\n",
              "      border-color: transparent;\n",
              "      border-right-color: var(--fill-color);\n",
              "    }\n",
              "    80% {\n",
              "      border-color: transparent;\n",
              "      border-right-color: var(--fill-color);\n",
              "      border-bottom-color: var(--fill-color);\n",
              "    }\n",
              "    90% {\n",
              "      border-color: transparent;\n",
              "      border-bottom-color: var(--fill-color);\n",
              "    }\n",
              "  }\n",
              "</style>\n",
              "\n",
              "  <script>\n",
              "    async function quickchart(key) {\n",
              "      const quickchartButtonEl =\n",
              "        document.querySelector('#' + key + ' button');\n",
              "      quickchartButtonEl.disabled = true;  // To prevent multiple clicks.\n",
              "      quickchartButtonEl.classList.add('colab-df-spinner');\n",
              "      try {\n",
              "        const charts = await google.colab.kernel.invokeFunction(\n",
              "            'suggestCharts', [key], {});\n",
              "      } catch (error) {\n",
              "        console.error('Error during call to suggestCharts:', error);\n",
              "      }\n",
              "      quickchartButtonEl.classList.remove('colab-df-spinner');\n",
              "      quickchartButtonEl.classList.add('colab-df-quickchart-complete');\n",
              "    }\n",
              "    (() => {\n",
              "      let quickchartButtonEl =\n",
              "        document.querySelector('#df-4bd1419e-28f4-4d4a-b41e-5f1c1d3f291d button');\n",
              "      quickchartButtonEl.style.display =\n",
              "        google.colab.kernel.accessAllowed ? 'block' : 'none';\n",
              "    })();\n",
              "  </script>\n",
              "</div>\n",
              "\n",
              "    </div>\n",
              "  </div>\n"
            ],
            "text/plain": [
              "                        YEAR     TEAMS   MATCHES     GOALS  AVERAGE_GOALS  \\\n",
              "YEAR                1.000000  0.895565  0.972473  0.829886      -0.782677   \n",
              "TEAMS               0.895565  1.000000  0.949164  0.866201      -0.611814   \n",
              "MATCHES             0.972473  0.949164  1.000000  0.876201      -0.762941   \n",
              "GOALS               0.829886  0.866201  0.876201  1.000000      -0.389187   \n",
              "AVERAGE_GOALS      -0.782677 -0.611814 -0.762941 -0.389187       1.000000   \n",
              "AVERAGE_ATTENDANCE  0.705100  0.483775  0.607891  0.419286      -0.652423   \n",
              "\n",
              "                    AVERAGE_ATTENDANCE  \n",
              "YEAR                          0.705100  \n",
              "TEAMS                         0.483775  \n",
              "MATCHES                       0.607891  \n",
              "GOALS                         0.419286  \n",
              "AVERAGE_GOALS                -0.652423  \n",
              "AVERAGE_ATTENDANCE            1.000000  "
            ]
          },
          "execution_count": 30,
          "metadata": {},
          "output_type": "execute_result"
        }
      ],
      "source": [
        "import pandas as pd\n",
        "path='/content/drive/MyDrive/drive/fifa-world-cup (1).csv'\n",
        "df=pd.read_csv(path)\n",
        "df.corr(numeric_only=True)"
      ]
    },
    {
      "cell_type": "code",
      "execution_count": null,
      "metadata": {
        "colab": {
          "base_uri": "https://localhost:8080/",
          "height": 472
        },
        "id": "Fm5TQvdXAV-I",
        "outputId": "ccabacae-8987-4403-b6b8-ce5e5678e224"
      },
      "outputs": [
        {
          "data": {
            "image/png": "[encoded data removed]",
            "text/plain": [
              "<Figure size 640x480 with 1 Axes>"
            ]
          },
          "metadata": {},
          "output_type": "display_data"
        }
      ],
      "source": [
        "import pandas as pd\n",
        "df=pd.read_csv('/content/drive/MyDrive/drive/fifa-world-cup (1).csv')\n",
        "import matplotlib.pyplot as plt\n",
        "plt.bar(df['YEAR'],df['MATCHES'])\n",
        "plt.title('BAR PLOT')\n",
        "plt.xlabel('YEAR')\n",
        "plt.ylabel('MATCHES')\n",
        "plt.show()"
      ]
    },
    {
      "cell_type": "code",
      "execution_count": null,
      "metadata": {
        "colab": {
          "base_uri": "https://localhost:8080/",
          "height": 411
        },
        "id": "0hPl3MBvBi6X",
        "outputId": "7174e85f-fe6c-42f9-862d-e5bf569033ab"
      },
      "outputs": [
        {
          "output_type": "display_data",
          "data": {
            "text/plain": [
              "<Figure size 640x480 with 1 Axes>"
            ],
            "image/png": "[encoded data removed]"
          },
          "metadata": {}
        }
      ],
      "source": [
        "import pandas as pd\n",
        "df=pd.read_csv('/content/drive/MyDrive/drive/fifa-world-cup (1).csv')\n",
        "import matplotlib.pyplot as plt\n",
        "import seaborn as sns\n",
        "sns.violinplot(df['YEAR'])\n",
        "plt.show()"
      ]
    },
    {
      "cell_type": "code",
      "source": [
        "import pandas as pd\n",
        "df=pd.read_csv('/content/drive/MyDrive/drive/fifa-world-cup (1).csv')\n",
        "import matplotlib.pyplot as plt\n",
        "plt.boxplot(df['YEAR'])\n",
        "plt.title(\"BOX PLOT\")\n",
        "plt.ylabel('YEAR')\n",
        "plt.show()"
      ],
      "metadata": {
        "colab": {
          "base_uri": "https://localhost:8080/",
          "height": 452
        },
        "id": "QpguU_89Icu4",
        "outputId": "50226179-2b68-4c95-adfc-4e76229d7767"
      },
      "execution_count": null,
      "outputs": [
        {
          "output_type": "display_data",
          "data": {
            "text/plain": [
              "<Figure size 640x480 with 1 Axes>"
            ],
            "image/png": "[encoded data removed]"
          },
          "metadata": {}
        }
      ]
    },
    {
      "cell_type": "markdown",
      "source": [
        "multivariate plot"
      ],
      "metadata": {
        "id": "7NyKWhTAap1R"
      }
    },
    {
      "cell_type": "code",
      "source": [
        "plt.scatter(df['YEAR'],df['GOALS'])\n",
        "plt.title(\"SCATTER PLOT\")\n",
        "plt.xlabel('YEAR')\n",
        "plt.ylabel('GOALS')\n",
        "plt.show()"
      ],
      "metadata": {
        "colab": {
          "base_uri": "https://localhost:8080/",
          "height": 472
        },
        "id": "BRAqDJPWYbAu",
        "outputId": "27e397eb-98dd-41a6-8425-ba30d7734404"
      },
      "execution_count": null,
      "outputs": [
        {
          "output_type": "display_data",
          "data": {
            "text/plain": [
              "<Figure size 640x480 with 1 Axes>"
            ],
            "image/png": "[encoded data removed]"
          },
          "metadata": {}
        }
      ]
    },
    {
      "cell_type": "code",
      "source": [
        "import pandas as pd\n",
        "import seaborn as sns\n",
        "df=pd.read_csv('/content/drive/MyDrive/drive/fifa-world-cup (1).csv')\n",
        "import matplotlib.pyplot as plt\n",
        "sns.pairplot(df,vars=['YEAR','TEAMS','GOALS'])\n",
        "plt.show()"
      ],
      "metadata": {
        "colab": {
          "base_uri": "https://localhost:8080/",
          "height": 758
        },
        "id": "kbdsgUXcYzpG",
        "outputId": "a6fd16ba-2e5c-4b35-825f-5dca5bcb0e09"
      },
      "execution_count": null,
      "outputs": [
        {
          "output_type": "display_data",
          "data": {
            "text/plain": [
              "<Figure size 750x750 with 12 Axes>"
            ],
            "image/png": "[encoded data removed]"
          },
          "metadata": {}
        }
      ]
    },
    {
      "cell_type": "code",
      "source": [
        "import pandas as pd\n",
        "import seaborn as sns\n",
        "df=pd.read_csv('/content/drive/MyDrive/drive/fifa-world-cup (1).csv')\n",
        "import matplotlib.pyplot as plt\n",
        "corr_matrix = df.corr(numeric_only=True)\n",
        "sns.heatmap(corr_matrix,annot=True)\n",
        "plt.title('Heatmap')\n",
        "plt.show()"
      ],
      "metadata": {
        "colab": {
          "base_uri": "https://localhost:8080/",
          "height": 603
        },
        "id": "vG88hR2XZbIo",
        "outputId": "7f0d26e8-5bd8-4247-920d-8c047f46231f"
      },
      "execution_count": null,
      "outputs": [
        {
          "output_type": "display_data",
          "data": {
            "text/plain": [
              "<Figure size 640x480 with 2 Axes>"
            ],
            "image/png": "[encoded data removed]"
          },
          "metadata": {}
        }
      ]
    },
    {
      "cell_type": "code",
      "source": [
        "import pandas as pd\n",
        "import scipy.stats as stats\n",
        "df=pd.read_csv('/content/drive/MyDrive/drive/fifa-world-cup (1).csv')\n",
        "GOALS_df = df['GOALS'].values\n",
        "t_stat, p_val = stats.ttest_1samp(GOALS_df, popmean=0)\n",
        "print(f\" t-test: t_stat={t_stat},p_val={p_val}\")\n"
      ],
      "metadata": {
        "colab": {
          "base_uri": "https://localhost:8080/"
        },
        "id": "DwUX0vOzahQH",
        "outputId": "9987bb12-fb1d-431e-bff0-d18eaef68206"
      },
      "execution_count": null,
      "outputs": [
        {
          "output_type": "stream",
          "name": "stdout",
          "text": [
            " t-test: t_stat=16.13329761902166,p_val=1.5183954999133794e-12\n"
          ]
        }
      ]
    },
    {
      "cell_type": "code",
      "source": [
        "import pandas as pd\n",
        "from scipy.stats import chi2_contingency\n",
        "df=pd.read_csv('/content/drive/MyDrive/drive/fifa-world-cup (1).csv')\n",
        "contingency_tabel = pd.crosstab(df['GOALS'],df['TEAMS'])\n",
        "chi2, p, dof,ex = chi2_contingency(contingency_tabel)\n",
        "print(f\"chi-Square Test of Independence: chi2={chi2}, p={p}, dof={dof}, expected={ex}\")\n"
      ],
      "metadata": {
        "colab": {
          "base_uri": "https://localhost:8080/"
        },
        "id": "jimeZiOecRJa",
        "outputId": "61243025-5c6e-476a-99f8-1ab3e4cd9d0b"
      },
      "execution_count": null,
      "outputs": [
        {
          "output_type": "stream",
          "name": "stdout",
          "text": [
            "chi-Square Test of Independence: chi2=73.75, p=0.1894837977117194, dof=64, expected=[[0.2  0.1  0.8  0.4  0.5 ]\n",
            " [0.1  0.05 0.4  0.2  0.25]\n",
            " [0.1  0.05 0.4  0.2  0.25]\n",
            " [0.2  0.1  0.8  0.4  0.5 ]\n",
            " [0.1  0.05 0.4  0.2  0.25]\n",
            " [0.1  0.05 0.4  0.2  0.25]\n",
            " [0.1  0.05 0.4  0.2  0.25]\n",
            " [0.1  0.05 0.4  0.2  0.25]\n",
            " [0.1  0.05 0.4  0.2  0.25]\n",
            " [0.1  0.05 0.4  0.2  0.25]\n",
            " [0.1  0.05 0.4  0.2  0.25]\n",
            " [0.1  0.05 0.4  0.2  0.25]\n",
            " [0.1  0.05 0.4  0.2  0.25]\n",
            " [0.1  0.05 0.4  0.2  0.25]\n",
            " [0.1  0.05 0.4  0.2  0.25]\n",
            " [0.1  0.05 0.4  0.2  0.25]\n",
            " [0.2  0.1  0.8  0.4  0.5 ]]\n"
          ]
        }
      ]
    },
    {
      "cell_type": "code",
      "source": [
        "import pandas as pd\n",
        "from scipy import stats\n",
        "df=pd.read_csv('/content/drive/MyDrive/drive/fifa-world-cup (1).csv')\n",
        "u_statistic, p_value = stats.mannwhitneyu(df['GOALS'],df['AVERAGE_GOALS'])\n",
        "print(f\"wilcoxon rank-sum test: u_statistic={u_statistic}, p_value={p_value}\")"
      ],
      "metadata": {
        "colab": {
          "base_uri": "https://localhost:8080/"
        },
        "id": "t_OX5vT12udv",
        "outputId": "ead08b6c-d4a0-4f69-d8f6-efa9cf3f7e2a"
      },
      "execution_count": null,
      "outputs": [
        {
          "output_type": "stream",
          "name": "stdout",
          "text": [
            "wilcoxon rank-sum test: u_statistic=400.0, p_value=6.615655383439356e-08\n"
          ]
        }
      ]
    },
    {
      "cell_type": "code",
      "source": [
        "import pandas as pd\n",
        "from scipy import stats\n",
        "df = pd.read_csv('/content/drive/MyDrive/drive/fifa-world-cup (1).csv')\n",
        "f_value, p_value = stats.f_oneway(df['AVERAGE_GOALS'],df['GOALS'],df['TEAMS'])\n",
        "print(\"one-way ANOVA\")\n",
        "print(f\"F-value: {f_value}\")\n",
        "print(f\"p-value: {p_value}\")"
      ],
      "metadata": {
        "colab": {
          "base_uri": "https://localhost:8080/"
        },
        "id": "LFwE9oyQqQHa",
        "outputId": "291f0403-e199-40ff-d49b-3e4897f9cd0f"
      },
      "execution_count": null,
      "outputs": [
        {
          "output_type": "stream",
          "name": "stdout",
          "text": [
            "one-way ANOVA\n",
            "F-value: 204.17152917278665\n",
            "p-value: 1.025406467395955e-26\n"
          ]
        }
      ]
    },
    {
      "cell_type": "code",
      "source": [
        "import pandas as pd\n",
        "from scipy.stats import kruskal\n",
        "data = pd.read_csv('/content/drive/MyDrive/drive/fifa-world-cup (1).csv')\n",
        "h_stat, p_val = kruskal('YEARS','TEAMS','GOALS')\n",
        "print(f\"kruskal-wallis Teat: H_stat={h_stat}, p_val={p_val}\")\n"
      ],
      "metadata": {
        "colab": {
          "base_uri": "https://localhost:8080/"
        },
        "id": "HH4Xl0t-rPnO",
        "outputId": "05d179b6-8745-43be-9b46-9bf986c9b924"
      },
      "execution_count": null,
      "outputs": [
        {
          "output_type": "stream",
          "name": "stdout",
          "text": [
            "kruskal-wallis Teat: H_stat=2.0, p_val=0.36787944117144245\n"
          ]
        }
      ]
    },
    {
      "cell_type": "code",
      "source": [
        "import pandas as pd\n",
        "path='/content/drive/MyDrive/drive/restaurants.csv'\n",
        "df=pd.read_csv(path)\n",
        "df.mean(numeric_only=True)"
      ],
      "metadata": {
        "colab": {
          "base_uri": "https://localhost:8080/"
        },
        "id": "deC6BKy9t1-9",
        "outputId": "2cc83b85-d181-4bad-b0cf-554a37edfa3d"
      },
      "execution_count": null,
      "outputs": [
        {
          "output_type": "execute_result",
          "data": {
            "text/plain": [
              "zipCode            21184.787491\n",
              "councilDistrict        7.191409\n",
              "dtype: float64"
            ]
          },
          "metadata": {},
          "execution_count": 73
        }
      ]
    },
    {
      "cell_type": "code",
      "source": [
        "import pandas as pd\n",
        "path='/content/drive/MyDrive/drive/restaurants.csv'\n",
        "df=pd.read_csv(path)\n",
        "df.mode(numeric_only=True)"
      ],
      "metadata": {
        "colab": {
          "base_uri": "https://localhost:8080/",
          "height": 81
        },
        "id": "3nqUvu4FuaAN",
        "outputId": "4181413d-c62f-42ae-83c5-4c950dba714e"
      },
      "execution_count": null,
      "outputs": [
        {
          "output_type": "execute_result",
          "data": {
            "text/plain": [
              "   zipCode  councilDistrict\n",
              "0    21202                1"
            ],
            "text/html": [
              "\n",
              "  <div id=\"df-421ca1c9-a77b-433c-b712-b20988cd0714\" class=\"colab-df-container\">\n",
              "    <div>\n",
              "<style scoped>\n",
              "    .dataframe tbody tr th:only-of-type {\n",
              "        vertical-align: middle;\n",
              "    }\n",
              "\n",
              "    .dataframe tbody tr th {\n",
              "        vertical-align: top;\n",
              "    }\n",
              "\n",
              "    .dataframe thead th {\n",
              "        text-align: right;\n",
              "    }\n",
              "</style>\n",
              "<table border=\"1\" class=\"dataframe\">\n",
              "  <thead>\n",
              "    <tr style=\"text-align: right;\">\n",
              "      <th></th>\n",
              "      <th>zipCode</th>\n",
              "      <th>councilDistrict</th>\n",
              "    </tr>\n",
              "  </thead>\n",
              "  <tbody>\n",
              "    <tr>\n",
              "      <th>0</th>\n",
              "      <td>21202</td>\n",
              "      <td>1</td>\n",
              "    </tr>\n",
              "  </tbody>\n",
              "</table>\n",
              "</div>\n",
              "    <div class=\"colab-df-buttons\">\n",
              "\n",
              "  <div class=\"colab-df-container\">\n",
              "    <button class=\"colab-df-convert\" onclick=\"convertToInteractive('df-421ca1c9-a77b-433c-b712-b20988cd0714')\"\n",
              "            title=\"Convert this dataframe to an interactive table.\"\n",
              "            style=\"display:none;\">\n",
              "\n",
              "  <svg xmlns=\"http://www.w3.org/2000/svg\" height=\"24px\" viewBox=\"0 -960 960 960\">\n",
              "    <path d=\"M120-120v-720h720v720H120Zm60-500h600v-160H180v160Zm220 220h160v-160H400v160Zm0 220h160v-160H400v160ZM180-400h160v-160H180v160Zm440 0h160v-160H620v160ZM180-180h160v-160H180v160Zm440 0h160v-160H620v160Z\"/>\n",
              "  </svg>\n",
              "    </button>\n",
              "\n",
              "  <style>\n",
              "    .colab-df-container {\n",
              "      display:flex;\n",
              "      gap: 12px;\n",
              "    }\n",
              "\n",
              "    .colab-df-convert {\n",
              "      background-color: #E8F0FE;\n",
              "      border: none;\n",
              "      border-radius: 50%;\n",
              "      cursor: pointer;\n",
              "      display: none;\n",
              "      fill: #1967D2;\n",
              "      height: 32px;\n",
              "      padding: 0 0 0 0;\n",
              "      width: 32px;\n",
              "    }\n",
              "\n",
              "    .colab-df-convert:hover {\n",
              "      background-color: #E2EBFA;\n",
              "      box-shadow: 0px 1px 2px rgba(60, 64, 67, 0.3), 0px 1px 3px 1px rgba(60, 64, 67, 0.15);\n",
              "      fill: #174EA6;\n",
              "    }\n",
              "\n",
              "    .colab-df-buttons div {\n",
              "      margin-bottom: 4px;\n",
              "    }\n",
              "\n",
              "    [theme=dark] .colab-df-convert {\n",
              "      background-color: #3B4455;\n",
              "      fill: #D2E3FC;\n",
              "    }\n",
              "\n",
              "    [theme=dark] .colab-df-convert:hover {\n",
              "      background-color: #434B5C;\n",
              "      box-shadow: 0px 1px 3px 1px rgba(0, 0, 0, 0.15);\n",
              "      filter: drop-shadow(0px 1px 2px rgba(0, 0, 0, 0.3));\n",
              "      fill: #FFFFFF;\n",
              "    }\n",
              "  </style>\n",
              "\n",
              "    <script>\n",
              "      const buttonEl =\n",
              "        document.querySelector('#df-421ca1c9-a77b-433c-b712-b20988cd0714 button.colab-df-convert');\n",
              "      buttonEl.style.display =\n",
              "        google.colab.kernel.accessAllowed ? 'block' : 'none';\n",
              "\n",
              "      async function convertToInteractive(key) {\n",
              "        const element = document.querySelector('#df-421ca1c9-a77b-433c-b712-b20988cd0714');\n",
              "        const dataTable =\n",
              "          await google.colab.kernel.invokeFunction('convertToInteractive',\n",
              "                                                    [key], {});\n",
              "        if (!dataTable) return;\n",
              "\n",
              "        const docLinkHtml = 'Like what you see? Visit the ' +\n",
              "          '<a target=\"_blank\" href=https://colab.research.google.com/notebooks/data_table.ipynb>data table notebook</a>'\n",
              "          + ' to learn more about interactive tables.';\n",
              "        element.innerHTML = '';\n",
              "        dataTable['output_type'] = 'display_data';\n",
              "        await google.colab.output.renderOutput(dataTable, element);\n",
              "        const docLink = document.createElement('div');\n",
              "        docLink.innerHTML = docLinkHtml;\n",
              "        element.appendChild(docLink);\n",
              "      }\n",
              "    </script>\n",
              "  </div>\n",
              "\n",
              "\n",
              "    </div>\n",
              "  </div>\n"
            ],
            "application/vnd.google.colaboratory.intrinsic+json": {
              "type": "dataframe",
              "summary": "{\n  \"name\": \"df\",\n  \"rows\": 1,\n  \"fields\": [\n    {\n      \"column\": \"zipCode\",\n      \"properties\": {\n        \"dtype\": \"number\",\n        \"std\": null,\n        \"min\": 21202,\n        \"max\": 21202,\n        \"num_unique_values\": 1,\n        \"samples\": [\n          21202\n        ],\n        \"semantic_type\": \"\",\n        \"description\": \"\"\n      }\n    },\n    {\n      \"column\": \"councilDistrict\",\n      \"properties\": {\n        \"dtype\": \"number\",\n        \"std\": null,\n        \"min\": 1,\n        \"max\": 1,\n        \"num_unique_values\": 1,\n        \"samples\": [\n          1\n        ],\n        \"semantic_type\": \"\",\n        \"description\": \"\"\n      }\n    }\n  ]\n}"
            }
          },
          "metadata": {},
          "execution_count": 74
        }
      ]
    },
    {
      "cell_type": "code",
      "source": [
        "import pandas as pd\n",
        "path='/content/drive/MyDrive/drive/restaurants.csv'\n",
        "df=pd.read_csv(path)\n",
        "df.median(numeric_only=True)"
      ],
      "metadata": {
        "colab": {
          "base_uri": "https://localhost:8080/"
        },
        "id": "GFZa8eS6ujsP",
        "outputId": "8f84da34-2391-4af7-df74-e7f4eaf1b2bd"
      },
      "execution_count": null,
      "outputs": [
        {
          "output_type": "execute_result",
          "data": {
            "text/plain": [
              "zipCode            21218.0\n",
              "councilDistrict        9.0\n",
              "dtype: float64"
            ]
          },
          "metadata": {},
          "execution_count": 75
        }
      ]
    },
    {
      "cell_type": "code",
      "source": [
        "import pandas as pd\n",
        "path='/content/drive/MyDrive/drive/restaurants.csv'\n",
        "df=pd.read_csv(path)\n",
        "df.max(numeric_only=True)-df.min(numeric_only=True)"
      ],
      "metadata": {
        "colab": {
          "base_uri": "https://localhost:8080/"
        },
        "id": "j7cvSWequxyN",
        "outputId": "68a006c9-1a13-43e6-e3cd-46cd08870827"
      },
      "execution_count": null,
      "outputs": [
        {
          "output_type": "execute_result",
          "data": {
            "text/plain": [
              "zipCode            42513\n",
              "councilDistrict       13\n",
              "dtype: int64"
            ]
          },
          "metadata": {},
          "execution_count": 76
        }
      ]
    },
    {
      "cell_type": "code",
      "source": [
        "import pandas as pd\n",
        "path='/content/drive/MyDrive/drive/restaurants.csv'\n",
        "df=pd.read_csv(path)\n",
        "df.std(numeric_only=True)"
      ],
      "metadata": {
        "colab": {
          "base_uri": "https://localhost:8080/"
        },
        "id": "B2hJoq_tu71N",
        "outputId": "fbd72bb1-3491-4d1d-c06a-18586f8db116"
      },
      "execution_count": null,
      "outputs": [
        {
          "output_type": "execute_result",
          "data": {
            "text/plain": [
              "zipCode            1165.169261\n",
              "councilDistrict       4.518721\n",
              "dtype: float64"
            ]
          },
          "metadata": {},
          "execution_count": 77
        }
      ]
    },
    {
      "cell_type": "code",
      "source": [
        "import pandas as pd\n",
        "path='/content/drive/MyDrive/drive/restaurants.csv'\n",
        "df=pd.read_csv(path)\n",
        "df.var(numeric_only=True)"
      ],
      "metadata": {
        "colab": {
          "base_uri": "https://localhost:8080/"
        },
        "id": "uIOhH76pvIjm",
        "outputId": "e24683bd-6b61-4c97-e285-2b66afb819aa"
      },
      "execution_count": null,
      "outputs": [
        {
          "output_type": "execute_result",
          "data": {
            "text/plain": [
              "zipCode            1.357619e+06\n",
              "councilDistrict    2.041884e+01\n",
              "dtype: float64"
            ]
          },
          "metadata": {},
          "execution_count": 78
        }
      ]
    },
    {
      "cell_type": "code",
      "source": [
        "import pandas as pd\n",
        "import scipy.stats as stats\n",
        "df=pd.read_csv('/content/drive/MyDrive/drive/restaurants.csv')\n",
        "zipCode_df = df['zipCode'].values\n",
        "t_stat, p_val = stats.ttest_1samp(zipCode_df, popmean=0)\n",
        "print(f\" t-test: t_stat={t_stat},p_val={p_val}\")"
      ],
      "metadata": {
        "colab": {
          "base_uri": "https://localhost:8080/"
        },
        "id": "4BZ9AGcBvW_t",
        "outputId": "90efd195-22e9-4161-d710-dc6f9eade0c0"
      },
      "execution_count": null,
      "outputs": [
        {
          "output_type": "stream",
          "name": "stdout",
          "text": [
            " t-test: t_stat=662.3240949560629,p_val=0.0\n"
          ]
        }
      ]
    },
    {
      "cell_type": "code",
      "source": [
        "import pandas as pd\n",
        "from scipy.stats import chi2_contingency\n",
        "df=pd.read_csv('/content/drive/MyDrive/drive/restaurants.csv')\n",
        "contingency_tabel = pd.crosstab(df['zipCode'],df['councilDistrict'])\n",
        "chi2, p, dof,ex = chi2_contingency(contingency_tabel)\n",
        "print(f\"chi-Square Test of Independence: chi2={chi2}, p={p}, dof={dof}, expected={ex}\")"
      ],
      "metadata": {
        "colab": {
          "base_uri": "https://localhost:8080/"
        },
        "id": "oDwArZCGvulg",
        "outputId": "3865a3f7-c1d1-4837-f376-09548906f8dd"
      },
      "execution_count": null,
      "outputs": [
        {
          "output_type": "stream",
          "name": "stdout",
          "text": [
            "chi-Square Test of Independence: chi2=10523.991866099715, p=0.0, dof=403, expected=[[2.35116805e-01 6.40542577e-02 2.41145441e-02 2.26073851e-02\n",
            "  3.01431801e-02 2.71288621e-02 4.67219292e-02 1.35644310e-02\n",
            "  5.65184627e-02 1.29615674e-01 2.08741522e-01 6.70685757e-02\n",
            "  3.39110776e-02 4.06932931e-02]\n",
            " [3.19758855e+01 8.71137905e+00 3.27957800e+00 3.07460437e+00\n",
            "  4.09947249e+00 3.68952524e+00 6.35418237e+00 1.84476262e+00\n",
            "  7.68651093e+00 1.76277317e+01 2.83888470e+01 9.12132630e+00\n",
            "  4.61190656e+00 5.53428787e+00]\n",
            " [4.72584778e+01 1.28749058e+01 4.84702336e+00 4.54408440e+00\n",
            "  6.05877920e+00 5.45290128e+00 9.39110776e+00 2.72645064e+00\n",
            "  1.13602110e+01 2.60527506e+01 4.19570460e+01 1.34807837e+01\n",
            "  6.81612660e+00 8.17935192e+00]\n",
            " [6.34815373e+00 1.72946496e+00 6.51092690e-01 6.10399397e-01\n",
            "  8.13865863e-01 7.32479277e-01 1.26149209e+00 3.66239638e-01\n",
            "  1.52599849e+00 3.49962321e+00 5.63602110e+00 1.81085154e+00\n",
            "  9.15599096e-01 1.09871891e+00]\n",
            " [7.05350414e+00 1.92162773e+00 7.23436323e-01 6.78221552e-01\n",
            "  9.04295403e-01 8.13865863e-01 1.40165787e+00 4.06932931e-01\n",
            "  1.69555388e+00 3.88847023e+00 6.26224567e+00 2.01205727e+00\n",
            "  1.01733233e+00 1.22079879e+00]\n",
            " [9.40467219e-01 2.56217031e-01 9.64581763e-02 9.04295403e-02\n",
            "  1.20572720e-01 1.08515448e-01 1.86887717e-01 5.42577242e-02\n",
            "  2.26073851e-01 5.18462698e-01 8.34966089e-01 2.68274303e-01\n",
            "  1.35644310e-01 1.62773173e-01]\n",
            " [2.35116805e-01 6.40542577e-02 2.41145441e-02 2.26073851e-02\n",
            "  3.01431801e-02 2.71288621e-02 4.67219292e-02 1.35644310e-02\n",
            "  5.65184627e-02 1.29615674e-01 2.08741522e-01 6.70685757e-02\n",
            "  3.39110776e-02 4.06932931e-02]\n",
            " [1.88093444e+00 5.12434062e-01 1.92916353e-01 1.80859081e-01\n",
            "  2.41145441e-01 2.17030897e-01 3.73775433e-01 1.08515448e-01\n",
            "  4.52147702e-01 1.03692540e+00 1.66993218e+00 5.36548606e-01\n",
            "  2.71288621e-01 3.25546345e-01]\n",
            " [5.40768651e+00 1.47324793e+00 5.54634514e-01 5.19969857e-01\n",
            "  6.93293142e-01 6.23963828e-01 1.07460437e+00 3.11981914e-01\n",
            "  1.29992464e+00 2.98116051e+00 4.80105501e+00 1.54257724e+00\n",
            "  7.79954785e-01 9.35945742e-01]\n",
            " [9.63978900e+00 2.62622457e+00 9.88696307e-01 9.26902788e-01\n",
            "  1.23587038e+00 1.11228335e+00 1.91559910e+00 5.56141673e-01\n",
            "  2.31725697e+00 5.31424265e+00 8.55840241e+00 2.74981161e+00\n",
            "  1.39035418e+00 1.66842502e+00]\n",
            " [6.58327054e+00 1.79351922e+00 6.75207234e-01 6.33006782e-01\n",
            "  8.44009043e-01 7.59608139e-01 1.30821402e+00 3.79804069e-01\n",
            "  1.58251696e+00 3.62923888e+00 5.84476262e+00 1.87792012e+00\n",
            "  9.49510173e-01 1.13941221e+00]\n",
            " [7.28862095e+00 1.98568199e+00 7.47550867e-01 7.00828937e-01\n",
            "  9.34438583e-01 8.40994725e-01 1.44837980e+00 4.20497362e-01\n",
            "  1.75207234e+00 4.01808591e+00 6.47098719e+00 2.07912585e+00\n",
            "  1.05124341e+00 1.26149209e+00]\n",
            " [3.99698568e+00 1.08892238e+00 4.09947249e-01 3.84325546e-01\n",
            "  5.12434062e-01 4.61190656e-01 7.94272796e-01 2.30595328e-01\n",
            "  9.60813866e-01 2.20346647e+00 3.54860588e+00 1.14016579e+00\n",
            "  5.76488320e-01 6.91785983e-01]\n",
            " [1.26963075e+01 3.45892992e+00 1.30218538e+00 1.22079879e+00\n",
            "  1.62773173e+00 1.46495855e+00 2.52298417e+00 7.32479277e-01\n",
            "  3.05199699e+00 6.99924642e+00 1.12720422e+01 3.62170309e+00\n",
            "  1.83119819e+00 2.19743783e+00]\n",
            " [2.35116805e+00 6.40542577e-01 2.41145441e-01 2.26073851e-01\n",
            "  3.01431801e-01 2.71288621e-01 4.67219292e-01 1.35644310e-01\n",
            "  5.65184627e-01 1.29615674e+00 2.08741522e+00 6.70685757e-01\n",
            "  3.39110776e-01 4.06932931e-01]\n",
            " [7.52373775e+00 2.04973625e+00 7.71665411e-01 7.23436323e-01\n",
            "  9.64581763e-01 8.68123587e-01 1.49510173e+00 4.34061794e-01\n",
            "  1.80859081e+00 4.14770158e+00 6.67972871e+00 2.14619442e+00\n",
            "  1.08515448e+00 1.30218538e+00]\n",
            " [1.62230595e+01 4.41974378e+00 1.66390354e+00 1.55990957e+00\n",
            "  2.07987943e+00 1.87189148e+00 3.22381311e+00 9.35945742e-01\n",
            "  3.89977393e+00 8.94348154e+00 1.44031650e+01 4.62773173e+00\n",
            "  2.33986436e+00 2.80783723e+00]\n",
            " [2.35116805e-01 6.40542577e-02 2.41145441e-02 2.26073851e-02\n",
            "  3.01431801e-02 2.71288621e-02 4.67219292e-02 1.35644310e-02\n",
            "  5.65184627e-02 1.29615674e-01 2.08741522e-01 6.70685757e-02\n",
            "  3.39110776e-02 4.06932931e-02]\n",
            " [1.64581763e+00 4.48379804e-01 1.68801809e-01 1.58251696e-01\n",
            "  2.11002261e-01 1.89902035e-01 3.27053504e-01 9.49510173e-02\n",
            "  3.95629239e-01 9.07309721e-01 1.46119066e+00 4.69480030e-01\n",
            "  2.37377543e-01 2.84853052e-01]\n",
            " [1.31665411e+01 3.58703843e+00 1.35041447e+00 1.26601356e+00\n",
            "  1.68801809e+00 1.51921628e+00 2.61642803e+00 7.59608139e-01\n",
            "  3.16503391e+00 7.25847777e+00 1.16895252e+01 3.75584024e+00\n",
            "  1.89902035e+00 2.27882442e+00]\n",
            " [4.67882442e+01 1.27467973e+01 4.79879427e+00 4.49886963e+00\n",
            "  5.99849284e+00 5.39864356e+00 9.29766390e+00 2.69932178e+00\n",
            "  1.12471741e+01 2.57935192e+01 4.15395629e+01 1.33466466e+01\n",
            "  6.74830445e+00 8.09796534e+00]\n",
            " [4.46721929e+00 1.21703090e+00 4.58176338e-01 4.29540317e-01\n",
            "  5.72720422e-01 5.15448380e-01 8.87716654e-01 2.57724190e-01\n",
            "  1.07385079e+00 2.46269781e+00 3.96608892e+00 1.27430294e+00\n",
            "  6.44310475e-01 7.73172570e-01]\n",
            " [4.23210249e+00 1.15297664e+00 4.34061794e-01 4.06932931e-01\n",
            "  5.42577242e-01 4.88319518e-01 8.40994725e-01 2.44159759e-01\n",
            "  1.01733233e+00 2.33308214e+00 3.75734740e+00 1.20723436e+00\n",
            "  6.10399397e-01 7.32479277e-01]\n",
            " [9.40467219e-01 2.56217031e-01 9.64581763e-02 9.04295403e-02\n",
            "  1.20572720e-01 1.08515448e-01 1.86887717e-01 5.42577242e-02\n",
            "  2.26073851e-01 5.18462698e-01 8.34966089e-01 2.68274303e-01\n",
            "  1.35644310e-01 1.62773173e-01]\n",
            " [3.05651846e+00 8.32705350e-01 3.13489073e-01 2.93896006e-01\n",
            "  3.91861341e-01 3.52675207e-01 6.07385079e-01 1.76337604e-01\n",
            "  7.34740015e-01 1.68500377e+00 2.71363979e+00 8.71891485e-01\n",
            "  4.40844009e-01 5.29012811e-01]\n",
            " [3.66782216e+01 9.99246420e+00 3.76186888e+00 3.52675207e+00\n",
            "  4.70233610e+00 4.23210249e+00 7.28862095e+00 2.11605124e+00\n",
            "  8.81688018e+00 2.02200452e+01 3.25636775e+01 1.04626978e+01\n",
            "  5.29012811e+00 6.34815373e+00]\n",
            " [2.98598342e+01 8.13489073e+00 3.06254710e+00 2.87113791e+00\n",
            "  3.82818387e+00 3.44536549e+00 5.93368500e+00 1.72268274e+00\n",
            "  7.17784476e+00 1.64611907e+01 2.65101733e+01 8.51770912e+00\n",
            "  4.30670686e+00 5.16804823e+00]\n",
            " [1.64581763e+00 4.48379804e-01 1.68801809e-01 1.58251696e-01\n",
            "  2.11002261e-01 1.89902035e-01 3.27053504e-01 9.49510173e-02\n",
            "  3.95629239e-01 9.07309721e-01 1.46119066e+00 4.69480030e-01\n",
            "  2.37377543e-01 2.84853052e-01]\n",
            " [2.35116805e-01 6.40542577e-02 2.41145441e-02 2.26073851e-02\n",
            "  3.01431801e-02 2.71288621e-02 4.67219292e-02 1.35644310e-02\n",
            "  5.65184627e-02 1.29615674e-01 2.08741522e-01 6.70685757e-02\n",
            "  3.39110776e-02 4.06932931e-02]\n",
            " [7.05350414e-01 1.92162773e-01 7.23436323e-02 6.78221552e-02\n",
            "  9.04295403e-02 8.13865863e-02 1.40165787e-01 4.06932931e-02\n",
            "  1.69555388e-01 3.88847023e-01 6.26224567e-01 2.01205727e-01\n",
            "  1.01733233e-01 1.22079879e-01]\n",
            " [4.70233610e-01 1.28108515e-01 4.82290882e-02 4.52147702e-02\n",
            "  6.02863602e-02 5.42577242e-02 9.34438583e-02 2.71288621e-02\n",
            "  1.13036925e-01 2.59231349e-01 4.17483044e-01 1.34137151e-01\n",
            "  6.78221552e-02 8.13865863e-02]\n",
            " [2.35116805e-01 6.40542577e-02 2.41145441e-02 2.26073851e-02\n",
            "  3.01431801e-02 2.71288621e-02 4.67219292e-02 1.35644310e-02\n",
            "  5.65184627e-02 1.29615674e-01 2.08741522e-01 6.70685757e-02\n",
            "  3.39110776e-02 4.06932931e-02]]\n"
          ]
        }
      ]
    },
    {
      "cell_type": "code",
      "source": [
        "import pandas as pd\n",
        "from scipy import stats\n",
        "df = pd.read_csv('/content/drive/MyDrive/drive/restaurants.csv')\n",
        "f_value, p_value = stats.f_oneway(df['zipCode'],df['councilDistrict'])\n",
        "print(\"one-way ANOVA\")\n",
        "print(f\"F-value: {f_value}\")"
      ],
      "metadata": {
        "colab": {
          "base_uri": "https://localhost:8080/"
        },
        "id": "cpcntolZwZK4",
        "outputId": "b0cd90cb-9771-43f1-a704-fdcb75f2d5b5"
      },
      "execution_count": null,
      "outputs": [
        {
          "output_type": "stream",
          "name": "stdout",
          "text": [
            "one-way ANOVA\n",
            "F-value: 438368.83927026886\n"
          ]
        }
      ]
    },
    {
      "cell_type": "code",
      "source": [
        "import pandas as pd\n",
        "from scipy.stats import kruskal\n",
        "data = pd.read_csv('/content/drive/MyDrive/drive/restaurants.csv')\n",
        "h_stat, p_val = kruskal('ZipCode','councilDistrict')\n",
        "print(f\"kruskal-wallis Teat: H_stat={h_stat}, p_val={p_val}\")\n"
      ],
      "metadata": {
        "colab": {
          "base_uri": "https://localhost:8080/"
        },
        "id": "PBC7-DnTxmRw",
        "outputId": "6c88d7b5-cf85-4b99-82dd-23dfdc84ea4b"
      },
      "execution_count": null,
      "outputs": [
        {
          "output_type": "stream",
          "name": "stdout",
          "text": [
            "kruskal-wallis Teat: H_stat=1.0, p_val=0.31731050786291115\n"
          ]
        }
      ]
    },
    {
      "cell_type": "code",
      "source": [
        "import pandas as pd\n",
        "from scipy import stats\n",
        "df=pd.read_csv('/content/drive/MyDrive/drive/restaurants.csv')\n",
        "u_statistic, p_value = stats.mannwhitneyu(df['zipCode'],df['councilDistrict'])\n",
        "print(f\"wilcoxon rank-sum test: u_statistic={u_statistic}, p_value={p_value}\")"
      ],
      "metadata": {
        "colab": {
          "base_uri": "https://localhost:8080/"
        },
        "id": "8TjGQYZhP2Ly",
        "outputId": "2292a7e8-135e-4bd7-aaa2-cc29e672c2e6"
      },
      "execution_count": null,
      "outputs": [
        {
          "output_type": "stream",
          "name": "stdout",
          "text": [
            "wilcoxon rank-sum test: u_statistic=1759602.0, p_value=0.0\n"
          ]
        }
      ]
    },
    {
      "cell_type": "code",
      "source": [
        "import pandas as pd\n",
        "path='/content/drive/MyDrive/drive/restaurants.csv'\n",
        "df=pd.read_csv(path)\n",
        "df.cov(numeric_only=True)"
      ],
      "metadata": {
        "colab": {
          "base_uri": "https://localhost:8080/",
          "height": 112
        },
        "id": "_km2uohlyA1s",
        "outputId": "98b9501f-4408-410f-8c5d-96f930955509"
      },
      "execution_count": null,
      "outputs": [
        {
          "output_type": "execute_result",
          "data": {
            "text/plain": [
              "                      zipCode  councilDistrict\n",
              "zipCode          1.357619e+06      -110.153863\n",
              "councilDistrict -1.101539e+02        20.418840"
            ],
            "text/html": [
              "\n",
              "  <div id=\"df-0cbb11c1-f0be-4630-a598-1ef54b365072\" class=\"colab-df-container\">\n",
              "    <div>\n",
              "<style scoped>\n",
              "    .dataframe tbody tr th:only-of-type {\n",
              "        vertical-align: middle;\n",
              "    }\n",
              "\n",
              "    .dataframe tbody tr th {\n",
              "        vertical-align: top;\n",
              "    }\n",
              "\n",
              "    .dataframe thead th {\n",
              "        text-align: right;\n",
              "    }\n",
              "</style>\n",
              "<table border=\"1\" class=\"dataframe\">\n",
              "  <thead>\n",
              "    <tr style=\"text-align: right;\">\n",
              "      <th></th>\n",
              "      <th>zipCode</th>\n",
              "      <th>councilDistrict</th>\n",
              "    </tr>\n",
              "  </thead>\n",
              "  <tbody>\n",
              "    <tr>\n",
              "      <th>zipCode</th>\n",
              "      <td>1.357619e+06</td>\n",
              "      <td>-110.153863</td>\n",
              "    </tr>\n",
              "    <tr>\n",
              "      <th>councilDistrict</th>\n",
              "      <td>-1.101539e+02</td>\n",
              "      <td>20.418840</td>\n",
              "    </tr>\n",
              "  </tbody>\n",
              "</table>\n",
              "</div>\n",
              "    <div class=\"colab-df-buttons\">\n",
              "\n",
              "  <div class=\"colab-df-container\">\n",
              "    <button class=\"colab-df-convert\" onclick=\"convertToInteractive('df-0cbb11c1-f0be-4630-a598-1ef54b365072')\"\n",
              "            title=\"Convert this dataframe to an interactive table.\"\n",
              "            style=\"display:none;\">\n",
              "\n",
              "  <svg xmlns=\"http://www.w3.org/2000/svg\" height=\"24px\" viewBox=\"0 -960 960 960\">\n",
              "    <path d=\"M120-120v-720h720v720H120Zm60-500h600v-160H180v160Zm220 220h160v-160H400v160Zm0 220h160v-160H400v160ZM180-400h160v-160H180v160Zm440 0h160v-160H620v160ZM180-180h160v-160H180v160Zm440 0h160v-160H620v160Z\"/>\n",
              "  </svg>\n",
              "    </button>\n",
              "\n",
              "  <style>\n",
              "    .colab-df-container {\n",
              "      display:flex;\n",
              "      gap: 12px;\n",
              "    }\n",
              "\n",
              "    .colab-df-convert {\n",
              "      background-color: #E8F0FE;\n",
              "      border: none;\n",
              "      border-radius: 50%;\n",
              "      cursor: pointer;\n",
              "      display: none;\n",
              "      fill: #1967D2;\n",
              "      height: 32px;\n",
              "      padding: 0 0 0 0;\n",
              "      width: 32px;\n",
              "    }\n",
              "\n",
              "    .colab-df-convert:hover {\n",
              "      background-color: #E2EBFA;\n",
              "      box-shadow: 0px 1px 2px rgba(60, 64, 67, 0.3), 0px 1px 3px 1px rgba(60, 64, 67, 0.15);\n",
              "      fill: #174EA6;\n",
              "    }\n",
              "\n",
              "    .colab-df-buttons div {\n",
              "      margin-bottom: 4px;\n",
              "    }\n",
              "\n",
              "    [theme=dark] .colab-df-convert {\n",
              "      background-color: #3B4455;\n",
              "      fill: #D2E3FC;\n",
              "    }\n",
              "\n",
              "    [theme=dark] .colab-df-convert:hover {\n",
              "      background-color: #434B5C;\n",
              "      box-shadow: 0px 1px 3px 1px rgba(0, 0, 0, 0.15);\n",
              "      filter: drop-shadow(0px 1px 2px rgba(0, 0, 0, 0.3));\n",
              "      fill: #FFFFFF;\n",
              "    }\n",
              "  </style>\n",
              "\n",
              "    <script>\n",
              "      const buttonEl =\n",
              "        document.querySelector('#df-0cbb11c1-f0be-4630-a598-1ef54b365072 button.colab-df-convert');\n",
              "      buttonEl.style.display =\n",
              "        google.colab.kernel.accessAllowed ? 'block' : 'none';\n",
              "\n",
              "      async function convertToInteractive(key) {\n",
              "        const element = document.querySelector('#df-0cbb11c1-f0be-4630-a598-1ef54b365072');\n",
              "        const dataTable =\n",
              "          await google.colab.kernel.invokeFunction('convertToInteractive',\n",
              "                                                    [key], {});\n",
              "        if (!dataTable) return;\n",
              "\n",
              "        const docLinkHtml = 'Like what you see? Visit the ' +\n",
              "          '<a target=\"_blank\" href=https://colab.research.google.com/notebooks/data_table.ipynb>data table notebook</a>'\n",
              "          + ' to learn more about interactive tables.';\n",
              "        element.innerHTML = '';\n",
              "        dataTable['output_type'] = 'display_data';\n",
              "        await google.colab.output.renderOutput(dataTable, element);\n",
              "        const docLink = document.createElement('div');\n",
              "        docLink.innerHTML = docLinkHtml;\n",
              "        element.appendChild(docLink);\n",
              "      }\n",
              "    </script>\n",
              "  </div>\n",
              "\n",
              "\n",
              "<div id=\"df-7dfff806-3331-4c12-a35a-58cd069efef6\">\n",
              "  <button class=\"colab-df-quickchart\" onclick=\"quickchart('df-7dfff806-3331-4c12-a35a-58cd069efef6')\"\n",
              "            title=\"Suggest charts\"\n",
              "            style=\"display:none;\">\n",
              "\n",
              "<svg xmlns=\"http://www.w3.org/2000/svg\" height=\"24px\"viewBox=\"0 0 24 24\"\n",
              "     width=\"24px\">\n",
              "    <g>\n",
              "        <path d=\"M19 3H5c-1.1 0-2 .9-2 2v14c0 1.1.9 2 2 2h14c1.1 0 2-.9 2-2V5c0-1.1-.9-2-2-2zM9 17H7v-7h2v7zm4 0h-2V7h2v10zm4 0h-2v-4h2v4z\"/>\n",
              "    </g>\n",
              "</svg>\n",
              "  </button>\n",
              "\n",
              "<style>\n",
              "  .colab-df-quickchart {\n",
              "      --bg-color: #E8F0FE;\n",
              "      --fill-color: #1967D2;\n",
              "      --hover-bg-color: #E2EBFA;\n",
              "      --hover-fill-color: #174EA6;\n",
              "      --disabled-fill-color: #AAA;\n",
              "      --disabled-bg-color: #DDD;\n",
              "  }\n",
              "\n",
              "  [theme=dark] .colab-df-quickchart {\n",
              "      --bg-color: #3B4455;\n",
              "      --fill-color: #D2E3FC;\n",
              "      --hover-bg-color: #434B5C;\n",
              "      --hover-fill-color: #FFFFFF;\n",
              "      --disabled-bg-color: #3B4455;\n",
              "      --disabled-fill-color: #666;\n",
              "  }\n",
              "\n",
              "  .colab-df-quickchart {\n",
              "    background-color: var(--bg-color);\n",
              "    border: none;\n",
              "    border-radius: 50%;\n",
              "    cursor: pointer;\n",
              "    display: none;\n",
              "    fill: var(--fill-color);\n",
              "    height: 32px;\n",
              "    padding: 0;\n",
              "    width: 32px;\n",
              "  }\n",
              "\n",
              "  .colab-df-quickchart:hover {\n",
              "    background-color: var(--hover-bg-color);\n",
              "    box-shadow: 0 1px 2px rgba(60, 64, 67, 0.3), 0 1px 3px 1px rgba(60, 64, 67, 0.15);\n",
              "    fill: var(--button-hover-fill-color);\n",
              "  }\n",
              "\n",
              "  .colab-df-quickchart-complete:disabled,\n",
              "  .colab-df-quickchart-complete:disabled:hover {\n",
              "    background-color: var(--disabled-bg-color);\n",
              "    fill: var(--disabled-fill-color);\n",
              "    box-shadow: none;\n",
              "  }\n",
              "\n",
              "  .colab-df-spinner {\n",
              "    border: 2px solid var(--fill-color);\n",
              "    border-color: transparent;\n",
              "    border-bottom-color: var(--fill-color);\n",
              "    animation:\n",
              "      spin 1s steps(1) infinite;\n",
              "  }\n",
              "\n",
              "  @keyframes spin {\n",
              "    0% {\n",
              "      border-color: transparent;\n",
              "      border-bottom-color: var(--fill-color);\n",
              "      border-left-color: var(--fill-color);\n",
              "    }\n",
              "    20% {\n",
              "      border-color: transparent;\n",
              "      border-left-color: var(--fill-color);\n",
              "      border-top-color: var(--fill-color);\n",
              "    }\n",
              "    30% {\n",
              "      border-color: transparent;\n",
              "      border-left-color: var(--fill-color);\n",
              "      border-top-color: var(--fill-color);\n",
              "      border-right-color: var(--fill-color);\n",
              "    }\n",
              "    40% {\n",
              "      border-color: transparent;\n",
              "      border-right-color: var(--fill-color);\n",
              "      border-top-color: var(--fill-color);\n",
              "    }\n",
              "    60% {\n",
              "      border-color: transparent;\n",
              "      border-right-color: var(--fill-color);\n",
              "    }\n",
              "    80% {\n",
              "      border-color: transparent;\n",
              "      border-right-color: var(--fill-color);\n",
              "      border-bottom-color: var(--fill-color);\n",
              "    }\n",
              "    90% {\n",
              "      border-color: transparent;\n",
              "      border-bottom-color: var(--fill-color);\n",
              "    }\n",
              "  }\n",
              "</style>\n",
              "\n",
              "  <script>\n",
              "    async function quickchart(key) {\n",
              "      const quickchartButtonEl =\n",
              "        document.querySelector('#' + key + ' button');\n",
              "      quickchartButtonEl.disabled = true;  // To prevent multiple clicks.\n",
              "      quickchartButtonEl.classList.add('colab-df-spinner');\n",
              "      try {\n",
              "        const charts = await google.colab.kernel.invokeFunction(\n",
              "            'suggestCharts', [key], {});\n",
              "      } catch (error) {\n",
              "        console.error('Error during call to suggestCharts:', error);\n",
              "      }\n",
              "      quickchartButtonEl.classList.remove('colab-df-spinner');\n",
              "      quickchartButtonEl.classList.add('colab-df-quickchart-complete');\n",
              "    }\n",
              "    (() => {\n",
              "      let quickchartButtonEl =\n",
              "        document.querySelector('#df-7dfff806-3331-4c12-a35a-58cd069efef6 button');\n",
              "      quickchartButtonEl.style.display =\n",
              "        google.colab.kernel.accessAllowed ? 'block' : 'none';\n",
              "    })();\n",
              "  </script>\n",
              "</div>\n",
              "\n",
              "    </div>\n",
              "  </div>\n"
            ],
            "application/vnd.google.colaboratory.intrinsic+json": {
              "type": "dataframe",
              "summary": "{\n  \"name\": \"df\",\n  \"rows\": 2,\n  \"fields\": [\n    {\n      \"column\": \"zipCode\",\n      \"properties\": {\n        \"dtype\": \"number\",\n        \"std\": 960059.7786454344,\n        \"min\": -110.15386320315616,\n        \"max\": 1357619.4057860817,\n        \"num_unique_values\": 2,\n        \"samples\": [\n          -110.15386320315616,\n          1357619.4057860817\n        ],\n        \"semantic_type\": \"\",\n        \"description\": \"\"\n      }\n    },\n    {\n      \"column\": \"councilDistrict\",\n      \"properties\": {\n        \"dtype\": \"number\",\n        \"std\": 92.32884399269186,\n        \"min\": -110.15386320315616,\n        \"max\": 20.418840169538335,\n        \"num_unique_values\": 2,\n        \"samples\": [\n          20.418840169538335,\n          -110.15386320315616\n        ],\n        \"semantic_type\": \"\",\n        \"description\": \"\"\n      }\n    }\n  ]\n}"
            }
          },
          "metadata": {},
          "execution_count": 89
        }
      ]
    },
    {
      "cell_type": "code",
      "source": [
        "import pandas as pd\n",
        "path='/content/drive/MyDrive/drive/restaurants.csv'\n",
        "df=pd.read_csv(path)\n",
        "df.corr(numeric_only=True)"
      ],
      "metadata": {
        "colab": {
          "base_uri": "https://localhost:8080/",
          "height": 112
        },
        "id": "n0yr9eWJyQAZ",
        "outputId": "55cc88cf-6280-4c90-8e33-969c90571b4a"
      },
      "execution_count": null,
      "outputs": [
        {
          "output_type": "execute_result",
          "data": {
            "text/plain": [
              "                  zipCode  councilDistrict\n",
              "zipCode          1.000000        -0.020922\n",
              "councilDistrict -0.020922         1.000000"
            ],
            "text/html": [
              "\n",
              "  <div id=\"df-58fea543-c8b7-49a9-b9d6-0b8f67d52ead\" class=\"colab-df-container\">\n",
              "    <div>\n",
              "<style scoped>\n",
              "    .dataframe tbody tr th:only-of-type {\n",
              "        vertical-align: middle;\n",
              "    }\n",
              "\n",
              "    .dataframe tbody tr th {\n",
              "        vertical-align: top;\n",
              "    }\n",
              "\n",
              "    .dataframe thead th {\n",
              "        text-align: right;\n",
              "    }\n",
              "</style>\n",
              "<table border=\"1\" class=\"dataframe\">\n",
              "  <thead>\n",
              "    <tr style=\"text-align: right;\">\n",
              "      <th></th>\n",
              "      <th>zipCode</th>\n",
              "      <th>councilDistrict</th>\n",
              "    </tr>\n",
              "  </thead>\n",
              "  <tbody>\n",
              "    <tr>\n",
              "      <th>zipCode</th>\n",
              "      <td>1.000000</td>\n",
              "      <td>-0.020922</td>\n",
              "    </tr>\n",
              "    <tr>\n",
              "      <th>councilDistrict</th>\n",
              "      <td>-0.020922</td>\n",
              "      <td>1.000000</td>\n",
              "    </tr>\n",
              "  </tbody>\n",
              "</table>\n",
              "</div>\n",
              "    <div class=\"colab-df-buttons\">\n",
              "\n",
              "  <div class=\"colab-df-container\">\n",
              "    <button class=\"colab-df-convert\" onclick=\"convertToInteractive('df-58fea543-c8b7-49a9-b9d6-0b8f67d52ead')\"\n",
              "            title=\"Convert this dataframe to an interactive table.\"\n",
              "            style=\"display:none;\">\n",
              "\n",
              "  <svg xmlns=\"http://www.w3.org/2000/svg\" height=\"24px\" viewBox=\"0 -960 960 960\">\n",
              "    <path d=\"M120-120v-720h720v720H120Zm60-500h600v-160H180v160Zm220 220h160v-160H400v160Zm0 220h160v-160H400v160ZM180-400h160v-160H180v160Zm440 0h160v-160H620v160ZM180-180h160v-160H180v160Zm440 0h160v-160H620v160Z\"/>\n",
              "  </svg>\n",
              "    </button>\n",
              "\n",
              "  <style>\n",
              "    .colab-df-container {\n",
              "      display:flex;\n",
              "      gap: 12px;\n",
              "    }\n",
              "\n",
              "    .colab-df-convert {\n",
              "      background-color: #E8F0FE;\n",
              "      border: none;\n",
              "      border-radius: 50%;\n",
              "      cursor: pointer;\n",
              "      display: none;\n",
              "      fill: #1967D2;\n",
              "      height: 32px;\n",
              "      padding: 0 0 0 0;\n",
              "      width: 32px;\n",
              "    }\n",
              "\n",
              "    .colab-df-convert:hover {\n",
              "      background-color: #E2EBFA;\n",
              "      box-shadow: 0px 1px 2px rgba(60, 64, 67, 0.3), 0px 1px 3px 1px rgba(60, 64, 67, 0.15);\n",
              "      fill: #174EA6;\n",
              "    }\n",
              "\n",
              "    .colab-df-buttons div {\n",
              "      margin-bottom: 4px;\n",
              "    }\n",
              "\n",
              "    [theme=dark] .colab-df-convert {\n",
              "      background-color: #3B4455;\n",
              "      fill: #D2E3FC;\n",
              "    }\n",
              "\n",
              "    [theme=dark] .colab-df-convert:hover {\n",
              "      background-color: #434B5C;\n",
              "      box-shadow: 0px 1px 3px 1px rgba(0, 0, 0, 0.15);\n",
              "      filter: drop-shadow(0px 1px 2px rgba(0, 0, 0, 0.3));\n",
              "      fill: #FFFFFF;\n",
              "    }\n",
              "  </style>\n",
              "\n",
              "    <script>\n",
              "      const buttonEl =\n",
              "        document.querySelector('#df-58fea543-c8b7-49a9-b9d6-0b8f67d52ead button.colab-df-convert');\n",
              "      buttonEl.style.display =\n",
              "        google.colab.kernel.accessAllowed ? 'block' : 'none';\n",
              "\n",
              "      async function convertToInteractive(key) {\n",
              "        const element = document.querySelector('#df-58fea543-c8b7-49a9-b9d6-0b8f67d52ead');\n",
              "        const dataTable =\n",
              "          await google.colab.kernel.invokeFunction('convertToInteractive',\n",
              "                                                    [key], {});\n",
              "        if (!dataTable) return;\n",
              "\n",
              "        const docLinkHtml = 'Like what you see? Visit the ' +\n",
              "          '<a target=\"_blank\" href=https://colab.research.google.com/notebooks/data_table.ipynb>data table notebook</a>'\n",
              "          + ' to learn more about interactive tables.';\n",
              "        element.innerHTML = '';\n",
              "        dataTable['output_type'] = 'display_data';\n",
              "        await google.colab.output.renderOutput(dataTable, element);\n",
              "        const docLink = document.createElement('div');\n",
              "        docLink.innerHTML = docLinkHtml;\n",
              "        element.appendChild(docLink);\n",
              "      }\n",
              "    </script>\n",
              "  </div>\n",
              "\n",
              "\n",
              "<div id=\"df-04f51a7a-5249-4e30-ab01-e06bcac05d58\">\n",
              "  <button class=\"colab-df-quickchart\" onclick=\"quickchart('df-04f51a7a-5249-4e30-ab01-e06bcac05d58')\"\n",
              "            title=\"Suggest charts\"\n",
              "            style=\"display:none;\">\n",
              "\n",
              "<svg xmlns=\"http://www.w3.org/2000/svg\" height=\"24px\"viewBox=\"0 0 24 24\"\n",
              "     width=\"24px\">\n",
              "    <g>\n",
              "        <path d=\"M19 3H5c-1.1 0-2 .9-2 2v14c0 1.1.9 2 2 2h14c1.1 0 2-.9 2-2V5c0-1.1-.9-2-2-2zM9 17H7v-7h2v7zm4 0h-2V7h2v10zm4 0h-2v-4h2v4z\"/>\n",
              "    </g>\n",
              "</svg>\n",
              "  </button>\n",
              "\n",
              "<style>\n",
              "  .colab-df-quickchart {\n",
              "      --bg-color: #E8F0FE;\n",
              "      --fill-color: #1967D2;\n",
              "      --hover-bg-color: #E2EBFA;\n",
              "      --hover-fill-color: #174EA6;\n",
              "      --disabled-fill-color: #AAA;\n",
              "      --disabled-bg-color: #DDD;\n",
              "  }\n",
              "\n",
              "  [theme=dark] .colab-df-quickchart {\n",
              "      --bg-color: #3B4455;\n",
              "      --fill-color: #D2E3FC;\n",
              "      --hover-bg-color: #434B5C;\n",
              "      --hover-fill-color: #FFFFFF;\n",
              "      --disabled-bg-color: #3B4455;\n",
              "      --disabled-fill-color: #666;\n",
              "  }\n",
              "\n",
              "  .colab-df-quickchart {\n",
              "    background-color: var(--bg-color);\n",
              "    border: none;\n",
              "    border-radius: 50%;\n",
              "    cursor: pointer;\n",
              "    display: none;\n",
              "    fill: var(--fill-color);\n",
              "    height: 32px;\n",
              "    padding: 0;\n",
              "    width: 32px;\n",
              "  }\n",
              "\n",
              "  .colab-df-quickchart:hover {\n",
              "    background-color: var(--hover-bg-color);\n",
              "    box-shadow: 0 1px 2px rgba(60, 64, 67, 0.3), 0 1px 3px 1px rgba(60, 64, 67, 0.15);\n",
              "    fill: var(--button-hover-fill-color);\n",
              "  }\n",
              "\n",
              "  .colab-df-quickchart-complete:disabled,\n",
              "  .colab-df-quickchart-complete:disabled:hover {\n",
              "    background-color: var(--disabled-bg-color);\n",
              "    fill: var(--disabled-fill-color);\n",
              "    box-shadow: none;\n",
              "  }\n",
              "\n",
              "  .colab-df-spinner {\n",
              "    border: 2px solid var(--fill-color);\n",
              "    border-color: transparent;\n",
              "    border-bottom-color: var(--fill-color);\n",
              "    animation:\n",
              "      spin 1s steps(1) infinite;\n",
              "  }\n",
              "\n",
              "  @keyframes spin {\n",
              "    0% {\n",
              "      border-color: transparent;\n",
              "      border-bottom-color: var(--fill-color);\n",
              "      border-left-color: var(--fill-color);\n",
              "    }\n",
              "    20% {\n",
              "      border-color: transparent;\n",
              "      border-left-color: var(--fill-color);\n",
              "      border-top-color: var(--fill-color);\n",
              "    }\n",
              "    30% {\n",
              "      border-color: transparent;\n",
              "      border-left-color: var(--fill-color);\n",
              "      border-top-color: var(--fill-color);\n",
              "      border-right-color: var(--fill-color);\n",
              "    }\n",
              "    40% {\n",
              "      border-color: transparent;\n",
              "      border-right-color: var(--fill-color);\n",
              "      border-top-color: var(--fill-color);\n",
              "    }\n",
              "    60% {\n",
              "      border-color: transparent;\n",
              "      border-right-color: var(--fill-color);\n",
              "    }\n",
              "    80% {\n",
              "      border-color: transparent;\n",
              "      border-right-color: var(--fill-color);\n",
              "      border-bottom-color: var(--fill-color);\n",
              "    }\n",
              "    90% {\n",
              "      border-color: transparent;\n",
              "      border-bottom-color: var(--fill-color);\n",
              "    }\n",
              "  }\n",
              "</style>\n",
              "\n",
              "  <script>\n",
              "    async function quickchart(key) {\n",
              "      const quickchartButtonEl =\n",
              "        document.querySelector('#' + key + ' button');\n",
              "      quickchartButtonEl.disabled = true;  // To prevent multiple clicks.\n",
              "      quickchartButtonEl.classList.add('colab-df-spinner');\n",
              "      try {\n",
              "        const charts = await google.colab.kernel.invokeFunction(\n",
              "            'suggestCharts', [key], {});\n",
              "      } catch (error) {\n",
              "        console.error('Error during call to suggestCharts:', error);\n",
              "      }\n",
              "      quickchartButtonEl.classList.remove('colab-df-spinner');\n",
              "      quickchartButtonEl.classList.add('colab-df-quickchart-complete');\n",
              "    }\n",
              "    (() => {\n",
              "      let quickchartButtonEl =\n",
              "        document.querySelector('#df-04f51a7a-5249-4e30-ab01-e06bcac05d58 button');\n",
              "      quickchartButtonEl.style.display =\n",
              "        google.colab.kernel.accessAllowed ? 'block' : 'none';\n",
              "    })();\n",
              "  </script>\n",
              "</div>\n",
              "\n",
              "    </div>\n",
              "  </div>\n"
            ],
            "application/vnd.google.colaboratory.intrinsic+json": {
              "type": "dataframe",
              "summary": "{\n  \"name\": \"df\",\n  \"rows\": 2,\n  \"fields\": [\n    {\n      \"column\": \"zipCode\",\n      \"properties\": {\n        \"dtype\": \"number\",\n        \"std\": 0.7219005961250184,\n        \"min\": -0.020921613725223328,\n        \"max\": 1.0,\n        \"num_unique_values\": 2,\n        \"samples\": [\n          -0.020921613725223328,\n          1.0\n        ],\n        \"semantic_type\": \"\",\n        \"description\": \"\"\n      }\n    },\n    {\n      \"column\": \"councilDistrict\",\n      \"properties\": {\n        \"dtype\": \"number\",\n        \"std\": 0.7219005961250184,\n        \"min\": -0.020921613725223328,\n        \"max\": 1.0,\n        \"num_unique_values\": 2,\n        \"samples\": [\n          1.0,\n          -0.020921613725223328\n        ],\n        \"semantic_type\": \"\",\n        \"description\": \"\"\n      }\n    }\n  ]\n}"
            }
          },
          "metadata": {},
          "execution_count": 90
        }
      ]
    },
    {
      "cell_type": "markdown",
      "source": [
        "univariate plot"
      ],
      "metadata": {
        "id": "qZVtdGGtyhV9"
      }
    },
    {
      "cell_type": "code",
      "source": [
        "import pandas as pd\n",
        "df=pd.read_csv('/content/drive/MyDrive/drive/restaurants.csv')\n",
        "import matplotlib.pyplot as plt\n",
        "plt.hist(df['councilDistrict'],bins=5, color='skyblue',edgecolor='black')\n",
        "plt.title('Histogram')\n",
        "plt.xlabel('councilDistrict')\n",
        "plt.ylabel('frequency')\n",
        "plt.show()"
      ],
      "metadata": {
        "colab": {
          "base_uri": "https://localhost:8080/",
          "height": 472
        },
        "id": "Jiu2bWy2yv81",
        "outputId": "77058f36-abdd-4b93-8058-eaa05e95693d"
      },
      "execution_count": null,
      "outputs": [
        {
          "output_type": "display_data",
          "data": {
            "text/plain": [
              "<Figure size 640x480 with 1 Axes>"
            ],
            "image/png": "[encoded data removed]"
          },
          "metadata": {}
        }
      ]
    },
    {
      "cell_type": "code",
      "source": [
        "import pandas as pd\n",
        "df=pd.read_csv('/content/drive/MyDrive/drive/restaurants.csv')\n",
        "import matplotlib.pyplot as plt\n",
        "plt.boxplot(df['councilDistrict'])\n",
        "plt.title(\"BOX PLOT\")\n",
        "plt.ylabel('councilDistrict')\n",
        "plt.show()"
      ],
      "metadata": {
        "colab": {
          "base_uri": "https://localhost:8080/",
          "height": 452
        },
        "id": "axbV_LOx0pbT",
        "outputId": "c7316fd3-4cac-4588-8028-b6ac17dc8cfb"
      },
      "execution_count": null,
      "outputs": [
        {
          "output_type": "display_data",
          "data": {
            "text/plain": [
              "<Figure size 640x480 with 1 Axes>"
            ],
            "image/png": "[encoded data removed]"
          },
          "metadata": {}
        }
      ]
    },
    {
      "cell_type": "code",
      "source": [
        "import pandas as pd\n",
        "df=pd.read_csv('/content/drive/MyDrive/drive/restaurants.csv')\n",
        "import matplotlib.pyplot as plt\n",
        "import seaborn as sns\n",
        "sns.violinplot(df['councilDistrict'])\n",
        "plt.show()"
      ],
      "metadata": {
        "colab": {
          "base_uri": "https://localhost:8080/",
          "height": 411
        },
        "id": "5LBsswtdMhPL",
        "outputId": "2e82ea51-8bcc-463d-92a2-871f335b90b8"
      },
      "execution_count": null,
      "outputs": [
        {
          "output_type": "display_data",
          "data": {
            "text/plain": [
              "<Figure size 640x480 with 1 Axes>"
            ],
            "image/png": "[encoded data removed]"
          },
          "metadata": {}
        }
      ]
    },
    {
      "cell_type": "markdown",
      "source": [
        "multivariate plot\n"
      ],
      "metadata": {
        "id": "rXqVNgERNPxe"
      }
    },
    {
      "cell_type": "code",
      "source": [
        "plt.scatter(df['zipCode'],df['councilDistrict'])\n",
        "plt.title(\"SCATTER PLOT\")\n",
        "plt.xlabel('zipCode')\n",
        "plt.ylabel('councilDistrict')\n",
        "plt.show()"
      ],
      "metadata": {
        "colab": {
          "base_uri": "https://localhost:8080/",
          "height": 472
        },
        "id": "PIlLjq36NC5Q",
        "outputId": "8e1e934d-c0fe-4414-9ca2-1c818c5a7cde"
      },
      "execution_count": null,
      "outputs": [
        {
          "output_type": "display_data",
          "data": {
            "text/plain": [
              "<Figure size 640x480 with 1 Axes>"
            ],
            "image/png": "[encoded data removed]"
          },
          "metadata": {}
        }
      ]
    },
    {
      "cell_type": "code",
      "source": [
        "import pandas as pd\n",
        "import seaborn as sns\n",
        "df=pd.read_csv('/content/drive/MyDrive/drive/restaurants.csv')\n",
        "import matplotlib.pyplot as plt\n",
        "sns.pairplot(df,vars=['zipCode','councilDistrict'])\n",
        "plt.show()"
      ],
      "metadata": {
        "colab": {
          "base_uri": "https://localhost:8080/",
          "height": 513
        },
        "id": "lsNqgz6YODzS",
        "outputId": "dba58df4-7936-4e50-c2ba-31c233eac3d0"
      },
      "execution_count": null,
      "outputs": [
        {
          "output_type": "display_data",
          "data": {
            "text/plain": [
              "<Figure size 500x500 with 6 Axes>"
            ],
            "image/png": "[encoded data removed]"
          },
          "metadata": {}
        }
      ]
    },
    {
      "cell_type": "code",
      "source": [
        "import pandas as pd\n",
        "import seaborn as sns\n",
        "df=pd.read_csv('/content/drive/MyDrive/drive/restaurants.csv')\n",
        "import matplotlib.pyplot as plt\n",
        "corr_matrix = df.corr(numeric_only=True)\n",
        "sns.heatmap(corr_matrix,annot=True)\n",
        "plt.title('Heatmap')\n",
        "plt.show()"
      ],
      "metadata": {
        "colab": {
          "base_uri": "https://localhost:8080/",
          "height": 452
        },
        "id": "wx-kDU6WOqq4",
        "outputId": "c00912ee-a080-449b-896d-a3d2b9e5b67d"
      },
      "execution_count": null,
      "outputs": [
        {
          "output_type": "display_data",
          "data": {
            "text/plain": [
              "<Figure size 640x480 with 2 Axes>"
            ],
            "image/png": "[encoded data removed]"
          },
          "metadata": {}
        }
      ]
    },
    {
      "cell_type": "code",
      "source": [
        "import pandas as pd\n",
        "from scipy.stats import norm\n",
        "data=pd.read_csv('/content/drive/MyDrive/drive/fifa-world-cup (1).csv')\n",
        "mean_gdp=data['GOALS'].mean()\n",
        "std_gdp=data['GOALS'].std()\n",
        "value=100\n",
        "z_score=(value-mean_gdp)/std_gdp\n",
        "probabality=1-norm.cdf(z_score)\n",
        "print(f'probabality GOALS greater than $(value):{probabality:.2%}')\n"
      ],
      "metadata": {
        "colab": {
          "base_uri": "https://localhost:8080/"
        },
        "id": "u04YuywmQDs5",
        "outputId": "654c9f30-d981-41bc-80d3-a8aa2446c370"
      },
      "execution_count": null,
      "outputs": [
        {
          "output_type": "stream",
          "name": "stdout",
          "text": [
            "probabality GOALS greater than $(value):71.73%\n"
          ]
        }
      ]
    },
    {
      "cell_type": "code",
      "source": [
        "import pandas as pd\n",
        "data=pd.read_csv('/content/drive/MyDrive/drive/restaurants.csv')\n",
        "print(data)"
      ],
      "metadata": {
        "colab": {
          "base_uri": "https://localhost:8080/"
        },
        "id": "f7N2Z8loTs64",
        "outputId": "f02485f2-7fef-4291-e336-6b970fb9d5ce"
      },
      "execution_count": null,
      "outputs": [
        {
          "output_type": "stream",
          "name": "stdout",
          "text": [
            "                           name  zipCode     neighborhood  councilDistrict  \\\n",
            "0                           410    21206        Frankford                2   \n",
            "1                          1919    21231      Fells Point                1   \n",
            "2                         SAUTE    21224           Canton                1   \n",
            "3            #1 CHINESE KITCHEN    21211          Hampden               14   \n",
            "4         #1 chinese restaurant    21223         Millhill                9   \n",
            "...                         ...      ...              ...              ...   \n",
            "1322  ZEN WEST ROADSIDE CANTINA    21212         Rosebank                4   \n",
            "1323                    ZIASCOS    21231  Washington Hill                1   \n",
            "1324                ZINK'S CAF    21213    Belair-Edison               13   \n",
            "1325               ZISSIMOS BAR    21211          Hampden                7   \n",
            "1326                     ZORBAS    21224        Greektown                2   \n",
            "\n",
            "     policeDistrict                           Location 1  \n",
            "0      NORTHEASTERN    4509 BELAIR ROAD\\nBaltimore, MD\\n  \n",
            "1      SOUTHEASTERN       1919 FLEET ST\\nBaltimore, MD\\n  \n",
            "2      SOUTHEASTERN      2844 HUDSON ST\\nBaltimore, MD\\n  \n",
            "3          NORTHERN     3998 ROLAND AVE\\nBaltimore, MD\\n  \n",
            "4      SOUTHWESTERN  2481 frederick ave\\nBaltimore, MD\\n  \n",
            "...             ...                                  ...  \n",
            "1322       NORTHERN        5916 YORK RD\\nBaltimore, MD\\n  \n",
            "1323   SOUTHEASTERN       1313 PRATT ST\\nBaltimore, MD\\n  \n",
            "1324   NORTHEASTERN   3300 LAWNVIEW AVE\\nBaltimore, MD\\n  \n",
            "1325       NORTHERN        1023 36TH ST\\nBaltimore, MD\\n  \n",
            "1326   SOUTHEASTERN    4710 EASTERN Ave\\nBaltimore, MD\\n  \n",
            "\n",
            "[1327 rows x 6 columns]\n"
          ]
        }
      ]
    },
    {
      "cell_type": "code",
      "source": [
        "import pandas as pd\n",
        "from scipy.stats import norm\n",
        "data=pd.read_csv('/content/drive/MyDrive/drive/restaurants.csv')\n",
        "mean_gdp=data['zipCode'].mean()\n",
        "std_gdp=data['zipCode'].std()\n",
        "value=20000\n",
        "z_score=(value-mean_gdp)/std_gdp\n",
        "probabality=1-norm.cdf(z_score)\n",
        "print(f'probabality zipCode greater than $(value):{probabality:.2%}')"
      ],
      "metadata": {
        "colab": {
          "base_uri": "https://localhost:8080/"
        },
        "id": "VUUZ6Om7UkrI",
        "outputId": "14c31357-b237-4816-9ed2-0e5dad929d81"
      },
      "execution_count": null,
      "outputs": [
        {
          "output_type": "stream",
          "name": "stdout",
          "text": [
            "probabality zipCode greater than $(value):84.54%\n"
          ]
        }
      ]
    }
  ],
  "metadata": {
    "colab": {
      "provenance": [],
      "mount_file_id": "19Yfs6lvD2EoEnitVpXdG5ajqYozChtMI",
      "authorship_tag": "ABX9TyMfQXZB8o7EyN7CmkkVR4xz",
      "include_colab_link": true
    },
    "kernelspec": {
      "display_name": "Python 3",
      "name": "python3"
    },
    "language_info": {
      "name": "python"
    }
  },
  "nbformat": 4,
  "nbformat_minor": 0
}